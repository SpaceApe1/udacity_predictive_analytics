{
 "cells": [
  {
   "cell_type": "markdown",
   "id": "every-entry",
   "metadata": {
    "tags": [],
    "toc-hr-collapsed": true
   },
   "source": [
    "# Predicting Catalog Demand"
   ]
  },
  {
   "cell_type": "markdown",
   "id": "advisory-cream",
   "metadata": {
    "tags": []
   },
   "source": [
    "# Step 1: Business and Data Understanding\n",
    "\n",
    "- A description of the key business decisions that need to be made.\n",
    "\n",
    "Note: Clean data is provided for this project, so you can skip the data preparation step of the Problem Solving Framewor"
   ]
  },
  {
   "cell_type": "code",
   "execution_count": null,
   "id": "broken-paint",
   "metadata": {},
   "outputs": [],
   "source": [
    "# import module\n",
    "import pandas as pd\n",
    "import matplotlib.pyplot as plt\n",
    "import statsmodels.api as sm\n",
    "import statsmodels.formula.api as smf\n",
    "\n",
    "# plt.style.use('seaborn-whitegrid')\n",
    "plt.rcParams['figure.figsize'] = [11, 7]"
   ]
  },
  {
   "cell_type": "code",
   "execution_count": null,
   "id": "photographic-ontario",
   "metadata": {},
   "outputs": [],
   "source": [
    "PRINT_COST = 6.50\n",
    "GROSS_MARGIN = 0.5\n",
    "TOTAL_MAIL = 250\n",
    "\n",
    "# for this to work, install openpyxl engine that can open .xlsx in pandas\n",
    "old_customers_data = pd.read_excel('p1-customers.xlsx')\n",
    "mailinglist_data = pd.read_excel('p1-mailinglist.xlsx')\n",
    "\n",
    "# renaming #_Years_as_Customer column to Num_Years_as_Customer\n",
    "old_customers_data = old_customers_data.rename(columns={'#_Years_as_Customer': 'Num_Years_as_Customer'})\n",
    "mailinglist_data = mailinglist_data.rename(columns={'#_Years_as_Customer': 'Num_Years_as_Customer'})"
   ]
  },
  {
   "source": [
    "## Customers Data\n",
    "\n",
    "'Name', 'Customer_Segment', 'Customer_ID', 'Address', 'City', 'State', 'ZIP', 'Avg_Sale_Amount', 'Store_Number', 'Responded_to_Last_Catalog', 'Avg_Num_Products_Purchased', 'Num_Years_as_Customer'\n",
    "\n",
    "## Mailing List Data\n",
    "\n",
    "'Name', 'Customer_Segment', 'Customer_ID', 'Address', 'City', 'State', 'ZIP', 'Store_Number', 'Avg_Num_Products_Purchased', '#_Years_as_Customer', 'Score_No', 'Score_Yes'\n",
    "\n",
    "- Target Variable: Avg_Sale_Amount\n",
    "\n",
    "- Unused Variable: Responded_to_Last_Catalog "
   ],
   "cell_type": "markdown",
   "metadata": {}
  },
  {
   "cell_type": "code",
   "execution_count": null,
   "metadata": {},
   "outputs": [],
   "source": [
    "# Drop Responded_to_Last_Catalog as it not present in Mail List Data\n",
    "old_customers_data = old_customers_data.drop(columns='Responded_to_Last_Catalog')"
   ]
  },
  {
   "cell_type": "code",
   "execution_count": null,
   "metadata": {},
   "outputs": [],
   "source": [
    "# Category Data\n",
    "\n",
    "# Customer_Segment\n",
    "# customer_segment = pd.get_dummies(old_customers_data['Customer_Segment'], prefix='Customer')\n",
    "# customer_segment.columns = [name.replace(' ','_') for name in customer_segment.columns]\n",
    "\n",
    "# City\n",
    "# city = pd.get_dummies(old_customers_data['City'], prefix='City')\n",
    "\n",
    "# State -> Data contain only single state CO [Not use in model]\n",
    "\n",
    "# Zip -> has 86 unique zip [Not use in model]\n",
    "\n",
    "#  Store_Number\n",
    "# store_number = pd.get_dummies(old_customers_data['Store_Number'], prefix='Store_ID')\n",
    "\n",
    "# Join Categories to Dataframe\n",
    "# old_customers_data_with_categories = old_customers_data.join([customer_segment, city, store_number])"
   ]
  },
  {
   "cell_type": "markdown",
   "id": "based-estonia",
   "metadata": {
    "heading_collapsed": "true",
    "tags": []
   },
   "source": [
    "# Step 2: Analysis, Modeling, and Validation\n",
    "\n",
    "Build a linear regression model, then use it to predict sales for the 250 customers. We encourage you to use Alteryx to build the best linear model with your data.\n",
    "\n",
    "Note: For students using software other than Alteryx, if you decide to use Customer Segment as one of your predictor variables, please set the base case to Credit Card Only.\n",
    "\n",
    "However, feel free to use any tool you’d like. You should create your linear regression model and come up with a linear regression equation.\n",
    "\n",
    "Once you have your linear regression equation, you should use your linear regression equation to predict sales for the individual people in your mailing list."
   ]
  },
  {
   "cell_type": "code",
   "execution_count": null,
   "metadata": {},
   "outputs": [],
   "source": [
    "# On checking p-value on summary.\n",
    "# Data to use for model: \n",
    "# X -> Customer_Segment, #_Years_as_Customer, Avg_Num_Products_Purchased\n",
    "# Y -> Avg_Sale_Amount\n",
    "\n",
    "model = smf.ols(formula='Avg_Sale_Amount ~ Customer_Segment + Avg_Num_Products_Purchased', data=old_customers_data)\n",
    "\n",
    "result = model.fit()\n",
    "\n",
    "result.summary()"
   ]
  },
  {
   "cell_type": "code",
   "execution_count": null,
   "metadata": {},
   "outputs": [],
   "source": [
    "print('Coef:')\n",
    "print(result.params)"
   ]
  },
  {
   "source": [
    "## Model Formula\n",
    "\n",
    "Avg_Sale_Amount = 303.46 + Customer_Segment + 66.98 x Avg_Num_Products_Purchased"
   ],
   "cell_type": "markdown",
   "metadata": {}
  },
  {
   "cell_type": "code",
   "execution_count": null,
   "metadata": {},
   "outputs": [],
   "source": [
    "# Predicting mailing list data\n",
    "predict = result.predict(mailinglist_data)\n",
    "mailinglist_data['Avg_Sale_Amount'] = predict"
   ]
  },
  {
   "cell_type": "markdown",
   "id": "medical-rental",
   "metadata": {
    "tags": []
   },
   "source": [
    "# Step 3: Writeup\n",
    "\n",
    "Once you have your predicted or expected profit, write a brief report with your recommendation to whether the company should send the catalog or not.\n",
    "\n",
    "Hint: We want to calculate the expected revenue from these 250 people in order to get expected profit. This means we need to multiply the probability that a person will buy our catalog as well. For example, if a customer were to buy from us, we predict this customer will buy $450 worth of products. At a 30% chance that this person will actually buy from us, we can expect revenue to be $450 x 30% = $135."
   ]
  },
  {
   "cell_type": "code",
   "execution_count": null,
   "id": "smart-bones",
   "metadata": {},
   "outputs": [],
   "source": [
    "mailinglist_data['expected_revenue'] = mailinglist_data['Score_Yes'] * mailinglist_data['Avg_Sale_Amount']\n",
    "total_revenue = sum(mailinglist_data['expected_revenue'])\n",
    "final_profit = total_revenue * .5 - PRINT_COST * TOTAL_MAIL\n",
    "print(final_profit)"
   ]
  },
  {
   "cell_type": "code",
   "execution_count": null,
   "metadata": {},
   "outputs": [],
   "source": []
  }
 ],
 "metadata": {
  "kernelspec": {
   "display_name": "Python 3.9.2 64-bit ('.venv': venv)",
   "language": "python",
   "name": "python392jvsc74a57bd054a4a8b27b6ed1395e224b026c9de49a3e8cb01979e954eaf27dc7dba9d87243"
  },
  "language_info": {
   "codemirror_mode": {
    "name": "ipython",
    "version": 3
   },
   "file_extension": ".py",
   "mimetype": "text/x-python",
   "name": "python",
   "nbconvert_exporter": "python",
   "pygments_lexer": "ipython3",
   "version": "3.9.2"
  },
  "toc-autonumbering": false,
  "toc-showmarkdowntxt": false,
  "toc-showtags": false
 },
 "nbformat": 4,
 "nbformat_minor": 5
}