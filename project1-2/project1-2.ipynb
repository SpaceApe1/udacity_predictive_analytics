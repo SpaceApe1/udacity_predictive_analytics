{
 "cells": [
  {
   "cell_type": "markdown",
   "id": "every-entry",
   "metadata": {
    "tags": [],
    "toc-hr-collapsed": true
   },
   "source": [
    "# Predicting Catalog Demand"
   ]
  },
  {
   "cell_type": "markdown",
   "id": "advisory-cream",
   "metadata": {
    "tags": []
   },
   "source": [
    "# Step 1: Business and Data Understanding\n",
    "\n",
    "- A description of the key business decisions that need to be made.\n",
    "\n",
    "Note: Clean data is provided for this project, so you can skip the data preparation step of the Problem Solving Framewor"
   ]
  },
  {
   "cell_type": "code",
   "execution_count": null,
   "id": "broken-paint",
   "metadata": {},
   "outputs": [],
   "source": [
    "# import module\n",
    "import pandas as pd\n",
    "import matplotlib.pyplot as plt\n",
    "\n",
    "# plt.style.use('seaborn-whitegrid')\n",
    "plt.rcParams['figure.figsize'] = [11, 7]"
   ]
  },
  {
   "cell_type": "code",
   "execution_count": null,
   "id": "photographic-ontario",
   "metadata": {},
   "outputs": [],
   "source": [
    "PRINT_COST = 6.50\n",
    "GROSS_MARGIN = 0.5\n",
    "TOTAL_MAIL = 250\n",
    "old_customers_data = pd.read_excel('p1-customers.xlsx')\n",
    "mailinglist_data = pd.read_excel('p1-mailinglist.xlsx')"
   ]
  },
  {
   "cell_type": "code",
   "execution_count": null,
   "id": "recorded-harris",
   "metadata": {},
   "outputs": [],
   "source": [
    "print('Old Data:\\n', list(old_customers_data.columns))\n",
    "print('\\nMail Data:\\n', list(mailinglist_data.columns))"
   ]
  },
  {
   "cell_type": "code",
   "execution_count": null,
   "id": "other-folks",
   "metadata": {},
   "outputs": [],
   "source": []
  },
  {
   "cell_type": "markdown",
   "id": "based-estonia",
   "metadata": {
    "heading_collapsed": "true",
    "tags": []
   },
   "source": [
    "# Step 2: Analysis, Modeling, and Validation\n",
    "\n",
    "Build a linear regression model, then use it to predict sales for the 250 customers. We encourage you to use Alteryx to build the best linear model with your data.\n",
    "\n",
    "Note: For students using software other than Alteryx, if you decide to use Customer Segment as one of your predictor variables, please set the base case to Credit Card Only.\n",
    "\n",
    "However, feel free to use any tool you’d like. You should create your linear regression model and come up with a linear regression equation.\n",
    "\n",
    "Once you have your linear regression equation, you should use your linear regression equation to predict sales for the individual people in your mailing list."
   ]
  },
  {
   "cell_type": "code",
   "execution_count": null,
   "id": "short-parcel",
   "metadata": {},
   "outputs": [],
   "source": []
  },
  {
   "cell_type": "markdown",
   "id": "medical-rental",
   "metadata": {
    "tags": []
   },
   "source": [
    "# Step 3: Writeup\n",
    "\n",
    "Once you have your predicted or expected profit, write a brief report with your recommendation to whether the company should send the catalog or not.\n",
    "\n",
    "Hint: We want to calculate the expected revenue from these 250 people in order to get expected profit. This means we need to multiply the probability that a person will buy our catalog as well. For example, if a customer were to buy from us, we predict this customer will buy $450 worth of products. At a 30% chance that this person will actually buy from us, we can expect revenue to be $450 x 30% = $135."
   ]
  },
  {
   "cell_type": "code",
   "execution_count": null,
   "id": "smart-bones",
   "metadata": {},
   "outputs": [],
   "source": []
  }
 ],
 "metadata": {
  "kernelspec": {
   "display_name": "Python 3",
   "language": "python",
   "name": "python3"
  },
  "language_info": {
   "codemirror_mode": {
    "name": "ipython",
    "version": 3
   },
   "file_extension": ".py",
   "mimetype": "text/x-python",
   "name": "python",
   "nbconvert_exporter": "python",
   "pygments_lexer": "ipython3",
   "version": "3.9.2"
  },
  "toc-autonumbering": false,
  "toc-showmarkdowntxt": false,
  "toc-showtags": false
 },
 "nbformat": 4,
 "nbformat_minor": 5
}
