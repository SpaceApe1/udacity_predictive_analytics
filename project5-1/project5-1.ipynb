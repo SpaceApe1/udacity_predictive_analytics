{
 "metadata": {
  "language_info": {
   "codemirror_mode": {
    "name": "ipython",
    "version": 3
   },
   "file_extension": ".py",
   "mimetype": "text/x-python",
   "name": "python",
   "nbconvert_exporter": "python",
   "pygments_lexer": "ipython3",
   "version": "3.9.6"
  },
  "orig_nbformat": 4,
  "kernelspec": {
   "name": "python3",
   "display_name": "Python 3.9.6 64-bit ('base': conda)"
  },
  "interpreter": {
   "hash": "98b0a9b7b4eaaa670588a142fd0a9b87eaafe866f1db4228be72b4211d12040f"
  }
 },
 "nbformat": 4,
 "nbformat_minor": 2,
 "cells": [
  {
   "cell_type": "markdown",
   "source": [
    "# A/B Test: A New Menu Launch\n",
    "## Project Overview\n",
    "You're a business analyst for Round Roasters, a coffee restaurant in the United States of America. The executive team conducted a market test with a new menu and needs to figure whether the new menu can drive enough sales to offset the cost of marketing the new menu. Your job is to analyze the A/B test and write up a recommendation to whether the Round Roasters chain should launch this new menu."
   ],
   "metadata": {}
  },
  {
   "cell_type": "code",
   "execution_count": null,
   "source": [
    "# Load package\n",
    "from datetime import datetime, timedelta\n",
    "import pandas as pd\n",
    "import numpy as np\n",
    "from scipy.stats import ttest_ind, ttest_rel\n",
    "from sklearn.neighbors import KDTree\n",
    "from sklearn.compose import ColumnTransformer\n",
    "from sklearn.preprocessing import StandardScaler\n",
    "\n",
    "from statsmodels.tsa.seasonal import seasonal_decompose\n",
    "\n",
    "import matplotlib.pyplot as plt\n",
    "# plt.style.use('seaborn-whitegrid')\n",
    "plt.rcParams['figure.figsize'] = [12, 12]"
   ],
   "outputs": [],
   "metadata": {}
  },
  {
   "cell_type": "markdown",
   "source": [
    "## Step 1: Plan Your Analysis\n",
    "To perform the correct analysis, you will need to prepare a data set. Prior to rolling up your sleeves and preparing the data, it’s a good idea to have a plan of what you need to do in order to prepare the correct data set. A good plan will help you with your analysis. Here are a few questions to get you started:\n",
    "\n",
    "-What is the performance metric you’ll use to evaluate the results of your test?  \n",
    "-What is the test period?  \n",
    "-At what level (day, week, month, etc.) should the data be aggregated?  "
   ],
   "metadata": {}
  },
  {
   "cell_type": "code",
   "execution_count": null,
   "source": [
    "# load Stores data\n",
    "stores_data = pd.read_csv('round-roaster-stores.csv')\n",
    "stores_data.info()"
   ],
   "outputs": [],
   "metadata": {}
  },
  {
   "cell_type": "code",
   "execution_count": null,
   "source": [
    "stores_data.head(3)"
   ],
   "outputs": [],
   "metadata": {}
  },
  {
   "cell_type": "code",
   "execution_count": null,
   "source": [
    "# load Transactions data\n",
    "# force Invoice Date column to datetime \n",
    "transactions_data = pd.read_csv('RoundRoastersTransactions.csv', parse_dates=['Invoice Date'])\n",
    "transactions_data.info()"
   ],
   "outputs": [],
   "metadata": {}
  },
  {
   "cell_type": "code",
   "execution_count": null,
   "source": [
    "transactions_data.head()"
   ],
   "outputs": [],
   "metadata": {}
  },
  {
   "cell_type": "code",
   "execution_count": null,
   "source": [
    "# load Treatment Stores data\n",
    "treatment_stores_data = pd.read_csv('treatment-stores.csv')\n",
    "treatment_stores_data.info()"
   ],
   "outputs": [],
   "metadata": {}
  },
  {
   "cell_type": "code",
   "execution_count": null,
   "source": [
    "treatment_stores_data.head(3)"
   ],
   "outputs": [],
   "metadata": {}
  },
  {
   "cell_type": "markdown",
   "source": [
    "## Step 2: Clean Up Your Data\n",
    "In this step, you should prepare the data for steps 3 and 4. You should aggregate the transaction data to the appropriate level and filter on the appropriate data ranges. You can assume that there is no missing, incomplete, duplicate, or dirty data. You’re ready to move on to the next step when you have weekly transaction data for all stores."
   ],
   "metadata": {}
  },
  {
   "cell_type": "code",
   "execution_count": null,
   "source": [
    "# Test cities: Denver and Chicago\n",
    "# Treatment: 12 Weeks [2016-April-29 to 2016-July-21], start on Friday\n",
    "# Control: 12 Weeks [(2015-April-29 to 2015-July-21], start on Wednesday\n",
    "# Total weeks to identify trend and season: 52 Weeks + treatment weeks + control weeks = 52 + 12 + 12 = 76 Weeks\n",
    "\n",
    "data_end_date = datetime(2016, 7, 21)\n",
    "data_start_date = data_end_date - timedelta(weeks=76)\n",
    "print(f'Data Start Date: {data_start_date} \\nData End Date: {data_end_date}')"
   ],
   "outputs": [],
   "metadata": {}
  },
  {
   "cell_type": "code",
   "execution_count": null,
   "source": [
    "# Filter data for further process\n",
    "_trans = transactions_data.query('`Invoice Date` > @data_start_date and `Invoice Date` <= @data_end_date')\n",
    "# Make Invoice Date Index\n",
    "_trans.set_index('Invoice Date', inplace=True)\n",
    "\n",
    "# Aggregate the data to get the weekly gross margin and weekly traffic count unique invoices\n",
    "agg_rules = {'Gross Margin': 'sum', 'Invoice Number': 'nunique'}\n",
    "_trans = _trans.groupby([pd.Grouper(freq='W-FRI', closed='left'), 'StoreID']).agg(agg_rules).reset_index()\n",
    "_trans.rename(columns={'Invoice Number': 'Weekly Foot Traffic'}, inplace=True)\n",
    "\n",
    "# Hack to start week on first date\n",
    "_trans['Invoice Date'] = _trans['Invoice Date'] - pd.offsets.Week(1)\n",
    "\n",
    "# Create Trend and Seasonal\n",
    "result = seasonal_decompose(_trans['Weekly Foot Traffic'], period=12, extrapolate_trend='freq')\n",
    "\n",
    "# Add Trend and Seasonal weekly gross data\n",
    "_trans = _trans.assign(Trend = result.trend, Seasonal = result.seasonal)\n",
    "\n",
    "# join weekly transactions and stores data \n",
    "stores_columns = ['StoreID', 'Sq_Ft', 'AvgMonthSales', 'Region']\n",
    "_trans = _trans.merge(stores_data[stores_columns], on='StoreID')\n",
    "\n",
    "# Add group variables to merged data\n",
    "_is_treatment = _trans['StoreID'].isin(treatment_stores_data['StoreID'])\n",
    "weekly_gross_and_traffic = _trans.assign(Group = np.where(_is_treatment, 'Treatment', 'Control'))\n",
    "\n",
    "# Test the progress\n",
    "weekly_gross_and_traffic.query('StoreID == 10018 and `Invoice Date` == @datetime(2015, 2, 6)')"
   ],
   "outputs": [],
   "metadata": {}
  },
  {
   "cell_type": "code",
   "execution_count": null,
   "source": [
    "# Filter Post and Pre test data\n",
    "post_data = weekly_gross_and_traffic.query('`Invoice Date` >= @datetime(2016, 4, 29)')\n",
    "pre_data = weekly_gross_and_traffic.query('`Invoice Date` >= @datetime(2015, 4, 29) and `Invoice Date` <= @datetime(2015, 7, 21)')\n",
    "\n",
    "pre_data.head()"
   ],
   "outputs": [],
   "metadata": {}
  },
  {
   "cell_type": "code",
   "execution_count": null,
   "source": [
    "# Aggregate Pre and Post data per store\n",
    "agg_store_rules = {\n",
    "    'Gross Margin': 'sum', \n",
    "    'Weekly Foot Traffic': 'sum', \n",
    "    'Trend': 'sum', \n",
    "    'Seasonal': 'sum', \n",
    "    'Sq_Ft': 'first',\n",
    "    'AvgMonthSales': 'first',\n",
    "    'Region': 'first',\n",
    "    'Group': 'first'\n",
    "}\n",
    "\n",
    "def agg_per_store(df, rule = agg_store_rules):\n",
    "    return df.groupby(['StoreID'], as_index=False).agg(agg_rules)"
   ],
   "outputs": [],
   "metadata": {}
  },
  {
   "cell_type": "code",
   "execution_count": null,
   "source": [
    "# Pre Data per store\n",
    "pre_data_per_store = agg_per_store(pre_data)\n",
    "\n",
    "# Post Data per store\n",
    "post_data_per_store = agg_per_store(post_data)"
   ],
   "outputs": [],
   "metadata": {}
  },
  {
   "cell_type": "code",
   "execution_count": null,
   "source": [
    "post_data_per_store.head()"
   ],
   "outputs": [],
   "metadata": {}
  },
  {
   "cell_type": "markdown",
   "source": [
    "## Step 3: Match Treatment and Control Units\r\n",
    "In this step, you should create the trend and seasonality variables, and use them along with you other control variable(s) to match two control units to each treatment unit. Treatment stores should be matched to control stores in the same region. Note: Calculate the number of transactions per store per week and use 12 periods to calculate trend and seasonality.  \r\n",
    "\r\n",
    "Apart from trend and seasonality...  \r\n",
    "\r\n",
    "-What control variables should be considered? Note: Only consider variables in the RoundRoastersStore file.  \r\n",
    "-What is the correlation between your each potential control variable and your performance metric? (Example of correlation matrix below)  \r\n",
    "-What control variables will you use to match treatment and control stores?"
   ],
   "metadata": {}
  },
  {
   "cell_type": "code",
   "execution_count": null,
   "source": [
    "# Correlation Gross Margin and Stores variables\n",
    "pre_data_per_store[['Gross Margin', 'Sq_Ft', 'AvgMonthSales']].corr().round(2)\n"
   ],
   "outputs": [],
   "metadata": {}
  },
  {
   "cell_type": "code",
   "execution_count": null,
   "source": [
    "selected_variables = ['Trend', 'Seasonal', 'AvgMonthSales']\n",
    "selected_variables"
   ],
   "outputs": [],
   "metadata": {}
  },
  {
   "cell_type": "markdown",
   "source": [
    "## Step 4: Analysis and Writeup\r\n",
    "Conduct your A/B analysis and create a short report outlining your results and recommendations.  \r\n",
    "\r\n",
    "In an AB Analysis we use the correlation matrix to find the most correlated variable to the performance metric to include in the AB controls tool to help find the best matches."
   ],
   "metadata": {}
  },
  {
   "cell_type": "code",
   "execution_count": null,
   "source": [
    "# Match Pre Treatment and Control Stores\n",
    "pre_control_stores = pre_data_per_store.query('Group == \"Control\"')\n",
    "pre_treatment_stores = pre_data_per_store.query('Group == \"Treatment\"')\n",
    "regions = ['Central', 'West']\n",
    "transformer = ColumnTransformer([('scaler', StandardScaler(), selected_variables)], remainder='drop')\n",
    "transformer.fit(pre_control_stores)\n"
   ],
   "outputs": [],
   "metadata": {}
  },
  {
   "cell_type": "code",
   "execution_count": null,
   "source": [
    "# TODO\n",
    "# Matched Treatment and Stores - version: 2\n",
    "# return: 'Treatment store ID', 'Control store ID', 'Pre store gross', 'Post store gross', 'Region'\n"
   ],
   "outputs": [],
   "metadata": {}
  },
  {
   "cell_type": "code",
   "execution_count": null,
   "source": [
    "# TODO\n",
    "# TTest to find if the pre and post mean of treatments are not random\n"
   ],
   "outputs": [],
   "metadata": {}
  },
  {
   "cell_type": "code",
   "execution_count": null,
   "source": [
    "# TODO\n",
    "# compare the changes from pre and post between treatment and control\n"
   ],
   "outputs": [],
   "metadata": {}
  }
 ]
}