{
 "metadata": {
  "language_info": {
   "codemirror_mode": {
    "name": "ipython",
    "version": 3
   },
   "file_extension": ".py",
   "mimetype": "text/x-python",
   "name": "python",
   "nbconvert_exporter": "python",
   "pygments_lexer": "ipython3",
   "version": "3.9.6"
  },
  "orig_nbformat": 4,
  "kernelspec": {
   "name": "python3",
   "display_name": "Python 3.9.6 64-bit ('base': conda)"
  },
  "interpreter": {
   "hash": "98b0a9b7b4eaaa670588a142fd0a9b87eaafe866f1db4228be72b4211d12040f"
  }
 },
 "nbformat": 4,
 "nbformat_minor": 2,
 "cells": [
  {
   "cell_type": "markdown",
   "source": [
    "# A/B Test: A New Menu Launch\n",
    "## Project Overview\n",
    "You're a business analyst for Round Roasters, a coffee restaurant in the United States of America. The executive team conducted a market test with a new menu and needs to figure whether the new menu can drive enough sales to offset the cost of marketing the new menu. Your job is to analyze the A/B test and write up a recommendation to whether the Round Roasters chain should launch this new menu."
   ],
   "metadata": {}
  },
  {
   "cell_type": "code",
   "execution_count": null,
   "source": [
    "# Load package\n",
    "from datetime import datetime, timedelta\n",
    "import pandas as pd\n",
    "import numpy as np\n",
    "from scipy.stats import ttest_ind\n",
    "from sklearn.neighbors import KDTree\n",
    "from sklearn.compose import ColumnTransformer\n",
    "from sklearn.preprocessing import StandardScaler\n",
    "\n",
    "from statsmodels.tsa.seasonal import seasonal_decompose\n",
    "\n",
    "import matplotlib.pyplot as plt\n",
    "# plt.style.use('seaborn-whitegrid')\n",
    "plt.rcParams['figure.figsize'] = [12, 12]"
   ],
   "outputs": [],
   "metadata": {}
  },
  {
   "cell_type": "markdown",
   "source": [
    "## Step 1: Plan Your Analysis\n",
    "To perform the correct analysis, you will need to prepare a data set. Prior to rolling up your sleeves and preparing the data, it’s a good idea to have a plan of what you need to do in order to prepare the correct data set. A good plan will help you with your analysis. Here are a few questions to get you started:\n",
    "\n",
    "-What is the performance metric you’ll use to evaluate the results of your test?  \n",
    "-What is the test period?  \n",
    "-At what level (day, week, month, etc.) should the data be aggregated?  "
   ],
   "metadata": {}
  },
  {
   "cell_type": "code",
   "execution_count": null,
   "source": [
    "# load Stores data\n",
    "stores_data = pd.read_csv('round-roaster-stores.csv')\n",
    "stores_data.info()"
   ],
   "outputs": [],
   "metadata": {}
  },
  {
   "cell_type": "code",
   "execution_count": null,
   "source": [
    "stores_data.head(3)"
   ],
   "outputs": [],
   "metadata": {}
  },
  {
   "cell_type": "code",
   "execution_count": null,
   "source": [
    "# load Transactions data\n",
    "# force Invoice Date column to datetime \n",
    "transactions_data = pd.read_csv('RoundRoastersTransactions.csv', parse_dates=['Invoice Date'])\n",
    "transactions_data.info()"
   ],
   "outputs": [],
   "metadata": {}
  },
  {
   "cell_type": "code",
   "execution_count": null,
   "source": [
    "transactions_data.head()"
   ],
   "outputs": [],
   "metadata": {}
  },
  {
   "cell_type": "code",
   "execution_count": null,
   "source": [
    "# load Treatment Stores data\n",
    "treatment_stores_data = pd.read_csv('treatment-stores.csv')\n",
    "treatment_stores_data.info()"
   ],
   "outputs": [],
   "metadata": {}
  },
  {
   "cell_type": "code",
   "execution_count": null,
   "source": [
    "treatment_stores_data.head(3)"
   ],
   "outputs": [],
   "metadata": {}
  },
  {
   "cell_type": "markdown",
   "source": [
    "## Step 2: Clean Up Your Data\n",
    "In this step, you should prepare the data for steps 3 and 4. You should aggregate the transaction data to the appropriate level and filter on the appropriate data ranges. You can assume that there is no missing, incomplete, duplicate, or dirty data. You’re ready to move on to the next step when you have weekly transaction data for all stores."
   ],
   "metadata": {}
  },
  {
   "cell_type": "code",
   "execution_count": null,
   "source": [
    "# Test cities: Denver and Chicago\n",
    "# Treatment: 12 Weeks [2016-April-29 to 2016-July-21], start on Friday\n",
    "# Control: 12 Weeks [(2015-April-29 to 2015-July-21], start on Wednesday\n",
    "# Total weeks to identify trend and season: 52 Weeks + treatment weeks + control weeks = 52 + 12 + 12 = 76 Weeks\n",
    "\n",
    "data_end_date = datetime(2016, 7, 21)\n",
    "data_start_date = data_end_date - timedelta(weeks=76)\n",
    "print(f'Data Start Date: {data_start_date} \\nData End Date: {data_end_date}')"
   ],
   "outputs": [],
   "metadata": {}
  },
  {
   "cell_type": "code",
   "execution_count": null,
   "source": [
    "# Filter data for further process\n",
    "filtered_transactions_data = transactions_data.query('`Invoice Date` > @data_start_date and `Invoice Date` <= @data_end_date')\n",
    "# Make Invoice Date Index\n",
    "filtered_transactions_data.set_index('Invoice Date', inplace=True)\n",
    "\n",
    "filtered_transactions_data.head(10)"
   ],
   "outputs": [],
   "metadata": {}
  },
  {
   "cell_type": "code",
   "execution_count": null,
   "source": [
    "# Aggregate the data to get the weekly gross margin and weekly traffic count unique invoices\n",
    "weekly_gross_and_traffic = filtered_transactions_data.groupby([pd.Grouper(freq='W-FRI', closed='left'), 'StoreID'], as_index=True).agg({'Gross Margin': 'sum', 'Invoice Number': 'nunique'}).reset_index()\n",
    "weekly_gross_and_traffic.rename(columns={'Invoice Number': 'Weekly Foot Traffic'}, inplace=True)\n",
    "\n",
    "# Hack to start week on first date\n",
    "weekly_gross_and_traffic['Invoice Date'] = weekly_gross_and_traffic['Invoice Date'] - pd.offsets.Week(1)\n",
    "weekly_gross_and_traffic.head()"
   ],
   "outputs": [],
   "metadata": {}
  },
  {
   "cell_type": "code",
   "execution_count": null,
   "source": [
    "# Find Trend and Seasonality\n",
    "stores_ID_list = list(weekly_gross_and_traffic['StoreID'].unique())\n",
    "df_list = []\n",
    "for store_id in stores_ID_list:\n",
    "    store_df = weekly_gross_and_traffic.query('StoreID == @store_id')\n",
    "    result = seasonal_decompose(store_df['Weekly Foot Traffic'].values, period=12, extrapolate_trend='freq')\n",
    "    store_df = store_df.assign(Trend = result.trend, Seasonal = result.seasonal)\n",
    "    df_list.append(store_df)\n",
    "\n",
    "cleaned_data = pd.concat(df_list)\n",
    "\n",
    "# merge cleaned data with stores data\n",
    "stores_columns = ['StoreID', 'Sq_Ft', 'AvgMonthSales', 'Region']\n",
    "transactions_stores_merged= cleaned_data.merge(stores_data[stores_columns], on='StoreID')\n",
    "transactions_stores_merged.head()"
   ],
   "outputs": [],
   "metadata": {}
  },
  {
   "cell_type": "code",
   "execution_count": null,
   "source": [
    "# How many transactions did you get for Store 10018 in the week starting 2015-02-06?\n",
    "transactions_stores_merged.query('StoreID == 10018 and `Invoice Date` == @datetime(2015, 2, 6)')"
   ],
   "outputs": [],
   "metadata": {}
  },
  {
   "cell_type": "code",
   "execution_count": null,
   "source": [
    "# Correlation between control variable and perfromance metric\n",
    "transactions_stores_merged.drop(columns='StoreID').corr().round(2)\n"
   ],
   "outputs": [],
   "metadata": {}
  },
  {
   "cell_type": "code",
   "execution_count": null,
   "source": [
    "# Correlated variables to be used in KDTree \n",
    "control_variables = ['Gross Margin', 'Weekly Foot Traffic', 'Trend', 'AvgMonthSales']\n",
    "\n",
    "control_variables"
   ],
   "outputs": [],
   "metadata": {}
  },
  {
   "cell_type": "markdown",
   "source": [
    "## Step 3: Match Treatment and Control Units\r\n",
    "In this step, you should create the trend and seasonality variables, and use them along with you other control variable(s) to match two control units to each treatment unit. Treatment stores should be matched to control stores in the same region. Note: Calculate the number of transactions per store per week and use 12 periods to calculate trend and seasonality.  \r\n",
    "\r\n",
    "Apart from trend and seasonality...  \r\n",
    "\r\n",
    "-What control variables should be considered? Note: Only consider variables in the RoundRoastersStore file.  \r\n",
    "-What is the correlation between your each potential control variable and your performance metric? (Example of correlation matrix below)  \r\n",
    "-What control variables will you use to match treatment and control stores?"
   ],
   "metadata": {}
  },
  {
   "cell_type": "code",
   "execution_count": null,
   "source": [
    "# region data control\n",
    "west_region_control = transactions_stores_merged.query('Region == \"West\"').reset_index().drop(columns='index')\n",
    "central_region_control = transactions_stores_merged.query('Region == \"Central\"').reset_index().drop(columns='index')\n",
    "\n",
    "print(central_region_control.info())\n",
    "\n",
    "# region data treatment\n",
    "west_region_treatment = treatment_stores_data.query('Region == \"West\"')['StoreID'].values\n",
    "central_region_treatment = treatment_stores_data.query('Region == \"Central\"')['StoreID'].values\n",
    "print(west_region_treatment)"
   ],
   "outputs": [],
   "metadata": {}
  },
  {
   "cell_type": "code",
   "execution_count": null,
   "source": [
    "# Scale the features\n",
    "transformer = ColumnTransformer([('scaler', StandardScaler(), control_variables)], remainder='drop')\n",
    "scaled_west_region_control = transformer.fit_transform(west_region_control)\n",
    "scaled_central_region_control = transformer.fit_transform(central_region_control)\n",
    "# KDtree for west\n",
    "west_kdtree = KDTree(scaled_west_region_control, leaf_size=2)\n",
    "# KDtree for central\n",
    "central_kdtree = KDTree(scaled_central_region_control, leaf_size=2)"
   ],
   "outputs": [],
   "metadata": {}
  },
  {
   "cell_type": "markdown",
   "source": [
    "## Step 4: Analysis and Writeup\n",
    "Conduct your A/B analysis and create a short report outlining your results and recommendations.  \n",
    "\n",
    "In an AB Analysis we use the correlation matrix to find the most correlated variable to the performance metric to include in the AB controls tool to help find the best matches."
   ],
   "metadata": {}
  }
 ]
}