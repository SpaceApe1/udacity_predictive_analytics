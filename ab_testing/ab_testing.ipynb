{
 "metadata": {
  "language_info": {
   "codemirror_mode": {
    "name": "ipython",
    "version": 3
   },
   "file_extension": ".py",
   "mimetype": "text/x-python",
   "name": "python",
   "nbconvert_exporter": "python",
   "pygments_lexer": "ipython3",
   "version": "3.9.5"
  },
  "orig_nbformat": 4,
  "kernelspec": {
   "name": "python3",
   "display_name": "Python 3.9.5 64-bit ('.venv': venv)"
  },
  "interpreter": {
   "hash": "5cba3963c37d400916a9e80ad5acd0c56daed180f4961ad2a064f19bb9bbda97"
  }
 },
 "nbformat": 4,
 "nbformat_minor": 2,
 "cells": [
  {
   "cell_type": "markdown",
   "source": [
    "# A/B Testing\n",
    "\n",
    "## Test of Means Analysis\n",
    "Statistical calculation of whether the mean values of the treatment and control groups are the same\n",
    "\n",
    "## T-Test\n",
    "Give p-value - likelihood the actual difference between the means is zero.  \n",
    "p-value < 0.05 (statistically significant)  \n",
    "T-test is important when working in small data set\n",
    "\n",
    "There are three types of t-tests you can use:  \n",
    "1. Paired  \n",
    "2. Equal variance  \n",
    "3. Unequal variance  \n",
    "\n",
    "In a random experiment you will usually assume that variances between the groups are different, so we’ll use an unequal variance t-test."
   ],
   "metadata": {}
  },
  {
   "cell_type": "code",
   "execution_count": null,
   "source": [
    "# load package\r\n",
    "import pandas as pd\r\n",
    "import numpy as np\r\n",
    "from scipy.stats import ttest_ind\r\n",
    "from sklearn.neighbors import KDTree, NearestNeighbors\r\n",
    "from sklearn.compose import ColumnTransformer\r\n",
    "from sklearn.preprocessing import StandardScaler"
   ],
   "outputs": [],
   "metadata": {}
  },
  {
   "cell_type": "markdown",
   "source": [
    "## Supper Hero Data"
   ],
   "metadata": {}
  },
  {
   "cell_type": "code",
   "execution_count": null,
   "source": [
    "super_hero = pd.read_excel('superherodata.xlsx')\r\n",
    "super_hero"
   ],
   "outputs": [],
   "metadata": {}
  },
  {
   "cell_type": "code",
   "execution_count": null,
   "source": [
    "useful_columns = list(super_hero.columns)[:8]\r\n",
    "useful_columns"
   ],
   "outputs": [],
   "metadata": {}
  },
  {
   "cell_type": "code",
   "execution_count": null,
   "source": [
    "super_hero_clean_data = super_hero[useful_columns].dropna()\r\n",
    "super_hero_clean_data"
   ],
   "outputs": [],
   "metadata": {}
  },
  {
   "cell_type": "code",
   "execution_count": null,
   "source": [
    "good = super_hero_clean_data[super_hero_clean_data['Alignment']=='good'].select_dtypes(exclude='O')\r\n",
    "good"
   ],
   "outputs": [],
   "metadata": {}
  },
  {
   "cell_type": "code",
   "execution_count": null,
   "source": [
    "bad = super_hero_clean_data[super_hero_clean_data['Alignment']=='bad'].select_dtypes(exclude='O')\r\n",
    "bad"
   ],
   "outputs": [],
   "metadata": {}
  },
  {
   "cell_type": "code",
   "execution_count": null,
   "source": [
    "sp = ttest_ind(good, bad, equal_var=False)\r\n",
    "print('Statistic:', sp.statistic)\r\n",
    "print('pvalue:', sp.pvalue)"
   ],
   "outputs": [],
   "metadata": {}
  },
  {
   "cell_type": "markdown",
   "source": [
    "## Customer Support Time Study Data"
   ],
   "metadata": {}
  },
  {
   "cell_type": "code",
   "execution_count": null,
   "source": [
    "customer_data = pd.read_excel('customersupporttimestudydata.xlsx', header=2)\r\n",
    "customer_data"
   ],
   "outputs": [],
   "metadata": {}
  },
  {
   "cell_type": "code",
   "execution_count": null,
   "source": [
    "customer_data = customer_data.dropna().drop(index=8).drop(columns='Customer Onboarding Process').astype('float')\r\n",
    "customer_data"
   ],
   "outputs": [],
   "metadata": {}
  },
  {
   "cell_type": "code",
   "execution_count": null,
   "source": [
    "nataly = customer_data[:4].sum().values\r\n",
    "joe = customer_data[4:].sum().values\r\n",
    "joe"
   ],
   "outputs": [],
   "metadata": {}
  },
  {
   "cell_type": "code",
   "execution_count": null,
   "source": [
    "sp = ttest_ind(joe, nataly, equal_var=False)\r\n",
    "print('Statistic:', sp.statistic)\r\n",
    "print('pvalue:', sp.pvalue)"
   ],
   "outputs": [],
   "metadata": {}
  },
  {
   "cell_type": "markdown",
   "source": [
    "## Customer Service AB Testing Data "
   ],
   "metadata": {}
  },
  {
   "cell_type": "code",
   "execution_count": null,
   "source": [
    "customer_service_data = pd.read_csv('customerserviceabtestdata.csv')\r\n",
    "customer_service_data.head()"
   ],
   "outputs": [],
   "metadata": {}
  },
  {
   "cell_type": "code",
   "execution_count": null,
   "source": [
    "phone_count = customer_service_data['Phone Number'].value_counts()\r\n",
    "phone_count[:10]"
   ],
   "outputs": [],
   "metadata": {}
  },
  {
   "cell_type": "code",
   "execution_count": null,
   "source": [
    "AutomatedFlag_0 = customer_service_data[customer_service_data['AutomatedFlag']==0]['CS Rating'].values\r\n",
    "AutomatedFlag_1 = customer_service_data[customer_service_data['AutomatedFlag']==1]['CS Rating'].values\r\n",
    "AutomatedFlag_1"
   ],
   "outputs": [],
   "metadata": {}
  },
  {
   "cell_type": "code",
   "execution_count": null,
   "source": [
    "sp = ttest_ind(AutomatedFlag_0, AutomatedFlag_1, equal_var=False)\r\n",
    "print('Statistic:', sp.statistic)\r\n",
    "print('pvalue:', sp.pvalue)"
   ],
   "outputs": [],
   "metadata": {}
  },
  {
   "cell_type": "markdown",
   "source": [
    "## Grocery Website AB Test Data"
   ],
   "metadata": {}
  },
  {
   "cell_type": "code",
   "execution_count": null,
   "source": [
    "data = pd.read_csv('grocerywebsiteabtestdata.csv')\r\n",
    "data.head()"
   ],
   "outputs": [],
   "metadata": {}
  },
  {
   "cell_type": "code",
   "execution_count": null,
   "source": [
    "data = data.drop(columns='RecordID')"
   ],
   "outputs": [],
   "metadata": {}
  },
  {
   "cell_type": "code",
   "execution_count": null,
   "source": [
    "data['Group'] = np.where(data['ServerID'] == 1, 'Treatment', 'Control')\r\n",
    "data.head()"
   ],
   "outputs": [],
   "metadata": {}
  },
  {
   "cell_type": "code",
   "execution_count": null,
   "source": [
    "data_summary = data.groupby(['IP Address', 'LoggedInFlag', 'Group', 'ServerID'], as_index=False).sum('VisitPageFlag')\r\n",
    "data_summary.head(10)"
   ],
   "outputs": [],
   "metadata": {}
  },
  {
   "cell_type": "code",
   "execution_count": null,
   "source": [
    "# Multiple visit fix\r\n",
    "data_summary['VisitPageFlag'] = np.where(data_summary['VisitPageFlag'] == 0, 0, 1)\r\n",
    "data_summary.head()"
   ],
   "outputs": [],
   "metadata": {}
  },
  {
   "cell_type": "code",
   "execution_count": null,
   "source": [
    "non_logged_user = data_summary[data_summary['LoggedInFlag'] != 1]\r\n",
    "non_logged_user.head(10)"
   ],
   "outputs": [],
   "metadata": {}
  },
  {
   "cell_type": "code",
   "execution_count": null,
   "source": [
    "treatment = non_logged_user[non_logged_user['Group']=='Treatment']['VisitPageFlag'].values\r\n",
    "control = non_logged_user[non_logged_user['Group']=='Control']['VisitPageFlag'].values\r\n",
    "control"
   ],
   "outputs": [],
   "metadata": {}
  },
  {
   "cell_type": "code",
   "execution_count": null,
   "source": [
    "sp = ttest_ind(control, treatment, equal_var=False)\r\n",
    "print('Statistic:', sp.statistic)\r\n",
    "print('pvalue:', sp.pvalue)"
   ],
   "outputs": [],
   "metadata": {}
  },
  {
   "cell_type": "code",
   "execution_count": null,
   "source": [
    "non_logged_user.head()"
   ],
   "outputs": [],
   "metadata": {}
  },
  {
   "cell_type": "code",
   "execution_count": null,
   "source": [
    "summary_non_logged_user = non_logged_user.groupby(['Group', 'VisitPageFlag'], as_index=False).size()\r\n",
    "summary_non_logged_user"
   ],
   "outputs": [],
   "metadata": {}
  },
  {
   "cell_type": "code",
   "execution_count": null,
   "source": [
    "perc_control_increase = 6131 / (6131 + 26839) * 100\r\n",
    "perc_treatment_increase = 3847 / (3847 + 12696) * 100\r\n",
    "\r\n",
    "print('Control Increament:', perc_control_increase)\r\n",
    "print('Treatment Increament:', perc_treatment_increase)"
   ],
   "outputs": [],
   "metadata": {}
  },
  {
   "cell_type": "code",
   "execution_count": null,
   "source": [
    "print('Conclusion:', perc_treatment_increase - perc_control_increase, '% jump if company change link to picture image of the app')"
   ],
   "outputs": [],
   "metadata": {}
  },
  {
   "cell_type": "markdown",
   "source": [
    "## Matched Pair Design"
   ],
   "metadata": {}
  },
  {
   "cell_type": "markdown",
   "source": [
    "### New Product Control Data"
   ],
   "metadata": {}
  },
  {
   "cell_type": "code",
   "execution_count": null,
   "source": [
    "new_product_control_data = pd.read_csv('newproductcontroldata.csv')\r\n",
    "new_product_control_data.head()"
   ],
   "outputs": [],
   "metadata": {}
  },
  {
   "cell_type": "code",
   "execution_count": null,
   "source": [
    "cherry_product_treatment_stores = pd.read_csv('cherry-product-treatment-stores.csv')\r\n",
    "cherry_product_treatment_stores"
   ],
   "outputs": [],
   "metadata": {}
  },
  {
   "cell_type": "code",
   "execution_count": null,
   "source": [
    "useful_fields_names = ['Category Sales', 'Product Count']\r\n",
    "state_name = 'CA'\r\n",
    "state_CA = new_product_control_data.query('State == @state_name').reset_index(drop=True)\r\n",
    "state_CA.head()"
   ],
   "outputs": [],
   "metadata": {}
  },
  {
   "cell_type": "code",
   "execution_count": null,
   "source": [
    "tree = KDTree(state_CA[useful_fields_names], leaf_size=2)\r\n",
    "\r\n",
    "for store_id in cherry_product_treatment_stores['Store ID'].values:\r\n",
    "    store_data = cherry_product_treatment_stores.query('`Store ID` == @store_id')[useful_fields_names]\r\n",
    "    dist, ind = tree.query(store_data, k=3)\r\n",
    "    stores_matched = state_CA.iloc[ind[0]][[\"Store ID\", \"State\", \"Category Sales\", \"Product Count\"]]\r\n",
    "\r\n",
    "    print(f'Distance - {dist[0]}')\r\n",
    "    print(f'Matched Stores:\\n {stores_matched} \\n')"
   ],
   "outputs": [],
   "metadata": {}
  },
  {
   "cell_type": "code",
   "execution_count": null,
   "source": [
    "nn = NearestNeighbors()\r\n",
    "nn.fit(state_CA[useful_fields_names])\r\n",
    "\r\n",
    "for store_id in cherry_product_treatment_stores['Store ID'].values:\r\n",
    "    store_data = cherry_product_treatment_stores.query('`Store ID` == @store_id')[useful_fields_names]\r\n",
    "    dist, ind = nn.kneighbors(store_data, 3)\r\n",
    "    stores_matched = state_CA.iloc[ind[0]][[\"Store ID\", \"State\", \"Category Sales\", \"Product Count\"]]\r\n",
    "\r\n",
    "    print(f'Distance - {dist[0]}')\r\n",
    "    print(f'Matched Stores:\\n {stores_matched} \\n')"
   ],
   "outputs": [],
   "metadata": {}
  },
  {
   "cell_type": "code",
   "execution_count": null,
   "source": [
    "from scipy.spatial import KDTree as scipy_KDTree"
   ],
   "outputs": [],
   "metadata": {}
  },
  {
   "cell_type": "code",
   "execution_count": null,
   "source": [
    "scipy_kdtree = scipy_KDTree(state_CA[useful_fields_names])\r\n",
    "\r\n",
    "for store_id in cherry_product_treatment_stores['Store ID'].values:\r\n",
    "    store_data = cherry_product_treatment_stores.query('`Store ID` == @store_id')[useful_fields_names]\r\n",
    "    dist, ind = scipy_kdtree.query(store_data, k=3)\r\n",
    "    stores_matched = state_CA.iloc[ind[0]][[\"Store ID\", \"State\", \"Category Sales\", \"Product Count\"]]\r\n",
    "\r\n",
    "    print(f'Distance - {dist[0]}')\r\n",
    "    print(f'Matched Stores:\\n {stores_matched} \\n')"
   ],
   "outputs": [],
   "metadata": {}
  },
  {
   "cell_type": "markdown",
   "source": [
    "### Scaling the numerical features lead to better KD Tree results"
   ],
   "metadata": {}
  },
  {
   "cell_type": "code",
   "execution_count": null,
   "source": [
    "# Scale the features\r\n",
    "transformer = ColumnTransformer(\r\n",
    "    [\r\n",
    "        ('scaler' , StandardScaler(), useful_fields_names),\r\n",
    "    ], \r\n",
    "    remainder='drop'\r\n",
    ")\r\n",
    "\r\n",
    "transformer.fit(state_CA)\r\n",
    "\r\n",
    "scaled_data = transformer.transform(state_CA)\r\n",
    "scaled_data"
   ],
   "outputs": [],
   "metadata": {}
  },
  {
   "cell_type": "code",
   "execution_count": null,
   "source": [
    "tree_scaler = KDTree(scaled_data, leaf_size=2)\r\n",
    "\r\n",
    "for store_id in cherry_product_treatment_stores['Store ID'].values:\r\n",
    "    store_data = cherry_product_treatment_stores.query('`Store ID` == @store_id')\r\n",
    "    dist, ind = tree_scaler.query(transformer.transform(store_data), k=3)\r\n",
    "    stores_matched = state_CA.iloc[ind[0]][[\"Store ID\", \"State\", \"Category Sales\", \"Product Count\"]]\r\n",
    "\r\n",
    "    print(f'Distance - {dist[0]}')\r\n",
    "    print(f'Matched Stores:\\n {stores_matched} \\n')"
   ],
   "outputs": [],
   "metadata": {}
  },
  {
   "cell_type": "code",
   "execution_count": null,
   "source": [],
   "outputs": [],
   "metadata": {}
  }
 ]
}