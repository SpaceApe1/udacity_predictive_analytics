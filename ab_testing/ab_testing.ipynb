{
 "metadata": {
  "language_info": {
   "codemirror_mode": {
    "name": "ipython",
    "version": 3
   },
   "file_extension": ".py",
   "mimetype": "text/x-python",
   "name": "python",
   "nbconvert_exporter": "python",
   "pygments_lexer": "ipython3",
   "version": "3.9.5"
  },
  "orig_nbformat": 4,
  "kernelspec": {
   "name": "python3",
   "display_name": "Python 3.9.5 64-bit ('.venv': venv)"
  },
  "interpreter": {
   "hash": "5cba3963c37d400916a9e80ad5acd0c56daed180f4961ad2a064f19bb9bbda97"
  }
 },
 "nbformat": 4,
 "nbformat_minor": 2,
 "cells": [
  {
   "source": [
    "# A/B Testing\n",
    "\n",
    "## Test of Means Analysis\n",
    "Statistical calculation of whether the mean values of the treatment and control groups are the same\n",
    "\n",
    "## T-Test\n",
    "Give p-value - likelihood the actual difference between the means is zero.  \n",
    "p-value < 0.05 (statistically significant)  \n",
    "T-test is important when working in small data set\n",
    "\n",
    "There are three types of t-tests you can use:  \n",
    "1. Paired  \n",
    "2. Equal variance  \n",
    "3. Unequal variance  \n",
    "\n",
    "In a random experiment you will usually assume that variances between the groups are different, so we’ll use an unequal variance t-test."
   ],
   "cell_type": "markdown",
   "metadata": {}
  },
  {
   "cell_type": "code",
   "execution_count": null,
   "metadata": {},
   "outputs": [],
   "source": [
    "# load package\n",
    "import pandas as pd\n",
    "import numpy as np\n",
    "from scipy.stats import ttest_ind"
   ]
  },
  {
   "source": [
    "## Supper Hero Data"
   ],
   "cell_type": "markdown",
   "metadata": {}
  },
  {
   "cell_type": "code",
   "execution_count": null,
   "metadata": {},
   "outputs": [],
   "source": [
    "super_hero = pd.read_excel('superherodata.xlsx')\n",
    "super_hero"
   ]
  },
  {
   "cell_type": "code",
   "execution_count": null,
   "metadata": {},
   "outputs": [],
   "source": [
    "useful_columns = list(super_hero.columns)[:8]\n",
    "useful_columns"
   ]
  },
  {
   "cell_type": "code",
   "execution_count": null,
   "metadata": {},
   "outputs": [],
   "source": [
    "super_hero_clean_data = super_hero[useful_columns].dropna()\n",
    "super_hero_clean_data"
   ]
  },
  {
   "cell_type": "code",
   "execution_count": null,
   "metadata": {},
   "outputs": [],
   "source": [
    "good = super_hero_clean_data[super_hero_clean_data['Alignment']=='good'].select_dtypes(exclude='O')\n",
    "good"
   ]
  },
  {
   "cell_type": "code",
   "execution_count": null,
   "metadata": {},
   "outputs": [],
   "source": [
    "bad = super_hero_clean_data[super_hero_clean_data['Alignment']=='bad'].select_dtypes(exclude='O')\n",
    "bad"
   ]
  },
  {
   "cell_type": "code",
   "execution_count": null,
   "metadata": {},
   "outputs": [],
   "source": [
    "sp = ttest_ind(good, bad, equal_var=False)\n",
    "print('Statistic:', sp.statistic)\n",
    "print('pvalue:', sp.pvalue)"
   ]
  },
  {
   "source": [
    "## Customer Support Time Study Data"
   ],
   "cell_type": "markdown",
   "metadata": {}
  },
  {
   "cell_type": "code",
   "execution_count": null,
   "metadata": {},
   "outputs": [],
   "source": [
    "customer_data = pd.read_excel('customersupporttimestudydata.xlsx', header=2)\n",
    "customer_data"
   ]
  },
  {
   "cell_type": "code",
   "execution_count": null,
   "metadata": {},
   "outputs": [],
   "source": [
    "customer_data = customer_data.dropna().drop(index=8).drop(columns='Customer Onboarding Process').astype('float')\n",
    "customer_data"
   ]
  },
  {
   "cell_type": "code",
   "execution_count": null,
   "metadata": {},
   "outputs": [],
   "source": [
    "nataly = customer_data[:4].sum().values\n",
    "joe = customer_data[4:].sum().values\n",
    "joe"
   ]
  },
  {
   "cell_type": "code",
   "execution_count": null,
   "metadata": {},
   "outputs": [],
   "source": [
    "sp = ttest_ind(joe, nataly, equal_var=False)\n",
    "print('Statistic:', sp.statistic)\n",
    "print('pvalue:', sp.pvalue)"
   ]
  },
  {
   "source": [
    "## Customer Service AB Testing Data "
   ],
   "cell_type": "markdown",
   "metadata": {}
  },
  {
   "cell_type": "code",
   "execution_count": null,
   "metadata": {},
   "outputs": [],
   "source": [
    "customer_service_data = pd.read_csv('customerserviceabtestdata.csv')\n",
    "customer_service_data.head()"
   ]
  },
  {
   "cell_type": "code",
   "execution_count": null,
   "metadata": {},
   "outputs": [],
   "source": [
    "phone_count = customer_service_data['Phone Number'].value_counts()\n",
    "phone_count[:10]"
   ]
  },
  {
   "cell_type": "code",
   "execution_count": null,
   "metadata": {},
   "outputs": [],
   "source": [
    "AutomatedFlag_0 = customer_service_data[customer_service_data['AutomatedFlag']==0]['CS Rating'].values\n",
    "AutomatedFlag_1 = customer_service_data[customer_service_data['AutomatedFlag']==1]['CS Rating'].values\n",
    "AutomatedFlag_1"
   ]
  },
  {
   "cell_type": "code",
   "execution_count": null,
   "metadata": {},
   "outputs": [],
   "source": [
    "sp = ttest_ind(AutomatedFlag_0, AutomatedFlag_1, equal_var=False)\n",
    "print('Statistic:', sp.statistic)\n",
    "print('pvalue:', sp.pvalue)"
   ]
  },
  {
   "source": [
    "## Grocery Website AB Test Data"
   ],
   "cell_type": "markdown",
   "metadata": {}
  },
  {
   "cell_type": "code",
   "execution_count": null,
   "metadata": {},
   "outputs": [],
   "source": [
    "data = pd.read_csv('grocerywebsiteabtestdata.csv')\n",
    "data.head()"
   ]
  },
  {
   "cell_type": "code",
   "execution_count": null,
   "metadata": {},
   "outputs": [],
   "source": [
    "data = data.drop(columns='RecordID')"
   ]
  },
  {
   "cell_type": "code",
   "execution_count": null,
   "metadata": {},
   "outputs": [],
   "source": [
    "data['Group'] = np.where(data['ServerID'] == 1, 'Treatment', 'Control')\n",
    "data.head()"
   ]
  },
  {
   "cell_type": "code",
   "execution_count": null,
   "metadata": {},
   "outputs": [],
   "source": [
    "data_summary = data.groupby(['IP Address', 'LoggedInFlag', 'Group', 'ServerID'], as_index=False).sum('VisitPageFlag')\n",
    "data_summary.head(10)"
   ]
  },
  {
   "cell_type": "code",
   "execution_count": null,
   "metadata": {},
   "outputs": [],
   "source": [
    "# Multiple visit fix\n",
    "data_summary['VisitPageFlag'] = np.where(data_summary['VisitPageFlag'] == 0, 0, 1)\n",
    "data_summary.head()"
   ]
  },
  {
   "cell_type": "code",
   "execution_count": null,
   "metadata": {},
   "outputs": [],
   "source": [
    "non_logged_user = data_summary[data_summary['LoggedInFlag'] != 1]\n",
    "non_logged_user.head(10)"
   ]
  },
  {
   "cell_type": "code",
   "execution_count": null,
   "metadata": {},
   "outputs": [],
   "source": [
    "treatment = non_logged_user[non_logged_user['Group']=='Treatment']['VisitPageFlag'].values\n",
    "control = non_logged_user[non_logged_user['Group']=='Control']['VisitPageFlag'].values\n",
    "control"
   ]
  },
  {
   "cell_type": "code",
   "execution_count": null,
   "metadata": {},
   "outputs": [],
   "source": [
    "sp = ttest_ind(control, treatment, equal_var=False)\n",
    "print('Statistic:', sp.statistic)\n",
    "print('pvalue:', sp.pvalue)"
   ]
  },
  {
   "cell_type": "code",
   "execution_count": null,
   "metadata": {},
   "outputs": [],
   "source": [
    "non_logged_user.head()"
   ]
  },
  {
   "cell_type": "code",
   "execution_count": null,
   "metadata": {},
   "outputs": [],
   "source": [
    "summary_non_logged_user = non_logged_user.groupby(['Group', 'VisitPageFlag'], as_index=False).size()\n",
    "summary_non_logged_user"
   ]
  },
  {
   "cell_type": "code",
   "execution_count": null,
   "metadata": {},
   "outputs": [],
   "source": [
    "perc_control_increase = 6131 / (6131 + 26839) * 100\n",
    "perc_treatment_increase = 3847 / (3847 + 12696) * 100\n",
    "\n",
    "print('Control Increament:', perc_control_increase)\n",
    "print('Treatment Increament:', perc_treatment_increase)"
   ]
  },
  {
   "cell_type": "code",
   "execution_count": null,
   "metadata": {},
   "outputs": [],
   "source": [
    "print('Conclusion:', perc_treatment_increase - perc_control_increase, '% jump if company change link to picture image of the app')"
   ]
  },
  {
   "source": [
    "## Matched Pair Design"
   ],
   "cell_type": "markdown",
   "metadata": {}
  },
  {
   "cell_type": "code",
   "execution_count": null,
   "metadata": {},
   "outputs": [],
   "source": []
  }
 ]
}