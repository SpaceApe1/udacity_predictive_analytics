{
 "metadata": {
  "language_info": {
   "codemirror_mode": {
    "name": "ipython",
    "version": 3
   },
   "file_extension": ".py",
   "mimetype": "text/x-python",
   "name": "python",
   "nbconvert_exporter": "python",
   "pygments_lexer": "ipython3",
   "version": "3.9.5"
  },
  "orig_nbformat": 4,
  "kernelspec": {
   "name": "python3",
   "display_name": "Python 3.9.5 64-bit ('.venv': venv)"
  },
  "interpreter": {
   "hash": "5cba3963c37d400916a9e80ad5acd0c56daed180f4961ad2a064f19bb9bbda97"
  }
 },
 "nbformat": 4,
 "nbformat_minor": 2,
 "cells": [
  {
   "source": [
    "# A/B Testing\n",
    "\n",
    "## Test of Means Analysis\n",
    "Statistical calculation of whether the mean values of the treatment and control groups are the same\n",
    "\n",
    "## T-Test\n",
    "Give p-value - likelihood the actual difference between the means is zero.  \n",
    "p-value < 0.05 (statistically significant)  \n",
    "T-test is important when working in small data set\n",
    "\n",
    "There are three types of t-tests you can use:  \n",
    "1. Paired  \n",
    "2. Equal variance  \n",
    "3. Unequal variance  \n",
    "\n",
    "In a random experiment you will usually assume that variances between the groups are different, so we’ll use an unequal variance t-test.\n"
   ],
   "cell_type": "markdown",
   "metadata": {}
  },
  {
   "cell_type": "code",
   "execution_count": null,
   "metadata": {},
   "outputs": [],
   "source": [
    "# load package\n",
    "import pandas as pd\n",
    "from scipy.stats import ttest_ind"
   ]
  },
  {
   "cell_type": "code",
   "execution_count": null,
   "metadata": {},
   "outputs": [],
   "source": [
    "# Supper hero data\n",
    "super_hero = pd.read_excel('superherodata.xlsx')\n",
    "\n",
    "super_hero"
   ]
  },
  {
   "cell_type": "code",
   "execution_count": null,
   "metadata": {},
   "outputs": [],
   "source": [
    "useful_columns = list(super_hero.columns)[:8]\n",
    "useful_columns"
   ]
  },
  {
   "cell_type": "code",
   "execution_count": null,
   "metadata": {},
   "outputs": [],
   "source": [
    "super_hero_clean_data = super_hero[useful_columns].dropna()\n",
    "super_hero_clean_data"
   ]
  },
  {
   "cell_type": "code",
   "execution_count": null,
   "metadata": {},
   "outputs": [],
   "source": [
    "good = super_hero_clean_data[super_hero_clean_data['Alignment']=='good'].select_dtypes(exclude='O')\n",
    "good"
   ]
  },
  {
   "cell_type": "code",
   "execution_count": null,
   "metadata": {},
   "outputs": [],
   "source": [
    "bad = super_hero_clean_data[super_hero_clean_data['Alignment']=='bad'].select_dtypes(exclude='O')\n",
    "bad"
   ]
  },
  {
   "cell_type": "code",
   "execution_count": null,
   "metadata": {},
   "outputs": [],
   "source": [
    "for column in super_hero_clean_data.select_dtypes(exclude='O').columns:\n",
    "    t_test = ttest_ind(good[column], bad[column], equal_var=False)\n",
    "    print(f'{column}', t_test)"
   ]
  },
  {
   "cell_type": "code",
   "execution_count": null,
   "metadata": {},
   "outputs": [],
   "source": [
    "# Randomized Design Tests\n",
    "data = pd.read_csv('grocerywebsiteabtestdata.csv')\n",
    "data.head()"
   ]
  },
  {
   "cell_type": "code",
   "execution_count": null,
   "metadata": {},
   "outputs": [],
   "source": [
    "data.info()"
   ]
  }
 ]
}