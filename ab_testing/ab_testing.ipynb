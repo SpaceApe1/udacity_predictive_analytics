{
 "metadata": {
  "language_info": {
   "codemirror_mode": {
    "name": "ipython",
    "version": 3
   },
   "file_extension": ".py",
   "mimetype": "text/x-python",
   "name": "python",
   "nbconvert_exporter": "python",
   "pygments_lexer": "ipython3",
   "version": "3.9.5"
  },
  "orig_nbformat": 4,
  "kernelspec": {
   "name": "python3",
   "display_name": "Python 3.9.5 64-bit ('.venv': venv)"
  },
  "interpreter": {
   "hash": "5cba3963c37d400916a9e80ad5acd0c56daed180f4961ad2a064f19bb9bbda97"
  }
 },
 "nbformat": 4,
 "nbformat_minor": 2,
 "cells": [
  {
   "source": [
    "# A/B Testing\n",
    "\n",
    "## Test of Means Analysis\n",
    "Statistical calculation of whether the mean values of the treatment and control groups are the same\n",
    "\n",
    "## T-Test\n",
    "Give p-value - likelihood the actual difference between the means is zero.  \n",
    "p-value < 0.05 (statistically significant)  \n",
    "T-test is important when working in small data set\n",
    "\n",
    "There are three types of t-tests you can use:  \n",
    "1. Paired  \n",
    "2. Equal variance  \n",
    "3. Unequal variance  \n",
    "\n",
    "In a random experiment you will usually assume that variances between the groups are different, so we’ll use an unequal variance t-test."
   ],
   "cell_type": "markdown",
   "metadata": {}
  },
  {
   "cell_type": "code",
   "execution_count": 1,
   "metadata": {},
   "outputs": [],
   "source": [
    "# load package\n",
    "import pandas as pd\n",
    "from scipy.stats import ttest_ind"
   ]
  },
  {
   "source": [
    "## Supper Hero Data"
   ],
   "cell_type": "markdown",
   "metadata": {}
  },
  {
   "cell_type": "code",
   "execution_count": 2,
   "metadata": {},
   "outputs": [
    {
     "output_type": "execute_result",
     "data": {
      "text/plain": [
       "               Name Alignment  Intelligence    Strength      Speed  \\\n",
       "0          Iron Man      good    100.000000   85.000000  58.000000   \n",
       "1   Captain America      good     63.000000   65.000000  35.000000   \n",
       "2              Hulk      good     88.000000  100.000000  47.000000   \n",
       "3           Hawkeye      good     62.000000   12.000000  23.000000   \n",
       "4              Thor      good     69.000000  100.000000  92.000000   \n",
       "5        Spider-Man      good     88.000000   55.000000  60.000000   \n",
       "6           Average       NaN     78.333333   69.500000  52.500000   \n",
       "7               NaN       NaN           NaN         NaN        NaN   \n",
       "8            Ultron       bad     95.000000   83.000000  42.000000   \n",
       "9         Red Skull       bad     90.000000   30.000000  12.000000   \n",
       "10      Abomination       bad     85.000000   80.000000  53.000000   \n",
       "11         Bullseye       bad     75.000000   11.000000  25.000000   \n",
       "12             Loki       bad     87.000000   57.000000  47.000000   \n",
       "13     Green Goblin       bad     85.000000   35.000000  35.000000   \n",
       "14              NaN       NaN     86.166667   49.333333  35.666667   \n",
       "15              NaN       NaN           NaN         NaN        NaN   \n",
       "16              NaN       NaN      0.100000   -0.290168        NaN   \n",
       "17              NaN       NaN      0.300942    0.291602        NaN   \n",
       "\n",
       "    Durability       Power      Combat  Unnamed: 8             Hero  \\\n",
       "0    85.000000  100.000000   64.000000         NaN         Iron Man   \n",
       "1    56.000000   46.000000  100.000000         NaN  Captain America   \n",
       "2   100.000000   41.000000   85.000000         NaN             Hulk   \n",
       "3    14.000000   26.000000   80.000000         NaN          Hawkeye   \n",
       "4   100.000000  100.000000   85.000000         NaN             Thor   \n",
       "5    74.000000   58.000000   85.000000         NaN       Spider-Man   \n",
       "6    71.500000   61.833333   83.166667         NaN              NaN   \n",
       "7          NaN         NaN         NaN         NaN              NaN   \n",
       "8   100.000000  100.000000   64.000000         NaN              NaN   \n",
       "9    14.000000   19.000000   80.000000         NaN              NaN   \n",
       "10   90.000000   55.000000   95.000000         NaN              NaN   \n",
       "11   70.000000   20.000000   70.000000         NaN              NaN   \n",
       "12   85.000000   85.000000   56.000000         NaN              NaN   \n",
       "13   48.000000   38.000000   28.000000         NaN              NaN   \n",
       "14   67.833333   52.833333   65.500000         NaN              NaN   \n",
       "15         NaN         NaN         NaN         NaN              NaN   \n",
       "16         NaN         NaN         NaN         NaN              NaN   \n",
       "17         NaN         NaN         NaN         NaN              NaN   \n",
       "\n",
       "           Rival  Unnamed: 11  Unnamed: 12  Unnamed: 13  Unnamed: 14  \n",
       "0         Ultron          NaN          NaN          NaN          NaN  \n",
       "1      Red Skull          NaN          NaN          NaN          NaN  \n",
       "2    Abomination          NaN          NaN          NaN          NaN  \n",
       "3       Bullseye          NaN          NaN          NaN          NaN  \n",
       "4           Loki          NaN          NaN          NaN          NaN  \n",
       "5   Green Goblin          NaN          NaN          NaN          NaN  \n",
       "6            NaN          NaN          NaN          NaN          NaN  \n",
       "7            NaN          NaN          NaN          NaN          NaN  \n",
       "8            NaN          NaN          NaN          NaN          NaN  \n",
       "9            NaN          NaN          NaN          NaN          NaN  \n",
       "10           NaN          NaN          NaN          NaN          NaN  \n",
       "11           NaN          NaN          NaN          NaN          NaN  \n",
       "12           NaN          NaN          NaN          NaN          NaN  \n",
       "13           NaN          NaN          NaN          NaN          NaN  \n",
       "14           NaN          NaN          NaN          NaN          NaN  \n",
       "15           NaN          NaN          NaN          NaN          NaN  \n",
       "16           NaN          NaN          NaN          NaN          NaN  \n",
       "17           NaN          NaN          NaN          NaN          NaN  "
      ],
      "text/html": "<div>\n<style scoped>\n    .dataframe tbody tr th:only-of-type {\n        vertical-align: middle;\n    }\n\n    .dataframe tbody tr th {\n        vertical-align: top;\n    }\n\n    .dataframe thead th {\n        text-align: right;\n    }\n</style>\n<table border=\"1\" class=\"dataframe\">\n  <thead>\n    <tr style=\"text-align: right;\">\n      <th></th>\n      <th>Name</th>\n      <th>Alignment</th>\n      <th>Intelligence</th>\n      <th>Strength</th>\n      <th>Speed</th>\n      <th>Durability</th>\n      <th>Power</th>\n      <th>Combat</th>\n      <th>Unnamed: 8</th>\n      <th>Hero</th>\n      <th>Rival</th>\n      <th>Unnamed: 11</th>\n      <th>Unnamed: 12</th>\n      <th>Unnamed: 13</th>\n      <th>Unnamed: 14</th>\n    </tr>\n  </thead>\n  <tbody>\n    <tr>\n      <th>0</th>\n      <td>Iron Man</td>\n      <td>good</td>\n      <td>100.000000</td>\n      <td>85.000000</td>\n      <td>58.000000</td>\n      <td>85.000000</td>\n      <td>100.000000</td>\n      <td>64.000000</td>\n      <td>NaN</td>\n      <td>Iron Man</td>\n      <td>Ultron</td>\n      <td>NaN</td>\n      <td>NaN</td>\n      <td>NaN</td>\n      <td>NaN</td>\n    </tr>\n    <tr>\n      <th>1</th>\n      <td>Captain America</td>\n      <td>good</td>\n      <td>63.000000</td>\n      <td>65.000000</td>\n      <td>35.000000</td>\n      <td>56.000000</td>\n      <td>46.000000</td>\n      <td>100.000000</td>\n      <td>NaN</td>\n      <td>Captain America</td>\n      <td>Red Skull</td>\n      <td>NaN</td>\n      <td>NaN</td>\n      <td>NaN</td>\n      <td>NaN</td>\n    </tr>\n    <tr>\n      <th>2</th>\n      <td>Hulk</td>\n      <td>good</td>\n      <td>88.000000</td>\n      <td>100.000000</td>\n      <td>47.000000</td>\n      <td>100.000000</td>\n      <td>41.000000</td>\n      <td>85.000000</td>\n      <td>NaN</td>\n      <td>Hulk</td>\n      <td>Abomination</td>\n      <td>NaN</td>\n      <td>NaN</td>\n      <td>NaN</td>\n      <td>NaN</td>\n    </tr>\n    <tr>\n      <th>3</th>\n      <td>Hawkeye</td>\n      <td>good</td>\n      <td>62.000000</td>\n      <td>12.000000</td>\n      <td>23.000000</td>\n      <td>14.000000</td>\n      <td>26.000000</td>\n      <td>80.000000</td>\n      <td>NaN</td>\n      <td>Hawkeye</td>\n      <td>Bullseye</td>\n      <td>NaN</td>\n      <td>NaN</td>\n      <td>NaN</td>\n      <td>NaN</td>\n    </tr>\n    <tr>\n      <th>4</th>\n      <td>Thor</td>\n      <td>good</td>\n      <td>69.000000</td>\n      <td>100.000000</td>\n      <td>92.000000</td>\n      <td>100.000000</td>\n      <td>100.000000</td>\n      <td>85.000000</td>\n      <td>NaN</td>\n      <td>Thor</td>\n      <td>Loki</td>\n      <td>NaN</td>\n      <td>NaN</td>\n      <td>NaN</td>\n      <td>NaN</td>\n    </tr>\n    <tr>\n      <th>5</th>\n      <td>Spider-Man</td>\n      <td>good</td>\n      <td>88.000000</td>\n      <td>55.000000</td>\n      <td>60.000000</td>\n      <td>74.000000</td>\n      <td>58.000000</td>\n      <td>85.000000</td>\n      <td>NaN</td>\n      <td>Spider-Man</td>\n      <td>Green Goblin</td>\n      <td>NaN</td>\n      <td>NaN</td>\n      <td>NaN</td>\n      <td>NaN</td>\n    </tr>\n    <tr>\n      <th>6</th>\n      <td>Average</td>\n      <td>NaN</td>\n      <td>78.333333</td>\n      <td>69.500000</td>\n      <td>52.500000</td>\n      <td>71.500000</td>\n      <td>61.833333</td>\n      <td>83.166667</td>\n      <td>NaN</td>\n      <td>NaN</td>\n      <td>NaN</td>\n      <td>NaN</td>\n      <td>NaN</td>\n      <td>NaN</td>\n      <td>NaN</td>\n    </tr>\n    <tr>\n      <th>7</th>\n      <td>NaN</td>\n      <td>NaN</td>\n      <td>NaN</td>\n      <td>NaN</td>\n      <td>NaN</td>\n      <td>NaN</td>\n      <td>NaN</td>\n      <td>NaN</td>\n      <td>NaN</td>\n      <td>NaN</td>\n      <td>NaN</td>\n      <td>NaN</td>\n      <td>NaN</td>\n      <td>NaN</td>\n      <td>NaN</td>\n    </tr>\n    <tr>\n      <th>8</th>\n      <td>Ultron</td>\n      <td>bad</td>\n      <td>95.000000</td>\n      <td>83.000000</td>\n      <td>42.000000</td>\n      <td>100.000000</td>\n      <td>100.000000</td>\n      <td>64.000000</td>\n      <td>NaN</td>\n      <td>NaN</td>\n      <td>NaN</td>\n      <td>NaN</td>\n      <td>NaN</td>\n      <td>NaN</td>\n      <td>NaN</td>\n    </tr>\n    <tr>\n      <th>9</th>\n      <td>Red Skull</td>\n      <td>bad</td>\n      <td>90.000000</td>\n      <td>30.000000</td>\n      <td>12.000000</td>\n      <td>14.000000</td>\n      <td>19.000000</td>\n      <td>80.000000</td>\n      <td>NaN</td>\n      <td>NaN</td>\n      <td>NaN</td>\n      <td>NaN</td>\n      <td>NaN</td>\n      <td>NaN</td>\n      <td>NaN</td>\n    </tr>\n    <tr>\n      <th>10</th>\n      <td>Abomination</td>\n      <td>bad</td>\n      <td>85.000000</td>\n      <td>80.000000</td>\n      <td>53.000000</td>\n      <td>90.000000</td>\n      <td>55.000000</td>\n      <td>95.000000</td>\n      <td>NaN</td>\n      <td>NaN</td>\n      <td>NaN</td>\n      <td>NaN</td>\n      <td>NaN</td>\n      <td>NaN</td>\n      <td>NaN</td>\n    </tr>\n    <tr>\n      <th>11</th>\n      <td>Bullseye</td>\n      <td>bad</td>\n      <td>75.000000</td>\n      <td>11.000000</td>\n      <td>25.000000</td>\n      <td>70.000000</td>\n      <td>20.000000</td>\n      <td>70.000000</td>\n      <td>NaN</td>\n      <td>NaN</td>\n      <td>NaN</td>\n      <td>NaN</td>\n      <td>NaN</td>\n      <td>NaN</td>\n      <td>NaN</td>\n    </tr>\n    <tr>\n      <th>12</th>\n      <td>Loki</td>\n      <td>bad</td>\n      <td>87.000000</td>\n      <td>57.000000</td>\n      <td>47.000000</td>\n      <td>85.000000</td>\n      <td>85.000000</td>\n      <td>56.000000</td>\n      <td>NaN</td>\n      <td>NaN</td>\n      <td>NaN</td>\n      <td>NaN</td>\n      <td>NaN</td>\n      <td>NaN</td>\n      <td>NaN</td>\n    </tr>\n    <tr>\n      <th>13</th>\n      <td>Green Goblin</td>\n      <td>bad</td>\n      <td>85.000000</td>\n      <td>35.000000</td>\n      <td>35.000000</td>\n      <td>48.000000</td>\n      <td>38.000000</td>\n      <td>28.000000</td>\n      <td>NaN</td>\n      <td>NaN</td>\n      <td>NaN</td>\n      <td>NaN</td>\n      <td>NaN</td>\n      <td>NaN</td>\n      <td>NaN</td>\n    </tr>\n    <tr>\n      <th>14</th>\n      <td>NaN</td>\n      <td>NaN</td>\n      <td>86.166667</td>\n      <td>49.333333</td>\n      <td>35.666667</td>\n      <td>67.833333</td>\n      <td>52.833333</td>\n      <td>65.500000</td>\n      <td>NaN</td>\n      <td>NaN</td>\n      <td>NaN</td>\n      <td>NaN</td>\n      <td>NaN</td>\n      <td>NaN</td>\n      <td>NaN</td>\n    </tr>\n    <tr>\n      <th>15</th>\n      <td>NaN</td>\n      <td>NaN</td>\n      <td>NaN</td>\n      <td>NaN</td>\n      <td>NaN</td>\n      <td>NaN</td>\n      <td>NaN</td>\n      <td>NaN</td>\n      <td>NaN</td>\n      <td>NaN</td>\n      <td>NaN</td>\n      <td>NaN</td>\n      <td>NaN</td>\n      <td>NaN</td>\n      <td>NaN</td>\n    </tr>\n    <tr>\n      <th>16</th>\n      <td>NaN</td>\n      <td>NaN</td>\n      <td>0.100000</td>\n      <td>-0.290168</td>\n      <td>NaN</td>\n      <td>NaN</td>\n      <td>NaN</td>\n      <td>NaN</td>\n      <td>NaN</td>\n      <td>NaN</td>\n      <td>NaN</td>\n      <td>NaN</td>\n      <td>NaN</td>\n      <td>NaN</td>\n      <td>NaN</td>\n    </tr>\n    <tr>\n      <th>17</th>\n      <td>NaN</td>\n      <td>NaN</td>\n      <td>0.300942</td>\n      <td>0.291602</td>\n      <td>NaN</td>\n      <td>NaN</td>\n      <td>NaN</td>\n      <td>NaN</td>\n      <td>NaN</td>\n      <td>NaN</td>\n      <td>NaN</td>\n      <td>NaN</td>\n      <td>NaN</td>\n      <td>NaN</td>\n      <td>NaN</td>\n    </tr>\n  </tbody>\n</table>\n</div>"
     },
     "metadata": {},
     "execution_count": 2
    }
   ],
   "source": [
    "super_hero = pd.read_excel('superherodata.xlsx')\n",
    "super_hero"
   ]
  },
  {
   "cell_type": "code",
   "execution_count": 3,
   "metadata": {},
   "outputs": [
    {
     "output_type": "execute_result",
     "data": {
      "text/plain": [
       "['Name',\n",
       " 'Alignment',\n",
       " 'Intelligence',\n",
       " 'Strength',\n",
       " 'Speed',\n",
       " 'Durability',\n",
       " 'Power',\n",
       " 'Combat']"
      ]
     },
     "metadata": {},
     "execution_count": 3
    }
   ],
   "source": [
    "useful_columns = list(super_hero.columns)[:8]\n",
    "useful_columns"
   ]
  },
  {
   "cell_type": "code",
   "execution_count": 4,
   "metadata": {},
   "outputs": [
    {
     "output_type": "execute_result",
     "data": {
      "text/plain": [
       "               Name Alignment  Intelligence  Strength  Speed  Durability  \\\n",
       "0          Iron Man      good         100.0      85.0   58.0        85.0   \n",
       "1   Captain America      good          63.0      65.0   35.0        56.0   \n",
       "2              Hulk      good          88.0     100.0   47.0       100.0   \n",
       "3           Hawkeye      good          62.0      12.0   23.0        14.0   \n",
       "4              Thor      good          69.0     100.0   92.0       100.0   \n",
       "5        Spider-Man      good          88.0      55.0   60.0        74.0   \n",
       "8            Ultron       bad          95.0      83.0   42.0       100.0   \n",
       "9         Red Skull       bad          90.0      30.0   12.0        14.0   \n",
       "10      Abomination       bad          85.0      80.0   53.0        90.0   \n",
       "11         Bullseye       bad          75.0      11.0   25.0        70.0   \n",
       "12             Loki       bad          87.0      57.0   47.0        85.0   \n",
       "13     Green Goblin       bad          85.0      35.0   35.0        48.0   \n",
       "\n",
       "    Power  Combat  \n",
       "0   100.0    64.0  \n",
       "1    46.0   100.0  \n",
       "2    41.0    85.0  \n",
       "3    26.0    80.0  \n",
       "4   100.0    85.0  \n",
       "5    58.0    85.0  \n",
       "8   100.0    64.0  \n",
       "9    19.0    80.0  \n",
       "10   55.0    95.0  \n",
       "11   20.0    70.0  \n",
       "12   85.0    56.0  \n",
       "13   38.0    28.0  "
      ],
      "text/html": "<div>\n<style scoped>\n    .dataframe tbody tr th:only-of-type {\n        vertical-align: middle;\n    }\n\n    .dataframe tbody tr th {\n        vertical-align: top;\n    }\n\n    .dataframe thead th {\n        text-align: right;\n    }\n</style>\n<table border=\"1\" class=\"dataframe\">\n  <thead>\n    <tr style=\"text-align: right;\">\n      <th></th>\n      <th>Name</th>\n      <th>Alignment</th>\n      <th>Intelligence</th>\n      <th>Strength</th>\n      <th>Speed</th>\n      <th>Durability</th>\n      <th>Power</th>\n      <th>Combat</th>\n    </tr>\n  </thead>\n  <tbody>\n    <tr>\n      <th>0</th>\n      <td>Iron Man</td>\n      <td>good</td>\n      <td>100.0</td>\n      <td>85.0</td>\n      <td>58.0</td>\n      <td>85.0</td>\n      <td>100.0</td>\n      <td>64.0</td>\n    </tr>\n    <tr>\n      <th>1</th>\n      <td>Captain America</td>\n      <td>good</td>\n      <td>63.0</td>\n      <td>65.0</td>\n      <td>35.0</td>\n      <td>56.0</td>\n      <td>46.0</td>\n      <td>100.0</td>\n    </tr>\n    <tr>\n      <th>2</th>\n      <td>Hulk</td>\n      <td>good</td>\n      <td>88.0</td>\n      <td>100.0</td>\n      <td>47.0</td>\n      <td>100.0</td>\n      <td>41.0</td>\n      <td>85.0</td>\n    </tr>\n    <tr>\n      <th>3</th>\n      <td>Hawkeye</td>\n      <td>good</td>\n      <td>62.0</td>\n      <td>12.0</td>\n      <td>23.0</td>\n      <td>14.0</td>\n      <td>26.0</td>\n      <td>80.0</td>\n    </tr>\n    <tr>\n      <th>4</th>\n      <td>Thor</td>\n      <td>good</td>\n      <td>69.0</td>\n      <td>100.0</td>\n      <td>92.0</td>\n      <td>100.0</td>\n      <td>100.0</td>\n      <td>85.0</td>\n    </tr>\n    <tr>\n      <th>5</th>\n      <td>Spider-Man</td>\n      <td>good</td>\n      <td>88.0</td>\n      <td>55.0</td>\n      <td>60.0</td>\n      <td>74.0</td>\n      <td>58.0</td>\n      <td>85.0</td>\n    </tr>\n    <tr>\n      <th>8</th>\n      <td>Ultron</td>\n      <td>bad</td>\n      <td>95.0</td>\n      <td>83.0</td>\n      <td>42.0</td>\n      <td>100.0</td>\n      <td>100.0</td>\n      <td>64.0</td>\n    </tr>\n    <tr>\n      <th>9</th>\n      <td>Red Skull</td>\n      <td>bad</td>\n      <td>90.0</td>\n      <td>30.0</td>\n      <td>12.0</td>\n      <td>14.0</td>\n      <td>19.0</td>\n      <td>80.0</td>\n    </tr>\n    <tr>\n      <th>10</th>\n      <td>Abomination</td>\n      <td>bad</td>\n      <td>85.0</td>\n      <td>80.0</td>\n      <td>53.0</td>\n      <td>90.0</td>\n      <td>55.0</td>\n      <td>95.0</td>\n    </tr>\n    <tr>\n      <th>11</th>\n      <td>Bullseye</td>\n      <td>bad</td>\n      <td>75.0</td>\n      <td>11.0</td>\n      <td>25.0</td>\n      <td>70.0</td>\n      <td>20.0</td>\n      <td>70.0</td>\n    </tr>\n    <tr>\n      <th>12</th>\n      <td>Loki</td>\n      <td>bad</td>\n      <td>87.0</td>\n      <td>57.0</td>\n      <td>47.0</td>\n      <td>85.0</td>\n      <td>85.0</td>\n      <td>56.0</td>\n    </tr>\n    <tr>\n      <th>13</th>\n      <td>Green Goblin</td>\n      <td>bad</td>\n      <td>85.0</td>\n      <td>35.0</td>\n      <td>35.0</td>\n      <td>48.0</td>\n      <td>38.0</td>\n      <td>28.0</td>\n    </tr>\n  </tbody>\n</table>\n</div>"
     },
     "metadata": {},
     "execution_count": 4
    }
   ],
   "source": [
    "super_hero_clean_data = super_hero[useful_columns].dropna()\n",
    "super_hero_clean_data"
   ]
  },
  {
   "cell_type": "code",
   "execution_count": 5,
   "metadata": {},
   "outputs": [
    {
     "output_type": "execute_result",
     "data": {
      "text/plain": [
       "   Intelligence  Strength  Speed  Durability  Power  Combat\n",
       "0         100.0      85.0   58.0        85.0  100.0    64.0\n",
       "1          63.0      65.0   35.0        56.0   46.0   100.0\n",
       "2          88.0     100.0   47.0       100.0   41.0    85.0\n",
       "3          62.0      12.0   23.0        14.0   26.0    80.0\n",
       "4          69.0     100.0   92.0       100.0  100.0    85.0\n",
       "5          88.0      55.0   60.0        74.0   58.0    85.0"
      ],
      "text/html": "<div>\n<style scoped>\n    .dataframe tbody tr th:only-of-type {\n        vertical-align: middle;\n    }\n\n    .dataframe tbody tr th {\n        vertical-align: top;\n    }\n\n    .dataframe thead th {\n        text-align: right;\n    }\n</style>\n<table border=\"1\" class=\"dataframe\">\n  <thead>\n    <tr style=\"text-align: right;\">\n      <th></th>\n      <th>Intelligence</th>\n      <th>Strength</th>\n      <th>Speed</th>\n      <th>Durability</th>\n      <th>Power</th>\n      <th>Combat</th>\n    </tr>\n  </thead>\n  <tbody>\n    <tr>\n      <th>0</th>\n      <td>100.0</td>\n      <td>85.0</td>\n      <td>58.0</td>\n      <td>85.0</td>\n      <td>100.0</td>\n      <td>64.0</td>\n    </tr>\n    <tr>\n      <th>1</th>\n      <td>63.0</td>\n      <td>65.0</td>\n      <td>35.0</td>\n      <td>56.0</td>\n      <td>46.0</td>\n      <td>100.0</td>\n    </tr>\n    <tr>\n      <th>2</th>\n      <td>88.0</td>\n      <td>100.0</td>\n      <td>47.0</td>\n      <td>100.0</td>\n      <td>41.0</td>\n      <td>85.0</td>\n    </tr>\n    <tr>\n      <th>3</th>\n      <td>62.0</td>\n      <td>12.0</td>\n      <td>23.0</td>\n      <td>14.0</td>\n      <td>26.0</td>\n      <td>80.0</td>\n    </tr>\n    <tr>\n      <th>4</th>\n      <td>69.0</td>\n      <td>100.0</td>\n      <td>92.0</td>\n      <td>100.0</td>\n      <td>100.0</td>\n      <td>85.0</td>\n    </tr>\n    <tr>\n      <th>5</th>\n      <td>88.0</td>\n      <td>55.0</td>\n      <td>60.0</td>\n      <td>74.0</td>\n      <td>58.0</td>\n      <td>85.0</td>\n    </tr>\n  </tbody>\n</table>\n</div>"
     },
     "metadata": {},
     "execution_count": 5
    }
   ],
   "source": [
    "good = super_hero_clean_data[super_hero_clean_data['Alignment']=='good'].select_dtypes(exclude='O')\n",
    "good"
   ]
  },
  {
   "cell_type": "code",
   "execution_count": 6,
   "metadata": {},
   "outputs": [
    {
     "output_type": "execute_result",
     "data": {
      "text/plain": [
       "    Intelligence  Strength  Speed  Durability  Power  Combat\n",
       "8           95.0      83.0   42.0       100.0  100.0    64.0\n",
       "9           90.0      30.0   12.0        14.0   19.0    80.0\n",
       "10          85.0      80.0   53.0        90.0   55.0    95.0\n",
       "11          75.0      11.0   25.0        70.0   20.0    70.0\n",
       "12          87.0      57.0   47.0        85.0   85.0    56.0\n",
       "13          85.0      35.0   35.0        48.0   38.0    28.0"
      ],
      "text/html": "<div>\n<style scoped>\n    .dataframe tbody tr th:only-of-type {\n        vertical-align: middle;\n    }\n\n    .dataframe tbody tr th {\n        vertical-align: top;\n    }\n\n    .dataframe thead th {\n        text-align: right;\n    }\n</style>\n<table border=\"1\" class=\"dataframe\">\n  <thead>\n    <tr style=\"text-align: right;\">\n      <th></th>\n      <th>Intelligence</th>\n      <th>Strength</th>\n      <th>Speed</th>\n      <th>Durability</th>\n      <th>Power</th>\n      <th>Combat</th>\n    </tr>\n  </thead>\n  <tbody>\n    <tr>\n      <th>8</th>\n      <td>95.0</td>\n      <td>83.0</td>\n      <td>42.0</td>\n      <td>100.0</td>\n      <td>100.0</td>\n      <td>64.0</td>\n    </tr>\n    <tr>\n      <th>9</th>\n      <td>90.0</td>\n      <td>30.0</td>\n      <td>12.0</td>\n      <td>14.0</td>\n      <td>19.0</td>\n      <td>80.0</td>\n    </tr>\n    <tr>\n      <th>10</th>\n      <td>85.0</td>\n      <td>80.0</td>\n      <td>53.0</td>\n      <td>90.0</td>\n      <td>55.0</td>\n      <td>95.0</td>\n    </tr>\n    <tr>\n      <th>11</th>\n      <td>75.0</td>\n      <td>11.0</td>\n      <td>25.0</td>\n      <td>70.0</td>\n      <td>20.0</td>\n      <td>70.0</td>\n    </tr>\n    <tr>\n      <th>12</th>\n      <td>87.0</td>\n      <td>57.0</td>\n      <td>47.0</td>\n      <td>85.0</td>\n      <td>85.0</td>\n      <td>56.0</td>\n    </tr>\n    <tr>\n      <th>13</th>\n      <td>85.0</td>\n      <td>35.0</td>\n      <td>35.0</td>\n      <td>48.0</td>\n      <td>38.0</td>\n      <td>28.0</td>\n    </tr>\n  </tbody>\n</table>\n</div>"
     },
     "metadata": {},
     "execution_count": 6
    }
   ],
   "source": [
    "bad = super_hero_clean_data[super_hero_clean_data['Alignment']=='bad'].select_dtypes(exclude='O')\n",
    "bad"
   ]
  },
  {
   "cell_type": "code",
   "execution_count": 7,
   "metadata": {},
   "outputs": [
    {
     "output_type": "stream",
     "name": "stdout",
     "text": [
      "Statistic: [-1.12050955  1.11471746  1.45838682  0.19621283  0.47871287  1.69207353]\npvalue: [0.30094185 0.2916016  0.18086733 0.84837569 0.64249665 0.13204121]\n"
     ]
    }
   ],
   "source": [
    "sp = ttest_ind(good, bad, equal_var=False)\n",
    "print('Statistic:', sp.statistic)\n",
    "print('pvalue:', sp.pvalue)"
   ]
  },
  {
   "source": [
    "## Customer Support Time Study Data"
   ],
   "cell_type": "markdown",
   "metadata": {}
  },
  {
   "cell_type": "code",
   "execution_count": 8,
   "metadata": {},
   "outputs": [
    {
     "output_type": "execute_result",
     "data": {
      "text/plain": [
       "                 Customer Onboarding Process  Employee 1  Employee 2  \\\n",
       "0             Identify Key Customer Contacts        1.82        2.89   \n",
       "1          Assign Customer Support Resources        0.86        0.44   \n",
       "2   Enter Customer Information into Database        1.48        1.98   \n",
       "3                  Establish Success Metrics        10.9       10.12   \n",
       "4                                        NaN         NaN         NaN   \n",
       "5                                        NaN         NaN         NaN   \n",
       "6                                        NaN         NaN         NaN   \n",
       "7                                        NaN         Joe         NaN   \n",
       "8                Customer Onboarding Process  Employee 1  Employee 2   \n",
       "9             Identify Key Customer Contacts        4.44        4.83   \n",
       "10         Assign Customer Support Resources        0.65        0.59   \n",
       "11  Enter Customer Information into Database        2.17        1.79   \n",
       "12                 Establish Success Metrics       12.27        10.2   \n",
       "\n",
       "    Employee 3  Employee 4  Employee 5  Employee 6  Employee 7  Employee 8  \\\n",
       "0         3.75         1.5        3.59        3.24        1.33        2.48   \n",
       "1         0.78        0.73        0.51        0.65        0.67        0.67   \n",
       "2         1.59        1.34        1.03        1.58        1.33        1.86   \n",
       "3         9.79       11.53       11.03        9.77       10.37       10.89   \n",
       "4          NaN         NaN         NaN         NaN         NaN         NaN   \n",
       "5          NaN         NaN         NaN         NaN         NaN         NaN   \n",
       "6          NaN         NaN         NaN         NaN         NaN         NaN   \n",
       "7          NaN         NaN         NaN         NaN         NaN         NaN   \n",
       "8   Employee 3  Employee 4  Employee 5  Employee 6  Employee 7  Employee 8   \n",
       "9         2.85        4.34        4.46           3        3.27        4.51   \n",
       "10        0.34        0.01        0.64        0.01        0.11        0.14   \n",
       "11        1.84        1.69        2.02        1.65        1.46        1.65   \n",
       "12        9.27        9.79        9.89       10.68       12.21        9.91   \n",
       "\n",
       "    Employee 9  Employee 10  \n",
       "0         2.52         3.98  \n",
       "1         0.89         0.36  \n",
       "2         1.18         1.67  \n",
       "3        10.71        10.26  \n",
       "4          NaN          NaN  \n",
       "5          NaN          NaN  \n",
       "6          NaN          NaN  \n",
       "7          NaN          NaN  \n",
       "8   Employee 9  Employee 10  \n",
       "9          2.2         4.74  \n",
       "10        0.04         0.54  \n",
       "11        2.06         1.55  \n",
       "12       12.95        10.15  "
      ],
      "text/html": "<div>\n<style scoped>\n    .dataframe tbody tr th:only-of-type {\n        vertical-align: middle;\n    }\n\n    .dataframe tbody tr th {\n        vertical-align: top;\n    }\n\n    .dataframe thead th {\n        text-align: right;\n    }\n</style>\n<table border=\"1\" class=\"dataframe\">\n  <thead>\n    <tr style=\"text-align: right;\">\n      <th></th>\n      <th>Customer Onboarding Process</th>\n      <th>Employee 1</th>\n      <th>Employee 2</th>\n      <th>Employee 3</th>\n      <th>Employee 4</th>\n      <th>Employee 5</th>\n      <th>Employee 6</th>\n      <th>Employee 7</th>\n      <th>Employee 8</th>\n      <th>Employee 9</th>\n      <th>Employee 10</th>\n    </tr>\n  </thead>\n  <tbody>\n    <tr>\n      <th>0</th>\n      <td>Identify Key Customer Contacts</td>\n      <td>1.82</td>\n      <td>2.89</td>\n      <td>3.75</td>\n      <td>1.5</td>\n      <td>3.59</td>\n      <td>3.24</td>\n      <td>1.33</td>\n      <td>2.48</td>\n      <td>2.52</td>\n      <td>3.98</td>\n    </tr>\n    <tr>\n      <th>1</th>\n      <td>Assign Customer Support Resources</td>\n      <td>0.86</td>\n      <td>0.44</td>\n      <td>0.78</td>\n      <td>0.73</td>\n      <td>0.51</td>\n      <td>0.65</td>\n      <td>0.67</td>\n      <td>0.67</td>\n      <td>0.89</td>\n      <td>0.36</td>\n    </tr>\n    <tr>\n      <th>2</th>\n      <td>Enter Customer Information into Database</td>\n      <td>1.48</td>\n      <td>1.98</td>\n      <td>1.59</td>\n      <td>1.34</td>\n      <td>1.03</td>\n      <td>1.58</td>\n      <td>1.33</td>\n      <td>1.86</td>\n      <td>1.18</td>\n      <td>1.67</td>\n    </tr>\n    <tr>\n      <th>3</th>\n      <td>Establish Success Metrics</td>\n      <td>10.9</td>\n      <td>10.12</td>\n      <td>9.79</td>\n      <td>11.53</td>\n      <td>11.03</td>\n      <td>9.77</td>\n      <td>10.37</td>\n      <td>10.89</td>\n      <td>10.71</td>\n      <td>10.26</td>\n    </tr>\n    <tr>\n      <th>4</th>\n      <td>NaN</td>\n      <td>NaN</td>\n      <td>NaN</td>\n      <td>NaN</td>\n      <td>NaN</td>\n      <td>NaN</td>\n      <td>NaN</td>\n      <td>NaN</td>\n      <td>NaN</td>\n      <td>NaN</td>\n      <td>NaN</td>\n    </tr>\n    <tr>\n      <th>5</th>\n      <td>NaN</td>\n      <td>NaN</td>\n      <td>NaN</td>\n      <td>NaN</td>\n      <td>NaN</td>\n      <td>NaN</td>\n      <td>NaN</td>\n      <td>NaN</td>\n      <td>NaN</td>\n      <td>NaN</td>\n      <td>NaN</td>\n    </tr>\n    <tr>\n      <th>6</th>\n      <td>NaN</td>\n      <td>NaN</td>\n      <td>NaN</td>\n      <td>NaN</td>\n      <td>NaN</td>\n      <td>NaN</td>\n      <td>NaN</td>\n      <td>NaN</td>\n      <td>NaN</td>\n      <td>NaN</td>\n      <td>NaN</td>\n    </tr>\n    <tr>\n      <th>7</th>\n      <td>NaN</td>\n      <td>Joe</td>\n      <td>NaN</td>\n      <td>NaN</td>\n      <td>NaN</td>\n      <td>NaN</td>\n      <td>NaN</td>\n      <td>NaN</td>\n      <td>NaN</td>\n      <td>NaN</td>\n      <td>NaN</td>\n    </tr>\n    <tr>\n      <th>8</th>\n      <td>Customer Onboarding Process</td>\n      <td>Employee 1</td>\n      <td>Employee 2</td>\n      <td>Employee 3</td>\n      <td>Employee 4</td>\n      <td>Employee 5</td>\n      <td>Employee 6</td>\n      <td>Employee 7</td>\n      <td>Employee 8</td>\n      <td>Employee 9</td>\n      <td>Employee 10</td>\n    </tr>\n    <tr>\n      <th>9</th>\n      <td>Identify Key Customer Contacts</td>\n      <td>4.44</td>\n      <td>4.83</td>\n      <td>2.85</td>\n      <td>4.34</td>\n      <td>4.46</td>\n      <td>3</td>\n      <td>3.27</td>\n      <td>4.51</td>\n      <td>2.2</td>\n      <td>4.74</td>\n    </tr>\n    <tr>\n      <th>10</th>\n      <td>Assign Customer Support Resources</td>\n      <td>0.65</td>\n      <td>0.59</td>\n      <td>0.34</td>\n      <td>0.01</td>\n      <td>0.64</td>\n      <td>0.01</td>\n      <td>0.11</td>\n      <td>0.14</td>\n      <td>0.04</td>\n      <td>0.54</td>\n    </tr>\n    <tr>\n      <th>11</th>\n      <td>Enter Customer Information into Database</td>\n      <td>2.17</td>\n      <td>1.79</td>\n      <td>1.84</td>\n      <td>1.69</td>\n      <td>2.02</td>\n      <td>1.65</td>\n      <td>1.46</td>\n      <td>1.65</td>\n      <td>2.06</td>\n      <td>1.55</td>\n    </tr>\n    <tr>\n      <th>12</th>\n      <td>Establish Success Metrics</td>\n      <td>12.27</td>\n      <td>10.2</td>\n      <td>9.27</td>\n      <td>9.79</td>\n      <td>9.89</td>\n      <td>10.68</td>\n      <td>12.21</td>\n      <td>9.91</td>\n      <td>12.95</td>\n      <td>10.15</td>\n    </tr>\n  </tbody>\n</table>\n</div>"
     },
     "metadata": {},
     "execution_count": 8
    }
   ],
   "source": [
    "customer_data = pd.read_excel('customersupporttimestudydata.xlsx', header=2)\n",
    "customer_data"
   ]
  },
  {
   "cell_type": "code",
   "execution_count": 9,
   "metadata": {},
   "outputs": [
    {
     "output_type": "execute_result",
     "data": {
      "text/plain": [
       "    Employee 1  Employee 2  Employee 3  Employee 4  Employee 5  Employee 6  \\\n",
       "0         1.82        2.89        3.75        1.50        3.59        3.24   \n",
       "1         0.86        0.44        0.78        0.73        0.51        0.65   \n",
       "2         1.48        1.98        1.59        1.34        1.03        1.58   \n",
       "3        10.90       10.12        9.79       11.53       11.03        9.77   \n",
       "9         4.44        4.83        2.85        4.34        4.46        3.00   \n",
       "10        0.65        0.59        0.34        0.01        0.64        0.01   \n",
       "11        2.17        1.79        1.84        1.69        2.02        1.65   \n",
       "12       12.27       10.20        9.27        9.79        9.89       10.68   \n",
       "\n",
       "    Employee 7  Employee 8  Employee 9  Employee 10  \n",
       "0         1.33        2.48        2.52         3.98  \n",
       "1         0.67        0.67        0.89         0.36  \n",
       "2         1.33        1.86        1.18         1.67  \n",
       "3        10.37       10.89       10.71        10.26  \n",
       "9         3.27        4.51        2.20         4.74  \n",
       "10        0.11        0.14        0.04         0.54  \n",
       "11        1.46        1.65        2.06         1.55  \n",
       "12       12.21        9.91       12.95        10.15  "
      ],
      "text/html": "<div>\n<style scoped>\n    .dataframe tbody tr th:only-of-type {\n        vertical-align: middle;\n    }\n\n    .dataframe tbody tr th {\n        vertical-align: top;\n    }\n\n    .dataframe thead th {\n        text-align: right;\n    }\n</style>\n<table border=\"1\" class=\"dataframe\">\n  <thead>\n    <tr style=\"text-align: right;\">\n      <th></th>\n      <th>Employee 1</th>\n      <th>Employee 2</th>\n      <th>Employee 3</th>\n      <th>Employee 4</th>\n      <th>Employee 5</th>\n      <th>Employee 6</th>\n      <th>Employee 7</th>\n      <th>Employee 8</th>\n      <th>Employee 9</th>\n      <th>Employee 10</th>\n    </tr>\n  </thead>\n  <tbody>\n    <tr>\n      <th>0</th>\n      <td>1.82</td>\n      <td>2.89</td>\n      <td>3.75</td>\n      <td>1.50</td>\n      <td>3.59</td>\n      <td>3.24</td>\n      <td>1.33</td>\n      <td>2.48</td>\n      <td>2.52</td>\n      <td>3.98</td>\n    </tr>\n    <tr>\n      <th>1</th>\n      <td>0.86</td>\n      <td>0.44</td>\n      <td>0.78</td>\n      <td>0.73</td>\n      <td>0.51</td>\n      <td>0.65</td>\n      <td>0.67</td>\n      <td>0.67</td>\n      <td>0.89</td>\n      <td>0.36</td>\n    </tr>\n    <tr>\n      <th>2</th>\n      <td>1.48</td>\n      <td>1.98</td>\n      <td>1.59</td>\n      <td>1.34</td>\n      <td>1.03</td>\n      <td>1.58</td>\n      <td>1.33</td>\n      <td>1.86</td>\n      <td>1.18</td>\n      <td>1.67</td>\n    </tr>\n    <tr>\n      <th>3</th>\n      <td>10.90</td>\n      <td>10.12</td>\n      <td>9.79</td>\n      <td>11.53</td>\n      <td>11.03</td>\n      <td>9.77</td>\n      <td>10.37</td>\n      <td>10.89</td>\n      <td>10.71</td>\n      <td>10.26</td>\n    </tr>\n    <tr>\n      <th>9</th>\n      <td>4.44</td>\n      <td>4.83</td>\n      <td>2.85</td>\n      <td>4.34</td>\n      <td>4.46</td>\n      <td>3.00</td>\n      <td>3.27</td>\n      <td>4.51</td>\n      <td>2.20</td>\n      <td>4.74</td>\n    </tr>\n    <tr>\n      <th>10</th>\n      <td>0.65</td>\n      <td>0.59</td>\n      <td>0.34</td>\n      <td>0.01</td>\n      <td>0.64</td>\n      <td>0.01</td>\n      <td>0.11</td>\n      <td>0.14</td>\n      <td>0.04</td>\n      <td>0.54</td>\n    </tr>\n    <tr>\n      <th>11</th>\n      <td>2.17</td>\n      <td>1.79</td>\n      <td>1.84</td>\n      <td>1.69</td>\n      <td>2.02</td>\n      <td>1.65</td>\n      <td>1.46</td>\n      <td>1.65</td>\n      <td>2.06</td>\n      <td>1.55</td>\n    </tr>\n    <tr>\n      <th>12</th>\n      <td>12.27</td>\n      <td>10.20</td>\n      <td>9.27</td>\n      <td>9.79</td>\n      <td>9.89</td>\n      <td>10.68</td>\n      <td>12.21</td>\n      <td>9.91</td>\n      <td>12.95</td>\n      <td>10.15</td>\n    </tr>\n  </tbody>\n</table>\n</div>"
     },
     "metadata": {},
     "execution_count": 9
    }
   ],
   "source": [
    "customer_data = customer_data.dropna().drop(index=8).drop(columns='Customer Onboarding Process').astype('float')\n",
    "customer_data"
   ]
  },
  {
   "cell_type": "code",
   "execution_count": 10,
   "metadata": {},
   "outputs": [
    {
     "output_type": "execute_result",
     "data": {
      "text/plain": [
       "array([19.53, 17.41, 14.3 , 15.83, 17.01, 15.34, 17.05, 16.21, 17.25,\n",
       "       16.98])"
      ]
     },
     "metadata": {},
     "execution_count": 10
    }
   ],
   "source": [
    "nataly = customer_data[:4].sum().values\n",
    "joe = customer_data[4:].sum().values\n",
    "joe"
   ]
  },
  {
   "cell_type": "code",
   "execution_count": 11,
   "metadata": {},
   "outputs": [
    {
     "output_type": "stream",
     "name": "stdout",
     "text": [
      "Statistic: 2.5569719803766966\npvalue: 0.02312427188943783\n"
     ]
    }
   ],
   "source": [
    "sp = ttest_ind(joe, nataly, equal_var=False)\n",
    "print('Statistic:', sp.statistic)\n",
    "print('pvalue:', sp.pvalue)"
   ]
  },
  {
   "source": [
    "## Customer Service AB Testing Data "
   ],
   "cell_type": "markdown",
   "metadata": {}
  },
  {
   "cell_type": "code",
   "execution_count": 12,
   "metadata": {},
   "outputs": [
    {
     "output_type": "execute_result",
     "data": {
      "text/plain": [
       "   RecordID    Phone Number  AutomatedFlag  CS Rating\n",
       "0         1  (733) 308-5171              1          2\n",
       "1         2  (737) 479-9819              0          5\n",
       "2         3  (571) 837-6630              0          4\n",
       "3         4  (746) 481-2200              0          5\n",
       "4         5  (224) 126-2105              1          4"
      ],
      "text/html": "<div>\n<style scoped>\n    .dataframe tbody tr th:only-of-type {\n        vertical-align: middle;\n    }\n\n    .dataframe tbody tr th {\n        vertical-align: top;\n    }\n\n    .dataframe thead th {\n        text-align: right;\n    }\n</style>\n<table border=\"1\" class=\"dataframe\">\n  <thead>\n    <tr style=\"text-align: right;\">\n      <th></th>\n      <th>RecordID</th>\n      <th>Phone Number</th>\n      <th>AutomatedFlag</th>\n      <th>CS Rating</th>\n    </tr>\n  </thead>\n  <tbody>\n    <tr>\n      <th>0</th>\n      <td>1</td>\n      <td>(733) 308-5171</td>\n      <td>1</td>\n      <td>2</td>\n    </tr>\n    <tr>\n      <th>1</th>\n      <td>2</td>\n      <td>(737) 479-9819</td>\n      <td>0</td>\n      <td>5</td>\n    </tr>\n    <tr>\n      <th>2</th>\n      <td>3</td>\n      <td>(571) 837-6630</td>\n      <td>0</td>\n      <td>4</td>\n    </tr>\n    <tr>\n      <th>3</th>\n      <td>4</td>\n      <td>(746) 481-2200</td>\n      <td>0</td>\n      <td>5</td>\n    </tr>\n    <tr>\n      <th>4</th>\n      <td>5</td>\n      <td>(224) 126-2105</td>\n      <td>1</td>\n      <td>4</td>\n    </tr>\n  </tbody>\n</table>\n</div>"
     },
     "metadata": {},
     "execution_count": 12
    }
   ],
   "source": [
    "customer_service_data = pd.read_csv('customerserviceabtestdata.csv')\n",
    "customer_service_data.head()"
   ]
  },
  {
   "cell_type": "code",
   "execution_count": 13,
   "metadata": {},
   "outputs": [
    {
     "output_type": "execute_result",
     "data": {
      "text/plain": [
       "(131) 231-3793    2\n",
       "(197) 709-4054    2\n",
       "(197) 374-6775    2\n",
       "(561) 682-8993    2\n",
       "(571) 837-6630    2\n",
       "(546) 286-7815    2\n",
       "(494) 893-3812    2\n",
       "(257) 998-4039    2\n",
       "(395) 540-9403    1\n",
       "(229) 646-8659    1\n",
       "Name: Phone Number, dtype: int64"
      ]
     },
     "metadata": {},
     "execution_count": 13
    }
   ],
   "source": [
    "phone_count = customer_service_data['Phone Number'].value_counts()\n",
    "phone_count[:10]"
   ]
  },
  {
   "cell_type": "code",
   "execution_count": 14,
   "metadata": {},
   "outputs": [
    {
     "output_type": "execute_result",
     "data": {
      "text/plain": [
       "array([2, 4, 2, 4, 1, 4, 3, 5, 2, 4, 4, 3, 4, 4, 3, 1, 5, 4, 4, 5, 4, 4,\n",
       "       5, 5, 3, 5, 5, 2, 5, 3, 5, 3, 1, 2, 4, 5, 4, 2, 5, 2, 4, 4, 2, 1,\n",
       "       2, 5, 3, 4, 3, 4, 4, 2, 2, 3, 1, 5, 5, 3, 3, 4, 2, 2, 3, 3, 5, 5,\n",
       "       3, 4, 4, 1, 3, 5, 2, 1, 3, 5, 3, 5, 5, 3, 1, 2, 3, 3, 3, 1, 5, 5,\n",
       "       4, 1, 3, 5, 4, 3, 5, 4, 3, 5, 1, 5, 3, 1, 4, 4, 4, 1, 5, 2, 4, 4,\n",
       "       5, 4, 4, 5, 5, 4, 1, 1, 3, 1, 4, 2, 1, 1, 4, 4, 5, 2, 4, 3, 4, 2,\n",
       "       4, 1, 4, 2, 5, 2, 4, 1, 4, 5, 5, 3, 1, 1, 1, 3, 2, 5, 2, 4, 5, 5,\n",
       "       1, 1, 3, 3, 1, 4, 3, 5, 2, 2, 5, 5, 4, 3, 5, 5, 3, 4, 1, 3, 4, 2,\n",
       "       3, 3, 4, 2, 5, 3, 2, 2, 1, 2, 2, 2, 5, 2, 4, 2, 4, 2, 3, 3, 4, 3,\n",
       "       1, 2, 4, 3, 5, 5, 4, 4, 5, 1, 5, 5, 4, 5, 1, 4, 3, 2, 5, 3, 5, 4,\n",
       "       2, 3, 1, 4, 5, 4, 2, 2, 3, 2, 2, 5, 5, 4, 4, 2, 1, 5, 5, 5, 1, 1,\n",
       "       2, 3, 5, 4, 1], dtype=int64)"
      ]
     },
     "metadata": {},
     "execution_count": 14
    }
   ],
   "source": [
    "AutomatedFlag_0 = customer_service_data[customer_service_data['AutomatedFlag']==0]['CS Rating'].values\n",
    "AutomatedFlag_1 = customer_service_data[customer_service_data['AutomatedFlag']==1]['CS Rating'].values\n",
    "AutomatedFlag_1"
   ]
  },
  {
   "cell_type": "code",
   "execution_count": 15,
   "metadata": {},
   "outputs": [
    {
     "output_type": "stream",
     "name": "stdout",
     "text": [
      "Statistic: -1.9194225278771027\npvalue: 0.0555978861900951\n"
     ]
    }
   ],
   "source": [
    "sp = ttest_ind(AutomatedFlag_0, AutomatedFlag_1, equal_var=False)\n",
    "print('Statistic:', sp.statistic)\n",
    "print('pvalue:', sp.pvalue)"
   ]
  },
  {
   "source": [
    "## Grocery Website AB Test Data"
   ],
   "cell_type": "markdown",
   "metadata": {}
  },
  {
   "cell_type": "code",
   "execution_count": 16,
   "metadata": {},
   "outputs": [
    {
     "output_type": "execute_result",
     "data": {
      "text/plain": [
       "   RecordID   IP Address  LoggedInFlag  ServerID  VisitPageFlag\n",
       "0         1  39.13.114.2             1         2              0\n",
       "1         2    13.3.25.8             1         1              0\n",
       "2         3  247.8.211.8             1         1              0\n",
       "3         4  124.8.220.3             0         3              0\n",
       "4         5  60.10.192.7             0         2              0"
      ],
      "text/html": "<div>\n<style scoped>\n    .dataframe tbody tr th:only-of-type {\n        vertical-align: middle;\n    }\n\n    .dataframe tbody tr th {\n        vertical-align: top;\n    }\n\n    .dataframe thead th {\n        text-align: right;\n    }\n</style>\n<table border=\"1\" class=\"dataframe\">\n  <thead>\n    <tr style=\"text-align: right;\">\n      <th></th>\n      <th>RecordID</th>\n      <th>IP Address</th>\n      <th>LoggedInFlag</th>\n      <th>ServerID</th>\n      <th>VisitPageFlag</th>\n    </tr>\n  </thead>\n  <tbody>\n    <tr>\n      <th>0</th>\n      <td>1</td>\n      <td>39.13.114.2</td>\n      <td>1</td>\n      <td>2</td>\n      <td>0</td>\n    </tr>\n    <tr>\n      <th>1</th>\n      <td>2</td>\n      <td>13.3.25.8</td>\n      <td>1</td>\n      <td>1</td>\n      <td>0</td>\n    </tr>\n    <tr>\n      <th>2</th>\n      <td>3</td>\n      <td>247.8.211.8</td>\n      <td>1</td>\n      <td>1</td>\n      <td>0</td>\n    </tr>\n    <tr>\n      <th>3</th>\n      <td>4</td>\n      <td>124.8.220.3</td>\n      <td>0</td>\n      <td>3</td>\n      <td>0</td>\n    </tr>\n    <tr>\n      <th>4</th>\n      <td>5</td>\n      <td>60.10.192.7</td>\n      <td>0</td>\n      <td>2</td>\n      <td>0</td>\n    </tr>\n  </tbody>\n</table>\n</div>"
     },
     "metadata": {},
     "execution_count": 16
    }
   ],
   "source": [
    "data = pd.read_csv('grocerywebsiteabtestdata.csv')\n",
    "data.head()"
   ]
  },
  {
   "cell_type": "code",
   "execution_count": null,
   "metadata": {},
   "outputs": [],
   "source": []
  }
 ]
}