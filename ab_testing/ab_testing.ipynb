{
 "metadata": {
  "language_info": {
   "codemirror_mode": {
    "name": "ipython",
    "version": 3
   },
   "file_extension": ".py",
   "mimetype": "text/x-python",
   "name": "python",
   "nbconvert_exporter": "python",
   "pygments_lexer": "ipython3",
   "version": "3.9.5"
  },
  "orig_nbformat": 4,
  "kernelspec": {
   "name": "python3",
   "display_name": "Python 3.9.5 64-bit ('.venv': venv)"
  },
  "interpreter": {
   "hash": "5cba3963c37d400916a9e80ad5acd0c56daed180f4961ad2a064f19bb9bbda97"
  }
 },
 "nbformat": 4,
 "nbformat_minor": 2,
 "cells": [
  {
   "source": [
    "# A/B Testing\n",
    "\n",
    "## Test of Means Analysis\n",
    "Statistical calculation of whether the mean values of the treatment and control groups are the same\n",
    "\n",
    "## T-Test\n",
    "Give p-value - likelihood the actual difference between the means is zero.  \n",
    "p-value < 0.05 (statistically significant)  \n",
    "T-test is important when working in small data set\n",
    "\n",
    "There are three types of t-tests you can use:  \n",
    "1. Paired  \n",
    "2. Equal variance  \n",
    "3. Unequal variance  \n",
    "\n",
    "In a random experiment you will usually assume that variances between the groups are different, so we’ll use an unequal variance t-test.\n"
   ],
   "cell_type": "markdown",
   "metadata": {}
  },
  {
   "cell_type": "code",
   "execution_count": 4,
   "metadata": {},
   "outputs": [],
   "source": [
    "# load package\n",
    "import pandas as pd"
   ]
  },
  {
   "cell_type": "code",
   "execution_count": 9,
   "metadata": {},
   "outputs": [
    {
     "output_type": "execute_result",
     "data": {
      "text/plain": [
       "               Name Alignment  Intelligence    Strength      Speed  \\\n",
       "0          Iron Man      good    100.000000   85.000000  58.000000   \n",
       "1   Captain America      good     63.000000   65.000000  35.000000   \n",
       "2              Hulk      good     88.000000  100.000000  47.000000   \n",
       "3           Hawkeye      good     62.000000   12.000000  23.000000   \n",
       "4              Thor      good     69.000000  100.000000  92.000000   \n",
       "5        Spider-Man      good     88.000000   55.000000  60.000000   \n",
       "6           Average       NaN     78.333333   69.500000  52.500000   \n",
       "7               NaN       NaN           NaN         NaN        NaN   \n",
       "8            Ultron       bad     95.000000   83.000000  42.000000   \n",
       "9         Red Skull       bad     90.000000   30.000000  12.000000   \n",
       "10      Abomination       bad     85.000000   80.000000  53.000000   \n",
       "11         Bullseye       bad     75.000000   11.000000  25.000000   \n",
       "12             Loki       bad     87.000000   57.000000  47.000000   \n",
       "13     Green Goblin       bad     85.000000   35.000000  35.000000   \n",
       "14              NaN       NaN     86.166667   49.333333  35.666667   \n",
       "15              NaN       NaN           NaN         NaN        NaN   \n",
       "16              NaN       NaN      0.100000   -0.290168        NaN   \n",
       "17              NaN       NaN      0.300942    0.291602        NaN   \n",
       "\n",
       "    Durability       Power      Combat  Unnamed: 8             Hero  \\\n",
       "0    85.000000  100.000000   64.000000         NaN         Iron Man   \n",
       "1    56.000000   46.000000  100.000000         NaN  Captain America   \n",
       "2   100.000000   41.000000   85.000000         NaN             Hulk   \n",
       "3    14.000000   26.000000   80.000000         NaN          Hawkeye   \n",
       "4   100.000000  100.000000   85.000000         NaN             Thor   \n",
       "5    74.000000   58.000000   85.000000         NaN       Spider-Man   \n",
       "6    71.500000   61.833333   83.166667         NaN              NaN   \n",
       "7          NaN         NaN         NaN         NaN              NaN   \n",
       "8   100.000000  100.000000   64.000000         NaN              NaN   \n",
       "9    14.000000   19.000000   80.000000         NaN              NaN   \n",
       "10   90.000000   55.000000   95.000000         NaN              NaN   \n",
       "11   70.000000   20.000000   70.000000         NaN              NaN   \n",
       "12   85.000000   85.000000   56.000000         NaN              NaN   \n",
       "13   48.000000   38.000000   28.000000         NaN              NaN   \n",
       "14   67.833333   52.833333   65.500000         NaN              NaN   \n",
       "15         NaN         NaN         NaN         NaN              NaN   \n",
       "16         NaN         NaN         NaN         NaN              NaN   \n",
       "17         NaN         NaN         NaN         NaN              NaN   \n",
       "\n",
       "           Rival  Unnamed: 11  Unnamed: 12  Unnamed: 13  Unnamed: 14  \n",
       "0         Ultron          NaN          NaN          NaN          NaN  \n",
       "1      Red Skull          NaN          NaN          NaN          NaN  \n",
       "2    Abomination          NaN          NaN          NaN          NaN  \n",
       "3       Bullseye          NaN          NaN          NaN          NaN  \n",
       "4           Loki          NaN          NaN          NaN          NaN  \n",
       "5   Green Goblin          NaN          NaN          NaN          NaN  \n",
       "6            NaN          NaN          NaN          NaN          NaN  \n",
       "7            NaN          NaN          NaN          NaN          NaN  \n",
       "8            NaN          NaN          NaN          NaN          NaN  \n",
       "9            NaN          NaN          NaN          NaN          NaN  \n",
       "10           NaN          NaN          NaN          NaN          NaN  \n",
       "11           NaN          NaN          NaN          NaN          NaN  \n",
       "12           NaN          NaN          NaN          NaN          NaN  \n",
       "13           NaN          NaN          NaN          NaN          NaN  \n",
       "14           NaN          NaN          NaN          NaN          NaN  \n",
       "15           NaN          NaN          NaN          NaN          NaN  \n",
       "16           NaN          NaN          NaN          NaN          NaN  \n",
       "17           NaN          NaN          NaN          NaN          NaN  "
      ],
      "text/html": "<div>\n<style scoped>\n    .dataframe tbody tr th:only-of-type {\n        vertical-align: middle;\n    }\n\n    .dataframe tbody tr th {\n        vertical-align: top;\n    }\n\n    .dataframe thead th {\n        text-align: right;\n    }\n</style>\n<table border=\"1\" class=\"dataframe\">\n  <thead>\n    <tr style=\"text-align: right;\">\n      <th></th>\n      <th>Name</th>\n      <th>Alignment</th>\n      <th>Intelligence</th>\n      <th>Strength</th>\n      <th>Speed</th>\n      <th>Durability</th>\n      <th>Power</th>\n      <th>Combat</th>\n      <th>Unnamed: 8</th>\n      <th>Hero</th>\n      <th>Rival</th>\n      <th>Unnamed: 11</th>\n      <th>Unnamed: 12</th>\n      <th>Unnamed: 13</th>\n      <th>Unnamed: 14</th>\n    </tr>\n  </thead>\n  <tbody>\n    <tr>\n      <th>0</th>\n      <td>Iron Man</td>\n      <td>good</td>\n      <td>100.000000</td>\n      <td>85.000000</td>\n      <td>58.000000</td>\n      <td>85.000000</td>\n      <td>100.000000</td>\n      <td>64.000000</td>\n      <td>NaN</td>\n      <td>Iron Man</td>\n      <td>Ultron</td>\n      <td>NaN</td>\n      <td>NaN</td>\n      <td>NaN</td>\n      <td>NaN</td>\n    </tr>\n    <tr>\n      <th>1</th>\n      <td>Captain America</td>\n      <td>good</td>\n      <td>63.000000</td>\n      <td>65.000000</td>\n      <td>35.000000</td>\n      <td>56.000000</td>\n      <td>46.000000</td>\n      <td>100.000000</td>\n      <td>NaN</td>\n      <td>Captain America</td>\n      <td>Red Skull</td>\n      <td>NaN</td>\n      <td>NaN</td>\n      <td>NaN</td>\n      <td>NaN</td>\n    </tr>\n    <tr>\n      <th>2</th>\n      <td>Hulk</td>\n      <td>good</td>\n      <td>88.000000</td>\n      <td>100.000000</td>\n      <td>47.000000</td>\n      <td>100.000000</td>\n      <td>41.000000</td>\n      <td>85.000000</td>\n      <td>NaN</td>\n      <td>Hulk</td>\n      <td>Abomination</td>\n      <td>NaN</td>\n      <td>NaN</td>\n      <td>NaN</td>\n      <td>NaN</td>\n    </tr>\n    <tr>\n      <th>3</th>\n      <td>Hawkeye</td>\n      <td>good</td>\n      <td>62.000000</td>\n      <td>12.000000</td>\n      <td>23.000000</td>\n      <td>14.000000</td>\n      <td>26.000000</td>\n      <td>80.000000</td>\n      <td>NaN</td>\n      <td>Hawkeye</td>\n      <td>Bullseye</td>\n      <td>NaN</td>\n      <td>NaN</td>\n      <td>NaN</td>\n      <td>NaN</td>\n    </tr>\n    <tr>\n      <th>4</th>\n      <td>Thor</td>\n      <td>good</td>\n      <td>69.000000</td>\n      <td>100.000000</td>\n      <td>92.000000</td>\n      <td>100.000000</td>\n      <td>100.000000</td>\n      <td>85.000000</td>\n      <td>NaN</td>\n      <td>Thor</td>\n      <td>Loki</td>\n      <td>NaN</td>\n      <td>NaN</td>\n      <td>NaN</td>\n      <td>NaN</td>\n    </tr>\n    <tr>\n      <th>5</th>\n      <td>Spider-Man</td>\n      <td>good</td>\n      <td>88.000000</td>\n      <td>55.000000</td>\n      <td>60.000000</td>\n      <td>74.000000</td>\n      <td>58.000000</td>\n      <td>85.000000</td>\n      <td>NaN</td>\n      <td>Spider-Man</td>\n      <td>Green Goblin</td>\n      <td>NaN</td>\n      <td>NaN</td>\n      <td>NaN</td>\n      <td>NaN</td>\n    </tr>\n    <tr>\n      <th>6</th>\n      <td>Average</td>\n      <td>NaN</td>\n      <td>78.333333</td>\n      <td>69.500000</td>\n      <td>52.500000</td>\n      <td>71.500000</td>\n      <td>61.833333</td>\n      <td>83.166667</td>\n      <td>NaN</td>\n      <td>NaN</td>\n      <td>NaN</td>\n      <td>NaN</td>\n      <td>NaN</td>\n      <td>NaN</td>\n      <td>NaN</td>\n    </tr>\n    <tr>\n      <th>7</th>\n      <td>NaN</td>\n      <td>NaN</td>\n      <td>NaN</td>\n      <td>NaN</td>\n      <td>NaN</td>\n      <td>NaN</td>\n      <td>NaN</td>\n      <td>NaN</td>\n      <td>NaN</td>\n      <td>NaN</td>\n      <td>NaN</td>\n      <td>NaN</td>\n      <td>NaN</td>\n      <td>NaN</td>\n      <td>NaN</td>\n    </tr>\n    <tr>\n      <th>8</th>\n      <td>Ultron</td>\n      <td>bad</td>\n      <td>95.000000</td>\n      <td>83.000000</td>\n      <td>42.000000</td>\n      <td>100.000000</td>\n      <td>100.000000</td>\n      <td>64.000000</td>\n      <td>NaN</td>\n      <td>NaN</td>\n      <td>NaN</td>\n      <td>NaN</td>\n      <td>NaN</td>\n      <td>NaN</td>\n      <td>NaN</td>\n    </tr>\n    <tr>\n      <th>9</th>\n      <td>Red Skull</td>\n      <td>bad</td>\n      <td>90.000000</td>\n      <td>30.000000</td>\n      <td>12.000000</td>\n      <td>14.000000</td>\n      <td>19.000000</td>\n      <td>80.000000</td>\n      <td>NaN</td>\n      <td>NaN</td>\n      <td>NaN</td>\n      <td>NaN</td>\n      <td>NaN</td>\n      <td>NaN</td>\n      <td>NaN</td>\n    </tr>\n    <tr>\n      <th>10</th>\n      <td>Abomination</td>\n      <td>bad</td>\n      <td>85.000000</td>\n      <td>80.000000</td>\n      <td>53.000000</td>\n      <td>90.000000</td>\n      <td>55.000000</td>\n      <td>95.000000</td>\n      <td>NaN</td>\n      <td>NaN</td>\n      <td>NaN</td>\n      <td>NaN</td>\n      <td>NaN</td>\n      <td>NaN</td>\n      <td>NaN</td>\n    </tr>\n    <tr>\n      <th>11</th>\n      <td>Bullseye</td>\n      <td>bad</td>\n      <td>75.000000</td>\n      <td>11.000000</td>\n      <td>25.000000</td>\n      <td>70.000000</td>\n      <td>20.000000</td>\n      <td>70.000000</td>\n      <td>NaN</td>\n      <td>NaN</td>\n      <td>NaN</td>\n      <td>NaN</td>\n      <td>NaN</td>\n      <td>NaN</td>\n      <td>NaN</td>\n    </tr>\n    <tr>\n      <th>12</th>\n      <td>Loki</td>\n      <td>bad</td>\n      <td>87.000000</td>\n      <td>57.000000</td>\n      <td>47.000000</td>\n      <td>85.000000</td>\n      <td>85.000000</td>\n      <td>56.000000</td>\n      <td>NaN</td>\n      <td>NaN</td>\n      <td>NaN</td>\n      <td>NaN</td>\n      <td>NaN</td>\n      <td>NaN</td>\n      <td>NaN</td>\n    </tr>\n    <tr>\n      <th>13</th>\n      <td>Green Goblin</td>\n      <td>bad</td>\n      <td>85.000000</td>\n      <td>35.000000</td>\n      <td>35.000000</td>\n      <td>48.000000</td>\n      <td>38.000000</td>\n      <td>28.000000</td>\n      <td>NaN</td>\n      <td>NaN</td>\n      <td>NaN</td>\n      <td>NaN</td>\n      <td>NaN</td>\n      <td>NaN</td>\n      <td>NaN</td>\n    </tr>\n    <tr>\n      <th>14</th>\n      <td>NaN</td>\n      <td>NaN</td>\n      <td>86.166667</td>\n      <td>49.333333</td>\n      <td>35.666667</td>\n      <td>67.833333</td>\n      <td>52.833333</td>\n      <td>65.500000</td>\n      <td>NaN</td>\n      <td>NaN</td>\n      <td>NaN</td>\n      <td>NaN</td>\n      <td>NaN</td>\n      <td>NaN</td>\n      <td>NaN</td>\n    </tr>\n    <tr>\n      <th>15</th>\n      <td>NaN</td>\n      <td>NaN</td>\n      <td>NaN</td>\n      <td>NaN</td>\n      <td>NaN</td>\n      <td>NaN</td>\n      <td>NaN</td>\n      <td>NaN</td>\n      <td>NaN</td>\n      <td>NaN</td>\n      <td>NaN</td>\n      <td>NaN</td>\n      <td>NaN</td>\n      <td>NaN</td>\n      <td>NaN</td>\n    </tr>\n    <tr>\n      <th>16</th>\n      <td>NaN</td>\n      <td>NaN</td>\n      <td>0.100000</td>\n      <td>-0.290168</td>\n      <td>NaN</td>\n      <td>NaN</td>\n      <td>NaN</td>\n      <td>NaN</td>\n      <td>NaN</td>\n      <td>NaN</td>\n      <td>NaN</td>\n      <td>NaN</td>\n      <td>NaN</td>\n      <td>NaN</td>\n      <td>NaN</td>\n    </tr>\n    <tr>\n      <th>17</th>\n      <td>NaN</td>\n      <td>NaN</td>\n      <td>0.300942</td>\n      <td>0.291602</td>\n      <td>NaN</td>\n      <td>NaN</td>\n      <td>NaN</td>\n      <td>NaN</td>\n      <td>NaN</td>\n      <td>NaN</td>\n      <td>NaN</td>\n      <td>NaN</td>\n      <td>NaN</td>\n      <td>NaN</td>\n      <td>NaN</td>\n    </tr>\n  </tbody>\n</table>\n</div>"
     },
     "metadata": {},
     "execution_count": 9
    }
   ],
   "source": [
    "# Supper hero data\n",
    "super_hero = pd.read_excel('superherodata.xlsx')\n",
    "\n",
    "super_hero"
   ]
  },
  {
   "cell_type": "code",
   "execution_count": 13,
   "metadata": {},
   "outputs": [
    {
     "output_type": "execute_result",
     "data": {
      "text/plain": [
       "['Name',\n",
       " 'Alignment',\n",
       " 'Intelligence',\n",
       " 'Strength',\n",
       " 'Speed',\n",
       " 'Durability',\n",
       " 'Power',\n",
       " 'Combat']"
      ]
     },
     "metadata": {},
     "execution_count": 13
    }
   ],
   "source": [
    "useful_columns = list(super_hero.columns)[:8]\n",
    "useful_columns"
   ]
  },
  {
   "cell_type": "code",
   "execution_count": 16,
   "metadata": {},
   "outputs": [
    {
     "output_type": "execute_result",
     "data": {
      "text/plain": [
       "               Name Alignment  Intelligence  Strength  Speed  Durability  \\\n",
       "0          Iron Man      good         100.0      85.0   58.0        85.0   \n",
       "1   Captain America      good          63.0      65.0   35.0        56.0   \n",
       "2              Hulk      good          88.0     100.0   47.0       100.0   \n",
       "3           Hawkeye      good          62.0      12.0   23.0        14.0   \n",
       "4              Thor      good          69.0     100.0   92.0       100.0   \n",
       "5        Spider-Man      good          88.0      55.0   60.0        74.0   \n",
       "8            Ultron       bad          95.0      83.0   42.0       100.0   \n",
       "9         Red Skull       bad          90.0      30.0   12.0        14.0   \n",
       "10      Abomination       bad          85.0      80.0   53.0        90.0   \n",
       "11         Bullseye       bad          75.0      11.0   25.0        70.0   \n",
       "12             Loki       bad          87.0      57.0   47.0        85.0   \n",
       "13     Green Goblin       bad          85.0      35.0   35.0        48.0   \n",
       "\n",
       "    Power  Combat  \n",
       "0   100.0    64.0  \n",
       "1    46.0   100.0  \n",
       "2    41.0    85.0  \n",
       "3    26.0    80.0  \n",
       "4   100.0    85.0  \n",
       "5    58.0    85.0  \n",
       "8   100.0    64.0  \n",
       "9    19.0    80.0  \n",
       "10   55.0    95.0  \n",
       "11   20.0    70.0  \n",
       "12   85.0    56.0  \n",
       "13   38.0    28.0  "
      ],
      "text/html": "<div>\n<style scoped>\n    .dataframe tbody tr th:only-of-type {\n        vertical-align: middle;\n    }\n\n    .dataframe tbody tr th {\n        vertical-align: top;\n    }\n\n    .dataframe thead th {\n        text-align: right;\n    }\n</style>\n<table border=\"1\" class=\"dataframe\">\n  <thead>\n    <tr style=\"text-align: right;\">\n      <th></th>\n      <th>Name</th>\n      <th>Alignment</th>\n      <th>Intelligence</th>\n      <th>Strength</th>\n      <th>Speed</th>\n      <th>Durability</th>\n      <th>Power</th>\n      <th>Combat</th>\n    </tr>\n  </thead>\n  <tbody>\n    <tr>\n      <th>0</th>\n      <td>Iron Man</td>\n      <td>good</td>\n      <td>100.0</td>\n      <td>85.0</td>\n      <td>58.0</td>\n      <td>85.0</td>\n      <td>100.0</td>\n      <td>64.0</td>\n    </tr>\n    <tr>\n      <th>1</th>\n      <td>Captain America</td>\n      <td>good</td>\n      <td>63.0</td>\n      <td>65.0</td>\n      <td>35.0</td>\n      <td>56.0</td>\n      <td>46.0</td>\n      <td>100.0</td>\n    </tr>\n    <tr>\n      <th>2</th>\n      <td>Hulk</td>\n      <td>good</td>\n      <td>88.0</td>\n      <td>100.0</td>\n      <td>47.0</td>\n      <td>100.0</td>\n      <td>41.0</td>\n      <td>85.0</td>\n    </tr>\n    <tr>\n      <th>3</th>\n      <td>Hawkeye</td>\n      <td>good</td>\n      <td>62.0</td>\n      <td>12.0</td>\n      <td>23.0</td>\n      <td>14.0</td>\n      <td>26.0</td>\n      <td>80.0</td>\n    </tr>\n    <tr>\n      <th>4</th>\n      <td>Thor</td>\n      <td>good</td>\n      <td>69.0</td>\n      <td>100.0</td>\n      <td>92.0</td>\n      <td>100.0</td>\n      <td>100.0</td>\n      <td>85.0</td>\n    </tr>\n    <tr>\n      <th>5</th>\n      <td>Spider-Man</td>\n      <td>good</td>\n      <td>88.0</td>\n      <td>55.0</td>\n      <td>60.0</td>\n      <td>74.0</td>\n      <td>58.0</td>\n      <td>85.0</td>\n    </tr>\n    <tr>\n      <th>8</th>\n      <td>Ultron</td>\n      <td>bad</td>\n      <td>95.0</td>\n      <td>83.0</td>\n      <td>42.0</td>\n      <td>100.0</td>\n      <td>100.0</td>\n      <td>64.0</td>\n    </tr>\n    <tr>\n      <th>9</th>\n      <td>Red Skull</td>\n      <td>bad</td>\n      <td>90.0</td>\n      <td>30.0</td>\n      <td>12.0</td>\n      <td>14.0</td>\n      <td>19.0</td>\n      <td>80.0</td>\n    </tr>\n    <tr>\n      <th>10</th>\n      <td>Abomination</td>\n      <td>bad</td>\n      <td>85.0</td>\n      <td>80.0</td>\n      <td>53.0</td>\n      <td>90.0</td>\n      <td>55.0</td>\n      <td>95.0</td>\n    </tr>\n    <tr>\n      <th>11</th>\n      <td>Bullseye</td>\n      <td>bad</td>\n      <td>75.0</td>\n      <td>11.0</td>\n      <td>25.0</td>\n      <td>70.0</td>\n      <td>20.0</td>\n      <td>70.0</td>\n    </tr>\n    <tr>\n      <th>12</th>\n      <td>Loki</td>\n      <td>bad</td>\n      <td>87.0</td>\n      <td>57.0</td>\n      <td>47.0</td>\n      <td>85.0</td>\n      <td>85.0</td>\n      <td>56.0</td>\n    </tr>\n    <tr>\n      <th>13</th>\n      <td>Green Goblin</td>\n      <td>bad</td>\n      <td>85.0</td>\n      <td>35.0</td>\n      <td>35.0</td>\n      <td>48.0</td>\n      <td>38.0</td>\n      <td>28.0</td>\n    </tr>\n  </tbody>\n</table>\n</div>"
     },
     "metadata": {},
     "execution_count": 16
    }
   ],
   "source": [
    "super_hero_clean_data = super_hero[useful_columns].dropna()\n",
    "super_hero_clean_data"
   ]
  },
  {
   "cell_type": "code",
   "execution_count": 43,
   "metadata": {},
   "outputs": [
    {
     "output_type": "execute_result",
     "data": {
      "text/plain": [
       "           Intelligence   Strength      Speed  Durability      Power  \\\n",
       "Alignment                                                              \n",
       "bad           86.166667  49.333333  35.666667   67.833333  52.833333   \n",
       "good          78.333333  69.500000  52.500000   71.500000  61.833333   \n",
       "\n",
       "              Combat  \n",
       "Alignment             \n",
       "bad        65.500000  \n",
       "good       83.166667  "
      ],
      "text/html": "<div>\n<style scoped>\n    .dataframe tbody tr th:only-of-type {\n        vertical-align: middle;\n    }\n\n    .dataframe tbody tr th {\n        vertical-align: top;\n    }\n\n    .dataframe thead th {\n        text-align: right;\n    }\n</style>\n<table border=\"1\" class=\"dataframe\">\n  <thead>\n    <tr style=\"text-align: right;\">\n      <th></th>\n      <th>Intelligence</th>\n      <th>Strength</th>\n      <th>Speed</th>\n      <th>Durability</th>\n      <th>Power</th>\n      <th>Combat</th>\n    </tr>\n    <tr>\n      <th>Alignment</th>\n      <th></th>\n      <th></th>\n      <th></th>\n      <th></th>\n      <th></th>\n      <th></th>\n    </tr>\n  </thead>\n  <tbody>\n    <tr>\n      <th>bad</th>\n      <td>86.166667</td>\n      <td>49.333333</td>\n      <td>35.666667</td>\n      <td>67.833333</td>\n      <td>52.833333</td>\n      <td>65.500000</td>\n    </tr>\n    <tr>\n      <th>good</th>\n      <td>78.333333</td>\n      <td>69.500000</td>\n      <td>52.500000</td>\n      <td>71.500000</td>\n      <td>61.833333</td>\n      <td>83.166667</td>\n    </tr>\n  </tbody>\n</table>\n</div>"
     },
     "metadata": {},
     "execution_count": 43
    }
   ],
   "source": [
    "# group good vs bad means\n",
    "average = super_hero_clean_data.groupby(['Alignment']).mean()\n",
    "average"
   ]
  },
  {
   "cell_type": "code",
   "execution_count": 44,
   "metadata": {},
   "outputs": [
    {
     "output_type": "execute_result",
     "data": {
      "text/plain": [
       "           Intelligence   Strength      Speed  Durability      Power  Combat\n",
       "Alignment                                                                   \n",
       "bad           86.166667  49.333333  35.666667   67.833333  52.833333    65.5"
      ],
      "text/html": "<div>\n<style scoped>\n    .dataframe tbody tr th:only-of-type {\n        vertical-align: middle;\n    }\n\n    .dataframe tbody tr th {\n        vertical-align: top;\n    }\n\n    .dataframe thead th {\n        text-align: right;\n    }\n</style>\n<table border=\"1\" class=\"dataframe\">\n  <thead>\n    <tr style=\"text-align: right;\">\n      <th></th>\n      <th>Intelligence</th>\n      <th>Strength</th>\n      <th>Speed</th>\n      <th>Durability</th>\n      <th>Power</th>\n      <th>Combat</th>\n    </tr>\n    <tr>\n      <th>Alignment</th>\n      <th></th>\n      <th></th>\n      <th></th>\n      <th></th>\n      <th></th>\n      <th></th>\n    </tr>\n  </thead>\n  <tbody>\n    <tr>\n      <th>bad</th>\n      <td>86.166667</td>\n      <td>49.333333</td>\n      <td>35.666667</td>\n      <td>67.833333</td>\n      <td>52.833333</td>\n      <td>65.5</td>\n    </tr>\n  </tbody>\n</table>\n</div>"
     },
     "metadata": {},
     "execution_count": 44
    }
   ],
   "source": []
  },
  {
   "cell_type": "code",
   "execution_count": 5,
   "metadata": {},
   "outputs": [
    {
     "output_type": "execute_result",
     "data": {
      "text/plain": [
       "   RecordID   IP Address  LoggedInFlag  ServerID  VisitPageFlag\n",
       "0         1  39.13.114.2             1         2              0\n",
       "1         2    13.3.25.8             1         1              0\n",
       "2         3  247.8.211.8             1         1              0\n",
       "3         4  124.8.220.3             0         3              0\n",
       "4         5  60.10.192.7             0         2              0"
      ],
      "text/html": "<div>\n<style scoped>\n    .dataframe tbody tr th:only-of-type {\n        vertical-align: middle;\n    }\n\n    .dataframe tbody tr th {\n        vertical-align: top;\n    }\n\n    .dataframe thead th {\n        text-align: right;\n    }\n</style>\n<table border=\"1\" class=\"dataframe\">\n  <thead>\n    <tr style=\"text-align: right;\">\n      <th></th>\n      <th>RecordID</th>\n      <th>IP Address</th>\n      <th>LoggedInFlag</th>\n      <th>ServerID</th>\n      <th>VisitPageFlag</th>\n    </tr>\n  </thead>\n  <tbody>\n    <tr>\n      <th>0</th>\n      <td>1</td>\n      <td>39.13.114.2</td>\n      <td>1</td>\n      <td>2</td>\n      <td>0</td>\n    </tr>\n    <tr>\n      <th>1</th>\n      <td>2</td>\n      <td>13.3.25.8</td>\n      <td>1</td>\n      <td>1</td>\n      <td>0</td>\n    </tr>\n    <tr>\n      <th>2</th>\n      <td>3</td>\n      <td>247.8.211.8</td>\n      <td>1</td>\n      <td>1</td>\n      <td>0</td>\n    </tr>\n    <tr>\n      <th>3</th>\n      <td>4</td>\n      <td>124.8.220.3</td>\n      <td>0</td>\n      <td>3</td>\n      <td>0</td>\n    </tr>\n    <tr>\n      <th>4</th>\n      <td>5</td>\n      <td>60.10.192.7</td>\n      <td>0</td>\n      <td>2</td>\n      <td>0</td>\n    </tr>\n  </tbody>\n</table>\n</div>"
     },
     "metadata": {},
     "execution_count": 5
    }
   ],
   "source": [
    "# Randomized Design Tests\n",
    "data = pd.read_csv('grocerywebsiteabtestdata.csv')\n",
    "data.head()"
   ]
  },
  {
   "cell_type": "code",
   "execution_count": 6,
   "metadata": {},
   "outputs": [
    {
     "output_type": "stream",
     "name": "stdout",
     "text": [
      "<class 'pandas.core.frame.DataFrame'>\nRangeIndex: 184588 entries, 0 to 184587\nData columns (total 5 columns):\n #   Column         Non-Null Count   Dtype \n---  ------         --------------   ----- \n 0   RecordID       184588 non-null  int64 \n 1   IP Address     184588 non-null  object\n 2   LoggedInFlag   184588 non-null  int64 \n 3   ServerID       184588 non-null  int64 \n 4   VisitPageFlag  184588 non-null  int64 \ndtypes: int64(4), object(1)\nmemory usage: 7.0+ MB\n"
     ]
    }
   ],
   "source": [
    "data.info()"
   ]
  }
 ]
}