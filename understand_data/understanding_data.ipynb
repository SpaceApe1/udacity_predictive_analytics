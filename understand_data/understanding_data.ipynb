{
 "metadata": {
  "language_info": {
   "codemirror_mode": {
    "name": "ipython",
    "version": 3
   },
   "file_extension": ".py",
   "mimetype": "text/x-python",
   "name": "python",
   "nbconvert_exporter": "python",
   "pygments_lexer": "ipython3",
   "version": "3.9.2"
  },
  "orig_nbformat": 2,
  "kernelspec": {
   "name": "python392jvsc74a57bd05cba3963c37d400916a9e80ad5acd0c56daed180f4961ad2a064f19bb9bbda97",
   "display_name": "Python 3.9.2 64-bit ('.venv': venv)"
  },
  "metadata": {
   "interpreter": {
    "hash": "5cba3963c37d400916a9e80ad5acd0c56daed180f4961ad2a064f19bb9bbda97"
   }
  }
 },
 "nbformat": 4,
 "nbformat_minor": 2,
 "cells": [
  {
   "source": [
    "# Understanding Data"
   ],
   "cell_type": "markdown",
   "metadata": {}
  },
  {
   "cell_type": "code",
   "execution_count": null,
   "metadata": {},
   "outputs": [],
   "source": [
    "# import packages\n",
    "import pandas as pd\n",
    "import numpy as np\n",
    "import matplotlib.pyplot as plt\n",
    "import statsmodels.api as sm\n",
    "import statsmodels.formula.api as smf\n",
    "\n",
    "# plt.style.use('seaborn-whitegrid')\n",
    "plt.rcParams['figure.figsize'] = [11, 7]"
   ]
  },
  {
   "source": [
    "## cust-wtransactions data"
   ],
   "cell_type": "markdown",
   "metadata": {}
  },
  {
   "cell_type": "code",
   "execution_count": null,
   "metadata": {},
   "outputs": [],
   "source": [
    "data = pd.read_excel('cust-wtransactions.xlsx')\n",
    "print(data.info(), '\\n')\n",
    "\n",
    "# How many stores have more than 300 customers?\n",
    "store_count = list(data['Store Number'].value_counts())\n",
    "more_300_customers = [x for x in store_count if x > 300]\n",
    "print('How many stores have more than 300 customers?\\n', len(more_300_customers), '\\n')\n",
    "\n",
    "# Which city has the most customers?\n",
    "city_count = data['City'].value_counts()\n",
    "print('Which city has the most customers?\\n', city_count)"
   ]
  },
  {
   "source": [
    "## transactions data"
   ],
   "cell_type": "markdown",
   "metadata": {}
  },
  {
   "cell_type": "code",
   "execution_count": null,
   "metadata": {
    "tags": []
   },
   "outputs": [],
   "source": [
    "from bs4 import BeautifulSoup\n",
    "\n",
    "file_name = 'transactions.xml'\n",
    "with open(file_name, encoding='utf8') as f:\n",
    "    xml = f.read()\n",
    "\n",
    "# parsing\n",
    "soup = BeautifulSoup(xml, 'xml')\n",
    "transactions = soup.find_all('Transaction')\n",
    "\n",
    "transaction = []\n",
    "for e in transactions:\n",
    "    transaction.append([e['Customer_ID'], e['Product_Name'], e['Sales'], e['Order_ID'], e.text])\n",
    "\n",
    "# create pandas dataframe\n",
    "columns_name = ['Customer_ID', 'Product_Name', 'Sales', 'Order_ID', 'Transaction']\n",
    "df = pd.DataFrame(transaction, columns=columns_name).replace('', 0)\n",
    "df = df.astype({'Customer_ID': 'int', 'Order_ID': 'int', 'Transaction': 'int', 'Sales': 'float'})\n",
    "print(df.info(), '\\n')\n",
    "\n",
    "# what are the total sales for Order 10080?\n",
    "grouped_order_id = df.groupby('Order_ID', as_index=False)['Sales'].sum()\n",
    "print('Grouped by Order ID and Summ all sales \\n')\n",
    "print(grouped_order_id, '\\n')\n",
    "\n",
    "order_id_10080 = grouped_order_id[grouped_order_id['Order_ID'] == 10080]\n",
    "print('Filter by order id 10080\\n')\n",
    "print(order_id_10080, '\\n')\n",
    "print('\\nwhat are the total sales for Order 10080? ', order_id_10080['Sales'].values[0])\n"
   ]
  },
  {
   "source": [
    "## FUzzyData2"
   ],
   "cell_type": "markdown",
   "metadata": {}
  },
  {
   "cell_type": "code",
   "execution_count": null,
   "metadata": {},
   "outputs": [],
   "source": [
    "fuzzy_data = pd.read_csv('fuzzydata2.csv')\n",
    "print(fuzzy_data.info(), '\\n')\n",
    "\n",
    "grouped_contact = fuzzy_data.groupby('CONTACT', as_index=False)['PHONE_NEW'].count()\n",
    "grouped_contact_sorted = grouped_contact.sort_values(by=['PHONE_NEW'], ascending=False)\n",
    "\n",
    "print('Contact with the most duplicates')\n",
    "print(grouped_contact_sorted.iloc[0])\n"
   ]
  },
  {
   "source": [
    "## Missing Data"
   ],
   "cell_type": "markdown",
   "metadata": {}
  },
  {
   "cell_type": "code",
   "execution_count": null,
   "metadata": {},
   "outputs": [],
   "source": [
    "missing_data = pd.read_excel('missingdata.xlsx')\n",
    "print(missing_data.head(), '\\n')\n",
    "\n",
    "# replace empty cell with NAN\n",
    "missing_data_with_nan = missing_data.replace(' ', np.nan)\n",
    "print(missing_data_with_nan.head(), '\\n')\n",
    "\n",
    "# Drop NAN\n",
    "print('Drop rows with NAN')\n",
    "print(missing_data_with_nan.dropna())\n"
   ]
  },
  {
   "source": [
    "## Dealing with Missing Data"
   ],
   "cell_type": "markdown",
   "metadata": {}
  },
  {
   "cell_type": "code",
   "execution_count": null,
   "metadata": {},
   "outputs": [],
   "source": [
    "deal_with_missing_data = pd.read_excel('dealing-with-missing-data.xlsx')\n",
    "print(deal_with_missing_data.info(), '\\n')\n",
    "\n",
    "# drop NAN\n",
    "deal_with_missing_data_dropna = deal_with_missing_data.dropna()\n",
    "\n",
    "print('After removing the records, how many records are left in the dataset?')\n",
    "len(deal_with_missing_data_dropna)\n",
    "\n",
    "# scatter plot\n",
    "deal_with_missing_data.plot.scatter(x='Number of Employees', y='Average Number of Tickets', title='With Missing Data')\n",
    "deal_with_missing_data_dropna.plot.scatter(x='Number of Employees', y='Average Number of Tickets', title='No Missing Data')"
   ]
  },
  {
   "cell_type": "code",
   "execution_count": null,
   "metadata": {},
   "outputs": [],
   "source": []
  }
 ]
}