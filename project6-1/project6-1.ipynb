{
 "cells": [
  {
   "cell_type": "markdown",
   "source": [
    "# Combining Predictive Techniques"
   ],
   "metadata": {}
  },
  {
   "cell_type": "markdown",
   "source": [
    "## Data Given\r\n",
    "\r\n",
    "* StoreSalesData.csv - This file contains sales by product category for all existing stores for 2012, 2013, and 2014.\r\n",
    "* StoreInformation.csv - This file contains location data for each of the stores.\r\n",
    "* StoreDemographicData.csv - This file contains demographic data for the areas surrounding each of the existing stores and locations for new stores."
   ],
   "metadata": {}
  },
  {
   "cell_type": "markdown",
   "source": [
    "Load Package"
   ],
   "metadata": {}
  },
  {
   "cell_type": "code",
   "execution_count": null,
   "source": [
    "from datetime import datetime\r\n",
    "import pandas as pd\r\n",
    "import numpy as np\r\n",
    "from sklearn.cluster import KMeans\r\n",
    "from sklearn.preprocessing import MinMaxScaler\r\n",
    "\r\n",
    "import matplotlib.pyplot as plt\r\n",
    "# plt.style.use('seaborn-whitegrid')\r\n",
    "plt.rcParams['figure.figsize'] = [9, 7]"
   ],
   "outputs": [],
   "metadata": {}
  },
  {
   "cell_type": "markdown",
   "source": [
    "Load Data"
   ],
   "metadata": {}
  },
  {
   "cell_type": "code",
   "execution_count": null,
   "source": [
    "# Load Stores Sales\r\n",
    "stores_sales_data = pd.read_csv('storesalesdata.csv')\r\n",
    "# Bad Data: There no date 29-Feb-2014, Drod the data\r\n",
    "# stores_sales_data = stores_sales_data.query('Date != \"2014 02 29\"')\r\n",
    "# Convert Date varible to daterime object\r\n",
    "# stores_sales_data = stores_sales_data.assign(Date = pd.to_datetime(stores_sales_data['Date']))\r\n",
    "\r\n",
    "stores_sales_data.head(3)"
   ],
   "outputs": [],
   "metadata": {}
  },
  {
   "cell_type": "code",
   "execution_count": null,
   "source": [
    "# Load Store Information\r\n",
    "store_information_data = pd.read_csv('storeinformation.csv')\r\n",
    "store_information_data.head(3)"
   ],
   "outputs": [],
   "metadata": {}
  },
  {
   "cell_type": "code",
   "execution_count": null,
   "source": [
    "# Load Store Demographic Data\r\n",
    "store_demographic_data = pd.read_csv('storedemographicdata.csv')\r\n",
    "store_demographic_data.head(3)"
   ],
   "outputs": [],
   "metadata": {}
  },
  {
   "cell_type": "markdown",
   "source": [
    "## Task 1: Store Format (segments) for Existing Stores\r\n",
    "\r\n",
    "To remedy the product surplus and shortages, the company wants to introduce different store formats. Each store format will have a different product selection in order to better match local demand. The actual building sizes will not change, just the product selection and internal layouts.\r\n",
    "\r\n",
    "* Determine the optimal number of store formats based on sales data.\r\n",
    "    - Sum sales data by StoreID and Year\r\n",
    "    - Use percentage sales per category per store for clustering (category sales as a percentage of total store sales).\r\n",
    "    - Use only 2015 sales data.\r\n",
    "    - Use a K-means clustering model.\r\n",
    "\r\n",
    "* Segment the 85 current stores into the different store formats.\r\n",
    "* Use the StoreSalesData.csv and StoreInformation.csv files.\r\n",
    "\r\n",
    "## Task 1 Submission\r\n",
    "1. What is the optimal number of store formats? How did you arrive at that number?\r\n",
    "2. How many stores fall into each store format?\r\n",
    "3. Based on the results of the clustering model, what is one way that the clusters differ from one another?\r\n",
    "4. Please provide a map created in Tableau that shows the location of the existing stores, uses color to show cluster, and size to show total sales. Make sure to include a legend! Feel free to simply copy and paste the map into the submission template."
   ],
   "metadata": {}
  },
  {
   "cell_type": "code",
   "execution_count": null,
   "source": [
    "# Aggregate sum of sales by Store and Year\r\n",
    "filtered_columns = ['Dry_Grocery', 'Dairy', 'Frozen_Food', 'Meat', 'Produce', 'Floral', 'Deli', 'Bakery', 'General_Merchandise']\r\n",
    "filtered_stores_data =  stores_sales_data.groupby(['Store', 'Year'], as_index=False)[filtered_columns].sum()\r\n",
    "# Calculate percentage sales per category per store\r\n",
    "filtered_stores_data[filtered_columns] = filtered_stores_data[filtered_columns].div(filtered_stores_data[filtered_columns].sum(axis=1), axis=0)\r\n",
    "# Filter 2015 data\r\n",
    "filtered_stores_sales_2015_data = filtered_stores_data.query('Year == 2015')\r\n",
    "# Clusters - number of clusters = 3 \r\n",
    "kmeans = KMeans(n_clusters=3)\r\n",
    "# scale data\r\n",
    "scaled_data = MinMaxScaler().fit_transform(filtered_stores_sales_2015_data[filtered_columns])\r\n",
    "kmeans.fit(scaled_data)\r\n",
    "# Add cluser laber to data\r\n",
    "pred = kmeans.predict(scaled_data)\r\n",
    "filtered_stores_sales_2015_data = filtered_stores_sales_2015_data.assign(Segment = pred)\r\n",
    "# check numbers od stores in each Segment\r\n",
    "print('Number of stores in Segment')\r\n",
    "print(filtered_stores_sales_2015_data['Segment'].value_counts())\r\n"
   ],
   "outputs": [],
   "metadata": {}
  },
  {
   "cell_type": "code",
   "execution_count": null,
   "source": [
    "# Merge stores sale asn info data\r\n",
    "filtered_stores_sales_2015_data = filtered_stores_sales_2015_data.merge(store_information_data, on='Store')"
   ],
   "outputs": [],
   "metadata": {}
  },
  {
   "cell_type": "code",
   "execution_count": null,
   "source": [
    "filtered_stores_sales_2015_data.query('Segment == 0').head(3).round(2)"
   ],
   "outputs": [],
   "metadata": {}
  },
  {
   "cell_type": "code",
   "execution_count": null,
   "source": [
    "filtered_stores_sales_2015_data.query('Segment == 1').head(3).round(2)"
   ],
   "outputs": [],
   "metadata": {}
  },
  {
   "cell_type": "code",
   "execution_count": null,
   "source": [
    "filtered_stores_sales_2015_data.query('Segment == 2').head(3).round(2)"
   ],
   "outputs": [],
   "metadata": {}
  },
  {
   "cell_type": "markdown",
   "source": [
    "## Task 2: Store Format for New Stores\r\n",
    "\r\n",
    "The grocery store chain has 10 new stores opening up at the beginning of the year. The company wants to determine which store format each of the new stores should have. However, we don’t have sales data for these new stores yet, so we’ll have to determine the format using each of the new store’s demographic data.\r\n",
    "\r\n",
    "You’ve been asked to:\r\n",
    "\r\n",
    "* Develop a model that predicts which segment a store falls into based on the demographic and socioeconomic characteristics of the population that resides in the area around each new store.\r\n",
    "* Use a 20% validation sample with Random Seed = 3 when creating samples with which to compare the accuracy of the models. Make sure to compare a decision tree, forest, and boosted model.\r\n",
    "* Use the model to predict the best store format for each of the 10 new stores.\r\n",
    "* Use the StoreDemographicData.csv file, which contains the information for the area around each store.\r\n",
    "\r\n",
    "Note: In a real world scenario, you could use PCA to reduce the number of predictor variables. However, there is no need to do so in this project. You can leave all predictor variables in the model.\r\n",
    "\r\n",
    "\r\n",
    "## Task 2 Submission\r\n",
    "* What methodology did you use to predict the best store format for the new stores? Why did you choose that methodology?\r\n",
    "* What are the three most important variables that help explain the relationship between demographic indicators and store formats? Please include a visualization.\r\n",
    "* What format do each of the 10 new stores fall into? Please provide a data table."
   ],
   "metadata": {}
  },
  {
   "cell_type": "code",
   "execution_count": null,
   "source": [],
   "outputs": [],
   "metadata": {}
  },
  {
   "cell_type": "markdown",
   "source": [
    "## Task 3: Forecasting\r\n",
    "Fresh produce has a short life span, and due to increasing costs, the company wants to have an accurate monthly sales forecast.\r\n",
    "\r\n",
    "You’ve been asked to prepare a monthly forecast for produce sales for the full year of 2016 for both existing and new stores.\r\n",
    "\r\n",
    "Note: Use a 6 month holdout sample for the TS Compare tool (this is because we do not have that much data so using a 12 month holdout would remove too much of the data)\r\n",
    "\r\n",
    "## Task 3 Submission\r\n",
    "1. What type of ETS or ARIMA model did you use for each forecast? Use ETS(a,m,n) or ARIMA(ar, i, ma) notation. How did you come to that decision?\r\n",
    "\r\n",
    "\r\n",
    "2. Please provide a table of your forecasts for existing and new stores. Also, provide visualization of your forecasts that includes historical data, existing stores forecasts, and new stores forecasts.\r\n"
   ],
   "metadata": {}
  },
  {
   "cell_type": "code",
   "execution_count": null,
   "source": [],
   "outputs": [],
   "metadata": {}
  },
  {
   "cell_type": "markdown",
   "source": [
    "## Rubrics\r\n",
    "https://review.udacity.com/#!/rubrics/437/view"
   ],
   "metadata": {}
  }
 ],
 "metadata": {
  "orig_nbformat": 4,
  "language_info": {
   "name": "python",
   "version": "3.9.5",
   "mimetype": "text/x-python",
   "codemirror_mode": {
    "name": "ipython",
    "version": 3
   },
   "pygments_lexer": "ipython3",
   "nbconvert_exporter": "python",
   "file_extension": ".py"
  },
  "kernelspec": {
   "name": "python3",
   "display_name": "Python 3.9.5 64-bit ('.venv': venv)"
  },
  "interpreter": {
   "hash": "5cba3963c37d400916a9e80ad5acd0c56daed180f4961ad2a064f19bb9bbda97"
  }
 },
 "nbformat": 4,
 "nbformat_minor": 2
}