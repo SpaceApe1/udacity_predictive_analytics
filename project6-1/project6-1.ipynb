{
 "cells": [
  {
   "cell_type": "markdown",
   "source": [
    "# Combining Predictive Techniques"
   ],
   "metadata": {}
  },
  {
   "cell_type": "markdown",
   "source": [
    "## Data Given\r\n",
    "\r\n",
    "* StoreSalesData.csv - This file contains sales by product category for all existing stores for 2012, 2013, and 2014.\r\n",
    "* StoreInformation.csv - This file contains location data for each of the stores.\r\n",
    "* StoreDemographicData.csv - This file contains demographic data for the areas surrounding each of the existing stores and locations for new stores."
   ],
   "metadata": {}
  },
  {
   "cell_type": "markdown",
   "source": [
    "Load Package"
   ],
   "metadata": {}
  },
  {
   "cell_type": "code",
   "execution_count": 1,
   "source": [
    "import pandas as pd\r\n",
    "import numpy as np\r\n",
    "from sklearn.cluster import KMeans\r\n",
    "from sklearn.preprocessing import MinMaxScaler, StandardScaler, Normalizer\r\n",
    "from sklearn.metrics import calinski_harabasz_score, silhouette_score, davies_bouldin_score\r\n",
    "from sklearn.model_selection import train_test_split\r\n",
    "from sklearn.compose import ColumnTransformer\r\n",
    "from sklearn.tree import DecisionTreeClassifier\r\n",
    "from sklearn.ensemble import RandomForestClassifier, GradientBoostingClassifier\r\n",
    "\r\n",
    "from statsmodels.tsa.exponential_smoothing.ets import ETSModel\r\n",
    "from statsmodels.tsa.arima.model import ARIMA\r\n",
    "from statsmodels.tsa.statespace.sarimax import SARIMAX\r\n",
    "from statsmodels.tools.eval_measures import rmse\r\n",
    "from statsmodels.graphics import tsaplots\r\n",
    "\r\n",
    "import matplotlib.pyplot as plt\r\n",
    "# plt.style.use('seaborn-whitegrid')\r\n",
    "plt.rcParams['figure.figsize'] = [11, 7]"
   ],
   "outputs": [],
   "metadata": {}
  },
  {
   "cell_type": "markdown",
   "source": [
    "Load Data"
   ],
   "metadata": {}
  },
  {
   "cell_type": "code",
   "execution_count": 2,
   "source": [
    "# Load Stores Sales\r\n",
    "stores_sales_data = pd.read_csv('storesalesdata.csv')\r\n",
    "# Bad Data: There no date 29-Feb-2014, Drod the data\r\n",
    "# stores_sales_data = stores_sales_data.query('Date != \"2014 02 29\"')\r\n",
    "# Convert Date varible to daterime object\r\n",
    "# stores_sales_data = stores_sales_data.assign(Date = pd.to_datetime(stores_sales_data['Date']))\r\n",
    "\r\n",
    "stores_sales_data.head(3)"
   ],
   "outputs": [
    {
     "output_type": "execute_result",
     "data": {
      "text/html": [
       "<div>\n",
       "<style scoped>\n",
       "    .dataframe tbody tr th:only-of-type {\n",
       "        vertical-align: middle;\n",
       "    }\n",
       "\n",
       "    .dataframe tbody tr th {\n",
       "        vertical-align: top;\n",
       "    }\n",
       "\n",
       "    .dataframe thead th {\n",
       "        text-align: right;\n",
       "    }\n",
       "</style>\n",
       "<table border=\"1\" class=\"dataframe\">\n",
       "  <thead>\n",
       "    <tr style=\"text-align: right;\">\n",
       "      <th></th>\n",
       "      <th>Store</th>\n",
       "      <th>Day</th>\n",
       "      <th>Month</th>\n",
       "      <th>Year</th>\n",
       "      <th>Dry_Grocery</th>\n",
       "      <th>Dairy</th>\n",
       "      <th>Frozen_Food</th>\n",
       "      <th>Meat</th>\n",
       "      <th>Produce</th>\n",
       "      <th>Floral</th>\n",
       "      <th>Deli</th>\n",
       "      <th>Bakery</th>\n",
       "      <th>General_Merchandise</th>\n",
       "    </tr>\n",
       "  </thead>\n",
       "  <tbody>\n",
       "    <tr>\n",
       "      <th>0</th>\n",
       "      <td>S0001</td>\n",
       "      <td>1</td>\n",
       "      <td>3</td>\n",
       "      <td>2012</td>\n",
       "      <td>23401.06</td>\n",
       "      <td>5567.90</td>\n",
       "      <td>3930.28</td>\n",
       "      <td>5223.61</td>\n",
       "      <td>4542.28</td>\n",
       "      <td>238.58</td>\n",
       "      <td>2608.78</td>\n",
       "      <td>1651.77</td>\n",
       "      <td>4304.79</td>\n",
       "    </tr>\n",
       "    <tr>\n",
       "      <th>1</th>\n",
       "      <td>S0001</td>\n",
       "      <td>2</td>\n",
       "      <td>3</td>\n",
       "      <td>2012</td>\n",
       "      <td>32442.93</td>\n",
       "      <td>8009.52</td>\n",
       "      <td>4712.31</td>\n",
       "      <td>6174.72</td>\n",
       "      <td>9503.45</td>\n",
       "      <td>245.29</td>\n",
       "      <td>2692.72</td>\n",
       "      <td>2688.89</td>\n",
       "      <td>4467.51</td>\n",
       "    </tr>\n",
       "    <tr>\n",
       "      <th>2</th>\n",
       "      <td>S0001</td>\n",
       "      <td>3</td>\n",
       "      <td>3</td>\n",
       "      <td>2012</td>\n",
       "      <td>40433.61</td>\n",
       "      <td>9759.20</td>\n",
       "      <td>5969.03</td>\n",
       "      <td>8010.67</td>\n",
       "      <td>12793.92</td>\n",
       "      <td>282.12</td>\n",
       "      <td>3493.85</td>\n",
       "      <td>2929.85</td>\n",
       "      <td>5721.60</td>\n",
       "    </tr>\n",
       "  </tbody>\n",
       "</table>\n",
       "</div>"
      ],
      "text/plain": [
       "   Store  Day  Month  Year  Dry_Grocery    Dairy  Frozen_Food     Meat  \\\n",
       "0  S0001    1      3  2012     23401.06  5567.90      3930.28  5223.61   \n",
       "1  S0001    2      3  2012     32442.93  8009.52      4712.31  6174.72   \n",
       "2  S0001    3      3  2012     40433.61  9759.20      5969.03  8010.67   \n",
       "\n",
       "    Produce  Floral     Deli   Bakery  General_Merchandise  \n",
       "0   4542.28  238.58  2608.78  1651.77              4304.79  \n",
       "1   9503.45  245.29  2692.72  2688.89              4467.51  \n",
       "2  12793.92  282.12  3493.85  2929.85              5721.60  "
      ]
     },
     "metadata": {},
     "execution_count": 2
    }
   ],
   "metadata": {}
  },
  {
   "cell_type": "code",
   "execution_count": 3,
   "source": [
    "# Load Store Information\r\n",
    "store_information_data = pd.read_csv('storeinformation.csv')\r\n",
    "store_information_data.head(3)"
   ],
   "outputs": [
    {
     "output_type": "execute_result",
     "data": {
      "text/html": [
       "<div>\n",
       "<style scoped>\n",
       "    .dataframe tbody tr th:only-of-type {\n",
       "        vertical-align: middle;\n",
       "    }\n",
       "\n",
       "    .dataframe tbody tr th {\n",
       "        vertical-align: top;\n",
       "    }\n",
       "\n",
       "    .dataframe thead th {\n",
       "        text-align: right;\n",
       "    }\n",
       "</style>\n",
       "<table border=\"1\" class=\"dataframe\">\n",
       "  <thead>\n",
       "    <tr style=\"text-align: right;\">\n",
       "      <th></th>\n",
       "      <th>Store</th>\n",
       "      <th>Address</th>\n",
       "      <th>City</th>\n",
       "      <th>State</th>\n",
       "      <th>Zip</th>\n",
       "      <th>Type</th>\n",
       "    </tr>\n",
       "  </thead>\n",
       "  <tbody>\n",
       "    <tr>\n",
       "      <th>0</th>\n",
       "      <td>S0001</td>\n",
       "      <td>1000 W El Norte Pkwy</td>\n",
       "      <td>Escondido</td>\n",
       "      <td>CA</td>\n",
       "      <td>92027</td>\n",
       "      <td>Existing</td>\n",
       "    </tr>\n",
       "    <tr>\n",
       "      <th>1</th>\n",
       "      <td>S0002</td>\n",
       "      <td>12419 Woodside Ave</td>\n",
       "      <td>Lakeside</td>\n",
       "      <td>CA</td>\n",
       "      <td>92040</td>\n",
       "      <td>Existing</td>\n",
       "    </tr>\n",
       "    <tr>\n",
       "      <th>2</th>\n",
       "      <td>S0003</td>\n",
       "      <td>1342 N Alvarado St</td>\n",
       "      <td>Los Angeles</td>\n",
       "      <td>CA</td>\n",
       "      <td>90026</td>\n",
       "      <td>Existing</td>\n",
       "    </tr>\n",
       "  </tbody>\n",
       "</table>\n",
       "</div>"
      ],
      "text/plain": [
       "   Store               Address         City State    Zip      Type\n",
       "0  S0001  1000 W El Norte Pkwy    Escondido    CA  92027  Existing\n",
       "1  S0002    12419 Woodside Ave     Lakeside    CA  92040  Existing\n",
       "2  S0003    1342 N Alvarado St  Los Angeles    CA  90026  Existing"
      ]
     },
     "metadata": {},
     "execution_count": 3
    }
   ],
   "metadata": {}
  },
  {
   "cell_type": "code",
   "execution_count": 4,
   "source": [
    "# Load Store Demographic Data\r\n",
    "store_demographic_data = pd.read_csv('storedemographicdata.csv')\r\n",
    "store_demographic_data.head(3)"
   ],
   "outputs": [
    {
     "output_type": "execute_result",
     "data": {
      "text/html": [
       "<div>\n",
       "<style scoped>\n",
       "    .dataframe tbody tr th:only-of-type {\n",
       "        vertical-align: middle;\n",
       "    }\n",
       "\n",
       "    .dataframe tbody tr th {\n",
       "        vertical-align: top;\n",
       "    }\n",
       "\n",
       "    .dataframe thead th {\n",
       "        text-align: right;\n",
       "    }\n",
       "</style>\n",
       "<table border=\"1\" class=\"dataframe\">\n",
       "  <thead>\n",
       "    <tr style=\"text-align: right;\">\n",
       "      <th></th>\n",
       "      <th>Store</th>\n",
       "      <th>Age0to9</th>\n",
       "      <th>Age10to17</th>\n",
       "      <th>Age18to24</th>\n",
       "      <th>Age25to29</th>\n",
       "      <th>Age30to39</th>\n",
       "      <th>Age40to49</th>\n",
       "      <th>Age50to64</th>\n",
       "      <th>Age65Plus</th>\n",
       "      <th>EdLTHS</th>\n",
       "      <th>...</th>\n",
       "      <th>PopPacIsl</th>\n",
       "      <th>PopWhite</th>\n",
       "      <th>HVal0to100K</th>\n",
       "      <th>HVal100Kto200K</th>\n",
       "      <th>HVal200Kto300K</th>\n",
       "      <th>HVal300Kto400K</th>\n",
       "      <th>HVal400Kto500K</th>\n",
       "      <th>HVal500Kto750K</th>\n",
       "      <th>HVal750KPlus</th>\n",
       "      <th>PopDens</th>\n",
       "    </tr>\n",
       "  </thead>\n",
       "  <tbody>\n",
       "    <tr>\n",
       "      <th>0</th>\n",
       "      <td>S0001</td>\n",
       "      <td>0.138163</td>\n",
       "      <td>0.111414</td>\n",
       "      <td>0.113228</td>\n",
       "      <td>0.081671</td>\n",
       "      <td>0.134924</td>\n",
       "      <td>0.128832</td>\n",
       "      <td>0.160429</td>\n",
       "      <td>0.131359</td>\n",
       "      <td>0.241935</td>\n",
       "      <td>...</td>\n",
       "      <td>0.002669</td>\n",
       "      <td>0.454295</td>\n",
       "      <td>0.073853</td>\n",
       "      <td>0.115967</td>\n",
       "      <td>0.223511</td>\n",
       "      <td>0.301880</td>\n",
       "      <td>0.180786</td>\n",
       "      <td>0.097168</td>\n",
       "      <td>0.006836</td>\n",
       "      <td>4260.943672</td>\n",
       "    </tr>\n",
       "    <tr>\n",
       "      <th>1</th>\n",
       "      <td>S0002</td>\n",
       "      <td>0.138954</td>\n",
       "      <td>0.112723</td>\n",
       "      <td>0.100572</td>\n",
       "      <td>0.074832</td>\n",
       "      <td>0.121080</td>\n",
       "      <td>0.146961</td>\n",
       "      <td>0.195456</td>\n",
       "      <td>0.109422</td>\n",
       "      <td>0.125224</td>\n",
       "      <td>...</td>\n",
       "      <td>0.002879</td>\n",
       "      <td>0.729696</td>\n",
       "      <td>0.124956</td>\n",
       "      <td>0.127915</td>\n",
       "      <td>0.206578</td>\n",
       "      <td>0.223808</td>\n",
       "      <td>0.174730</td>\n",
       "      <td>0.129133</td>\n",
       "      <td>0.012879</td>\n",
       "      <td>3061.060073</td>\n",
       "    </tr>\n",
       "    <tr>\n",
       "      <th>2</th>\n",
       "      <td>S0003</td>\n",
       "      <td>0.108582</td>\n",
       "      <td>0.091262</td>\n",
       "      <td>0.113486</td>\n",
       "      <td>0.111415</td>\n",
       "      <td>0.182909</td>\n",
       "      <td>0.144938</td>\n",
       "      <td>0.150248</td>\n",
       "      <td>0.097170</td>\n",
       "      <td>0.321860</td>\n",
       "      <td>...</td>\n",
       "      <td>0.000802</td>\n",
       "      <td>0.182080</td>\n",
       "      <td>0.024665</td>\n",
       "      <td>0.065257</td>\n",
       "      <td>0.114870</td>\n",
       "      <td>0.150106</td>\n",
       "      <td>0.155462</td>\n",
       "      <td>0.251445</td>\n",
       "      <td>0.238196</td>\n",
       "      <td>13740.923328</td>\n",
       "    </tr>\n",
       "  </tbody>\n",
       "</table>\n",
       "<p>3 rows × 45 columns</p>\n",
       "</div>"
      ],
      "text/plain": [
       "   Store   Age0to9  Age10to17  Age18to24  Age25to29  Age30to39  Age40to49  \\\n",
       "0  S0001  0.138163   0.111414   0.113228   0.081671   0.134924   0.128832   \n",
       "1  S0002  0.138954   0.112723   0.100572   0.074832   0.121080   0.146961   \n",
       "2  S0003  0.108582   0.091262   0.113486   0.111415   0.182909   0.144938   \n",
       "\n",
       "   Age50to64  Age65Plus    EdLTHS  ...  PopPacIsl  PopWhite  HVal0to100K  \\\n",
       "0   0.160429   0.131359  0.241935  ...   0.002669  0.454295     0.073853   \n",
       "1   0.195456   0.109422  0.125224  ...   0.002879  0.729696     0.124956   \n",
       "2   0.150248   0.097170  0.321860  ...   0.000802  0.182080     0.024665   \n",
       "\n",
       "   HVal100Kto200K  HVal200Kto300K  HVal300Kto400K  HVal400Kto500K  \\\n",
       "0        0.115967        0.223511        0.301880        0.180786   \n",
       "1        0.127915        0.206578        0.223808        0.174730   \n",
       "2        0.065257        0.114870        0.150106        0.155462   \n",
       "\n",
       "   HVal500Kto750K  HVal750KPlus       PopDens  \n",
       "0        0.097168      0.006836   4260.943672  \n",
       "1        0.129133      0.012879   3061.060073  \n",
       "2        0.251445      0.238196  13740.923328  \n",
       "\n",
       "[3 rows x 45 columns]"
      ]
     },
     "metadata": {},
     "execution_count": 4
    }
   ],
   "metadata": {}
  },
  {
   "cell_type": "markdown",
   "source": [
    "## Task 1: Store Format (segments) for Existing Stores\r\n",
    "\r\n",
    "To remedy the product surplus and shortages, the company wants to introduce different store formats. Each store format will have a different product selection in order to better match local demand. The actual building sizes will not change, just the product selection and internal layouts.\r\n",
    "\r\n",
    "* Determine the optimal number of store formats based on sales data.\r\n",
    "    - Sum sales data by StoreID and Year\r\n",
    "    - Use percentage sales per category per store for clustering (category sales as a percentage of total store sales).\r\n",
    "    - Use only 2015 sales data.\r\n",
    "    - Use a K-means clustering model.\r\n",
    "\r\n",
    "* Segment the 85 current stores into the different store formats.\r\n",
    "* Use the StoreSalesData.csv and StoreInformation.csv files.\r\n",
    "\r\n",
    "## Task 1 Submission\r\n",
    "1. What is the optimal number of store formats? How did you arrive at that number?\r\n",
    "2. How many stores fall into each store format?\r\n",
    "3. Based on the results of the clustering model, what is one way that the clusters differ from one another?\r\n",
    "4. Please provide a map created in Tableau that shows the location of the existing stores, uses color to show cluster, and size to show total sales. Make sure to include a legend! Feel free to simply copy and paste the map into the submission template."
   ],
   "metadata": {}
  },
  {
   "cell_type": "code",
   "execution_count": 5,
   "source": [
    "# Aggregate sum of sales by Store and Year\r\n",
    "filtered_columns = ['Dry_Grocery', 'Dairy', 'Frozen_Food', 'Meat', 'Produce', 'Floral', 'Deli', 'Bakery', 'General_Merchandise']\r\n",
    "filtered_stores_data =  stores_sales_data.groupby(['Store', 'Year'], as_index=False)[filtered_columns].sum()\r\n",
    "# Add Store Total Sales per year\r\n",
    "filtered_stores_data = filtered_stores_data.assign(Total_Sales = filtered_stores_data[filtered_columns].sum(axis=1))\r\n",
    "# Calculate percentage sales per category per store\r\n",
    "filtered_stores_data[filtered_columns] = filtered_stores_data[filtered_columns].div(filtered_stores_data['Total_Sales'], axis=0)\r\n",
    "\r\n",
    "# Filter 2015 data\r\n",
    "filtered_stores_sales_2015_data = filtered_stores_data.query('Year == 2015')\r\n",
    "\r\n",
    "print('\\nFiltered and Aggregated 2015 Store Data')\r\n",
    "filtered_stores_sales_2015_data.head()\r\n"
   ],
   "outputs": [
    {
     "output_type": "stream",
     "name": "stdout",
     "text": [
      "\n",
      "Filtered and Aggregated 2015 Store Data\n"
     ]
    },
    {
     "output_type": "execute_result",
     "data": {
      "text/html": [
       "<div>\n",
       "<style scoped>\n",
       "    .dataframe tbody tr th:only-of-type {\n",
       "        vertical-align: middle;\n",
       "    }\n",
       "\n",
       "    .dataframe tbody tr th {\n",
       "        vertical-align: top;\n",
       "    }\n",
       "\n",
       "    .dataframe thead th {\n",
       "        text-align: right;\n",
       "    }\n",
       "</style>\n",
       "<table border=\"1\" class=\"dataframe\">\n",
       "  <thead>\n",
       "    <tr style=\"text-align: right;\">\n",
       "      <th></th>\n",
       "      <th>Store</th>\n",
       "      <th>Year</th>\n",
       "      <th>Dry_Grocery</th>\n",
       "      <th>Dairy</th>\n",
       "      <th>Frozen_Food</th>\n",
       "      <th>Meat</th>\n",
       "      <th>Produce</th>\n",
       "      <th>Floral</th>\n",
       "      <th>Deli</th>\n",
       "      <th>Bakery</th>\n",
       "      <th>General_Merchandise</th>\n",
       "      <th>Total_Sales</th>\n",
       "    </tr>\n",
       "  </thead>\n",
       "  <tbody>\n",
       "    <tr>\n",
       "      <th>3</th>\n",
       "      <td>S0001</td>\n",
       "      <td>2015</td>\n",
       "      <td>0.461347</td>\n",
       "      <td>0.103084</td>\n",
       "      <td>0.077199</td>\n",
       "      <td>0.107677</td>\n",
       "      <td>0.097171</td>\n",
       "      <td>0.006769</td>\n",
       "      <td>0.043550</td>\n",
       "      <td>0.035544</td>\n",
       "      <td>0.067658</td>\n",
       "      <td>23508945.82</td>\n",
       "    </tr>\n",
       "    <tr>\n",
       "      <th>7</th>\n",
       "      <td>S0002</td>\n",
       "      <td>2015</td>\n",
       "      <td>0.457528</td>\n",
       "      <td>0.106388</td>\n",
       "      <td>0.078841</td>\n",
       "      <td>0.114903</td>\n",
       "      <td>0.101259</td>\n",
       "      <td>0.007438</td>\n",
       "      <td>0.039792</td>\n",
       "      <td>0.029702</td>\n",
       "      <td>0.064149</td>\n",
       "      <td>17334619.57</td>\n",
       "    </tr>\n",
       "    <tr>\n",
       "      <th>11</th>\n",
       "      <td>S0003</td>\n",
       "      <td>2015</td>\n",
       "      <td>0.421349</td>\n",
       "      <td>0.102356</td>\n",
       "      <td>0.069027</td>\n",
       "      <td>0.114713</td>\n",
       "      <td>0.125399</td>\n",
       "      <td>0.009631</td>\n",
       "      <td>0.041761</td>\n",
       "      <td>0.036108</td>\n",
       "      <td>0.079655</td>\n",
       "      <td>30240661.99</td>\n",
       "    </tr>\n",
       "    <tr>\n",
       "      <th>15</th>\n",
       "      <td>S0004</td>\n",
       "      <td>2015</td>\n",
       "      <td>0.454560</td>\n",
       "      <td>0.097111</td>\n",
       "      <td>0.080277</td>\n",
       "      <td>0.127728</td>\n",
       "      <td>0.100409</td>\n",
       "      <td>0.006120</td>\n",
       "      <td>0.041785</td>\n",
       "      <td>0.034469</td>\n",
       "      <td>0.057542</td>\n",
       "      <td>27913890.97</td>\n",
       "    </tr>\n",
       "    <tr>\n",
       "      <th>19</th>\n",
       "      <td>S0005</td>\n",
       "      <td>2015</td>\n",
       "      <td>0.440169</td>\n",
       "      <td>0.106268</td>\n",
       "      <td>0.086339</td>\n",
       "      <td>0.101863</td>\n",
       "      <td>0.131112</td>\n",
       "      <td>0.008877</td>\n",
       "      <td>0.035389</td>\n",
       "      <td>0.022607</td>\n",
       "      <td>0.067376</td>\n",
       "      <td>27825886.17</td>\n",
       "    </tr>\n",
       "  </tbody>\n",
       "</table>\n",
       "</div>"
      ],
      "text/plain": [
       "    Store  Year  Dry_Grocery     Dairy  Frozen_Food      Meat   Produce  \\\n",
       "3   S0001  2015     0.461347  0.103084     0.077199  0.107677  0.097171   \n",
       "7   S0002  2015     0.457528  0.106388     0.078841  0.114903  0.101259   \n",
       "11  S0003  2015     0.421349  0.102356     0.069027  0.114713  0.125399   \n",
       "15  S0004  2015     0.454560  0.097111     0.080277  0.127728  0.100409   \n",
       "19  S0005  2015     0.440169  0.106268     0.086339  0.101863  0.131112   \n",
       "\n",
       "      Floral      Deli    Bakery  General_Merchandise  Total_Sales  \n",
       "3   0.006769  0.043550  0.035544             0.067658  23508945.82  \n",
       "7   0.007438  0.039792  0.029702             0.064149  17334619.57  \n",
       "11  0.009631  0.041761  0.036108             0.079655  30240661.99  \n",
       "15  0.006120  0.041785  0.034469             0.057542  27913890.97  \n",
       "19  0.008877  0.035389  0.022607             0.067376  27825886.17  "
      ]
     },
     "metadata": {},
     "execution_count": 5
    }
   ],
   "metadata": {}
  },
  {
   "cell_type": "code",
   "execution_count": 6,
   "source": [
    "# Find best numbers of clusters\r\n",
    "\r\n",
    "# Function to return pandas describe\r\n",
    "def cluster_number_test(raw_data, score_metric, number_test, cluster_number_list):\r\n",
    "    df_list = []\r\n",
    "    scaler = StandardScaler().fit_transform(raw_data)\r\n",
    "\r\n",
    "    for i in cluster_number_list:\r\n",
    "        score_list = []\r\n",
    "        for _ in range(number_test):\r\n",
    "            kmeans = KMeans(n_clusters=i)\r\n",
    "            kmeans.fit(scaler)\r\n",
    "            score = score_metric(raw_data, kmeans.labels_)\r\n",
    "            score_list.append(score)\r\n",
    "\r\n",
    "        temp_df = pd.DataFrame(score_list)\r\n",
    "        df_list.append(temp_df)\r\n",
    "\r\n",
    "    column_names = [f'Cluster {i}' for i in cluster_number_list]\r\n",
    "    _df = pd.concat(df_list, axis=1)\r\n",
    "    _df.columns = column_names\r\n",
    "    return _df.describe().round(2)"
   ],
   "outputs": [],
   "metadata": {}
  },
  {
   "cell_type": "code",
   "execution_count": 69,
   "source": [
    "# Finding best number of cluster\r\n",
    "raw_data = filtered_stores_sales_2015_data[filtered_columns]\r\n",
    "test_count = 100\r\n",
    "possible_clusters = range(2,8)"
   ],
   "outputs": [],
   "metadata": {}
  },
  {
   "cell_type": "code",
   "execution_count": 70,
   "source": [
    "# Run Test\r\n",
    "c_h_score = cluster_number_test(raw_data, calinski_harabasz_score, test_count, possible_clusters)\r\n",
    "sil_score = cluster_number_test(raw_data, silhouette_score, test_count, possible_clusters)\r\n",
    "d_b_score = cluster_number_test(raw_data, davies_bouldin_score, test_count, possible_clusters)"
   ],
   "outputs": [],
   "metadata": {}
  },
  {
   "cell_type": "code",
   "execution_count": 71,
   "source": [
    "# Metric: Calinski Harabasz Score - Higher the better\r\n",
    "print(f'Run Calinski Harabasz Score Test {test_count} times - Higher the better')\r\n",
    "print(c_h_score.iloc[1:2], '\\n')\r\n",
    "# Metric: Silhoutte Score - Higher the better\r\n",
    "print(f'Run Silhoutte Score Test {test_count} times - Higher the better')\r\n",
    "print(sil_score.iloc[1:2], '\\n')\r\n",
    "# Metric: Davies Bouldin Score - Smaller the better\r\n",
    "print(f'Run Davies Bouldin Score Test {test_count} times - Smaller the better')\r\n",
    "print(d_b_score.iloc[1:2])"
   ],
   "outputs": [
    {
     "output_type": "stream",
     "name": "stdout",
     "text": [
      "Run Calinski Harabasz Score Test 100 times - Higher the better\n",
      "      Cluster 2  Cluster 3  Cluster 4  Cluster 5  Cluster 6  Cluster 7\n",
      "mean      26.76      23.46      20.63      18.94      18.88      18.52 \n",
      "\n",
      "Run Silhoutte Score Test 100 times - Higher the better\n",
      "      Cluster 2  Cluster 3  Cluster 4  Cluster 5  Cluster 6  Cluster 7\n",
      "mean       0.21        0.2       0.17       0.17       0.16       0.16 \n",
      "\n",
      "Run Davies Bouldin Score Test 100 times - Smaller the better\n",
      "      Cluster 2  Cluster 3  Cluster 4  Cluster 5  Cluster 6  Cluster 7\n",
      "mean       1.59       1.56       1.66       1.67       1.58       1.52\n"
     ]
    }
   ],
   "metadata": {}
  },
  {
   "cell_type": "code",
   "execution_count": 10,
   "source": [
    "# From above test, what is the best number of cluster?\r\n",
    "\r\n",
    "##### Score Results #####\r\n",
    "# Calinski Harabasz Score: 2 Cluster\r\n",
    "# Silhoutte Score: 3 Cluster\r\n",
    "# Davies Bouldin Score: 3 Cluster\r\n",
    "best_number_cluster = 3"
   ],
   "outputs": [],
   "metadata": {}
  },
  {
   "cell_type": "code",
   "execution_count": 28,
   "source": [
    "# Clusters - number of clusters = 3 \r\n",
    "kmeans = KMeans(n_clusters = best_number_cluster)\r\n",
    "# scale data\r\n",
    "scaled_data = StandardScaler().fit_transform(raw_data)\r\n",
    "kmeans.fit(scaled_data)\r\n",
    "# Add cluser laber to data\r\n",
    "filtered_stores_sales_2015_data = filtered_stores_sales_2015_data.assign(Segment = kmeans.labels_)\r\n",
    "\r\n",
    "# check numbers of stores in each Segment\r\n",
    "print('\\nNumber of stores in Segment')\r\n",
    "print(filtered_stores_sales_2015_data['Segment'].value_counts())"
   ],
   "outputs": [
    {
     "output_type": "stream",
     "name": "stdout",
     "text": [
      "\n",
      "Number of stores in Segment\n",
      "2    33\n",
      "1    29\n",
      "0    23\n",
      "Name: Segment, dtype: int64\n"
     ]
    }
   ],
   "metadata": {}
  },
  {
   "cell_type": "code",
   "execution_count": 29,
   "source": [
    "# Cluster interpretion: Use centroid\r\n",
    "columns_name = ['Dry_Grocery', 'Dairy', 'Frozen_Food', 'Meat', 'Produce', 'Floral', 'Deli', 'Bakery', 'General_Merchandise']\r\n",
    "print('\\nAvarage distance between store formats')\r\n",
    "pd.DataFrame(kmeans.cluster_centers_, columns=columns_name).round(4)"
   ],
   "outputs": [
    {
     "output_type": "stream",
     "name": "stdout",
     "text": [
      "\n",
      "Avarage distance between store formats\n"
     ]
    },
    {
     "output_type": "execute_result",
     "data": {
      "text/html": [
       "<div>\n",
       "<style scoped>\n",
       "    .dataframe tbody tr th:only-of-type {\n",
       "        vertical-align: middle;\n",
       "    }\n",
       "\n",
       "    .dataframe tbody tr th {\n",
       "        vertical-align: top;\n",
       "    }\n",
       "\n",
       "    .dataframe thead th {\n",
       "        text-align: right;\n",
       "    }\n",
       "</style>\n",
       "<table border=\"1\" class=\"dataframe\">\n",
       "  <thead>\n",
       "    <tr style=\"text-align: right;\">\n",
       "      <th></th>\n",
       "      <th>Dry_Grocery</th>\n",
       "      <th>Dairy</th>\n",
       "      <th>Frozen_Food</th>\n",
       "      <th>Meat</th>\n",
       "      <th>Produce</th>\n",
       "      <th>Floral</th>\n",
       "      <th>Deli</th>\n",
       "      <th>Bakery</th>\n",
       "      <th>General_Merchandise</th>\n",
       "    </tr>\n",
       "  </thead>\n",
       "  <tbody>\n",
       "    <tr>\n",
       "      <th>0</th>\n",
       "      <td>0.3298</td>\n",
       "      <td>-0.7655</td>\n",
       "      <td>-0.3915</td>\n",
       "      <td>-0.0867</td>\n",
       "      <td>-0.5122</td>\n",
       "      <td>-0.3033</td>\n",
       "      <td>-0.2340</td>\n",
       "      <td>-0.8996</td>\n",
       "      <td>1.2157</td>\n",
       "    </tr>\n",
       "    <tr>\n",
       "      <th>1</th>\n",
       "      <td>-0.7351</td>\n",
       "      <td>0.7068</td>\n",
       "      <td>0.3480</td>\n",
       "      <td>-0.4887</td>\n",
       "      <td>1.0205</td>\n",
       "      <td>0.8568</td>\n",
       "      <td>-0.5579</td>\n",
       "      <td>0.3993</td>\n",
       "      <td>-0.3067</td>\n",
       "    </tr>\n",
       "    <tr>\n",
       "      <th>2</th>\n",
       "      <td>0.4161</td>\n",
       "      <td>-0.0876</td>\n",
       "      <td>-0.0329</td>\n",
       "      <td>0.4899</td>\n",
       "      <td>-0.5398</td>\n",
       "      <td>-0.5415</td>\n",
       "      <td>0.6534</td>\n",
       "      <td>0.2761</td>\n",
       "      <td>-0.5778</td>\n",
       "    </tr>\n",
       "  </tbody>\n",
       "</table>\n",
       "</div>"
      ],
      "text/plain": [
       "   Dry_Grocery   Dairy  Frozen_Food    Meat  Produce  Floral    Deli  Bakery  \\\n",
       "0       0.3298 -0.7655      -0.3915 -0.0867  -0.5122 -0.3033 -0.2340 -0.8996   \n",
       "1      -0.7351  0.7068       0.3480 -0.4887   1.0205  0.8568 -0.5579  0.3993   \n",
       "2       0.4161 -0.0876      -0.0329  0.4899  -0.5398 -0.5415  0.6534  0.2761   \n",
       "\n",
       "   General_Merchandise  \n",
       "0               1.2157  \n",
       "1              -0.3067  \n",
       "2              -0.5778  "
      ]
     },
     "metadata": {},
     "execution_count": 29
    }
   ],
   "metadata": {}
  },
  {
   "cell_type": "code",
   "execution_count": 30,
   "source": [
    "# Merge filtered store sale with store\r\n",
    "filtered_stores_sales_2015_merged_information_data = filtered_stores_sales_2015_data.merge(store_information_data, how='inner', on='Store')\r\n",
    "filtered_stores_sales_2015_merged_information_data.head(2)"
   ],
   "outputs": [
    {
     "output_type": "execute_result",
     "data": {
      "text/html": [
       "<div>\n",
       "<style scoped>\n",
       "    .dataframe tbody tr th:only-of-type {\n",
       "        vertical-align: middle;\n",
       "    }\n",
       "\n",
       "    .dataframe tbody tr th {\n",
       "        vertical-align: top;\n",
       "    }\n",
       "\n",
       "    .dataframe thead th {\n",
       "        text-align: right;\n",
       "    }\n",
       "</style>\n",
       "<table border=\"1\" class=\"dataframe\">\n",
       "  <thead>\n",
       "    <tr style=\"text-align: right;\">\n",
       "      <th></th>\n",
       "      <th>Store</th>\n",
       "      <th>Year</th>\n",
       "      <th>Dry_Grocery</th>\n",
       "      <th>Dairy</th>\n",
       "      <th>Frozen_Food</th>\n",
       "      <th>Meat</th>\n",
       "      <th>Produce</th>\n",
       "      <th>Floral</th>\n",
       "      <th>Deli</th>\n",
       "      <th>Bakery</th>\n",
       "      <th>General_Merchandise</th>\n",
       "      <th>Total_Sales</th>\n",
       "      <th>Segment</th>\n",
       "      <th>Address</th>\n",
       "      <th>City</th>\n",
       "      <th>State</th>\n",
       "      <th>Zip</th>\n",
       "      <th>Type</th>\n",
       "    </tr>\n",
       "  </thead>\n",
       "  <tbody>\n",
       "    <tr>\n",
       "      <th>0</th>\n",
       "      <td>S0001</td>\n",
       "      <td>2015</td>\n",
       "      <td>0.461347</td>\n",
       "      <td>0.103084</td>\n",
       "      <td>0.077199</td>\n",
       "      <td>0.107677</td>\n",
       "      <td>0.097171</td>\n",
       "      <td>0.006769</td>\n",
       "      <td>0.043550</td>\n",
       "      <td>0.035544</td>\n",
       "      <td>0.067658</td>\n",
       "      <td>23508945.82</td>\n",
       "      <td>2</td>\n",
       "      <td>1000 W El Norte Pkwy</td>\n",
       "      <td>Escondido</td>\n",
       "      <td>CA</td>\n",
       "      <td>92027</td>\n",
       "      <td>Existing</td>\n",
       "    </tr>\n",
       "    <tr>\n",
       "      <th>1</th>\n",
       "      <td>S0002</td>\n",
       "      <td>2015</td>\n",
       "      <td>0.457528</td>\n",
       "      <td>0.106388</td>\n",
       "      <td>0.078841</td>\n",
       "      <td>0.114903</td>\n",
       "      <td>0.101259</td>\n",
       "      <td>0.007438</td>\n",
       "      <td>0.039792</td>\n",
       "      <td>0.029702</td>\n",
       "      <td>0.064149</td>\n",
       "      <td>17334619.57</td>\n",
       "      <td>2</td>\n",
       "      <td>12419 Woodside Ave</td>\n",
       "      <td>Lakeside</td>\n",
       "      <td>CA</td>\n",
       "      <td>92040</td>\n",
       "      <td>Existing</td>\n",
       "    </tr>\n",
       "  </tbody>\n",
       "</table>\n",
       "</div>"
      ],
      "text/plain": [
       "   Store  Year  Dry_Grocery     Dairy  Frozen_Food      Meat   Produce  \\\n",
       "0  S0001  2015     0.461347  0.103084     0.077199  0.107677  0.097171   \n",
       "1  S0002  2015     0.457528  0.106388     0.078841  0.114903  0.101259   \n",
       "\n",
       "     Floral      Deli    Bakery  General_Merchandise  Total_Sales  Segment  \\\n",
       "0  0.006769  0.043550  0.035544             0.067658  23508945.82        2   \n",
       "1  0.007438  0.039792  0.029702             0.064149  17334619.57        2   \n",
       "\n",
       "                Address       City State    Zip      Type  \n",
       "0  1000 W El Norte Pkwy  Escondido    CA  92027  Existing  \n",
       "1    12419 Woodside Ave   Lakeside    CA  92040  Existing  "
      ]
     },
     "metadata": {},
     "execution_count": 30
    }
   ],
   "metadata": {}
  },
  {
   "cell_type": "code",
   "execution_count": null,
   "source": [
    "# Plot Clusters\r\n",
    "# Scatter Markers Customizing: Size, Color, Shape, Transparency\r\n",
    "# import plotly\r\n",
    "from plotly import express as px, io as pio\r\n",
    "from geopy.geocoders import Nominatim\r\n",
    "from geopy.extra.rate_limiter import RateLimiter\r\n",
    "# show plot in notebook\r\n",
    "pio.renderers.default = \"notebook_connected\"\r\n",
    "# join Address and City as Address_City then delete Address and City columns\r\n",
    "df_loc = filtered_stores_sales_2015_merged_information_data.assign(Address_City = lambda x: x.Address + ', '+x.City)\r\n",
    "df_loc.drop(columns=['Address', 'City'], inplace=True)\r\n",
    "# Nominatim is free API to retrive geo data from given location name \r\n",
    "locator = Nominatim(user_agent='myGeocoder')\r\n",
    "# Add delay when access denied on Nominatim\r\n",
    "geocode = RateLimiter(locator.geocode, min_delay_seconds=2)\r\n",
    "# create geo data column from location name\r\n",
    "df_loc['Location'] = df_loc['Address_City'].apply(geocode)\r\n",
    "# retrive lat, lon and altitude from geo data created\r\n",
    "tmp_df = df_loc['Location'].apply(lambda loc: tuple(loc.point) if loc else None)\r\n",
    "df_loc[['latitude', 'longitude', 'altitude']] = pd.DataFrame(tmp_df.to_list(), index=df_loc.index)\r\n",
    "# save the geo data for future use\r\n",
    "df_loc.to_csv('filtered_stores_sales_2015_with_geo_information_data.csv')"
   ],
   "outputs": [],
   "metadata": {}
  },
  {
   "cell_type": "code",
   "execution_count": 32,
   "source": [
    "# plot scatter map\r\n",
    "geo_data = pd.read_csv('filtered_stores_sales_2015_with_geo_information_data.csv')\r\n",
    "fig = px.scatter_geo(geo_data, lat='latitude', lon='longitude', color='Segment', hover_name='Store', size='Total_Sales', size_max=15, fitbounds='locations')\r\n",
    "fig.write_html('scatter_map.html')\r\n",
    "fig.show()"
   ],
   "outputs": [
    {
     "output_type": "display_data",
     "data": {
      "text/html": [
       "        <script type=\"text/javascript\">\n",
       "        window.PlotlyConfig = {MathJaxConfig: 'local'};\n",
       "        if (window.MathJax) {MathJax.Hub.Config({SVG: {font: \"STIX-Web\"}});}\n",
       "        if (typeof require !== 'undefined') {\n",
       "        require.undef(\"plotly\");\n",
       "        requirejs.config({\n",
       "            paths: {\n",
       "                'plotly': ['https://cdn.plot.ly/plotly-2.4.2.min']\n",
       "            }\n",
       "        });\n",
       "        require(['plotly'], function(Plotly) {\n",
       "            window._Plotly = Plotly;\n",
       "        });\n",
       "        }\n",
       "        </script>\n",
       "        "
      ]
     },
     "metadata": {}
    },
    {
     "output_type": "display_data",
     "data": {
      "text/html": [
       "<div>                            <div id=\"67c8700d-88b5-44e4-92f1-afd8fb640e59\" class=\"plotly-graph-div\" style=\"height:525px; width:100%;\"></div>            <script type=\"text/javascript\">                require([\"plotly\"], function(Plotly) {                    window.PLOTLYENV=window.PLOTLYENV || {};                                    if (document.getElementById(\"67c8700d-88b5-44e4-92f1-afd8fb640e59\")) {                    Plotly.newPlot(                        \"67c8700d-88b5-44e4-92f1-afd8fb640e59\",                        [{\"geo\":\"geo\",\"hovertemplate\":\"<b>%{hovertext}</b><br><br>Total_Sales=%{marker.size}<br>latitude=%{lat}<br>longitude=%{lon}<br>Segment=%{marker.color}<extra></extra>\",\"hovertext\":[\"S0001\",\"S0002\",\"S0003\",\"S0004\",\"S0005\",\"S0006\",\"S0007\",\"S0008\",\"S0009\",\"S0010\",\"S0011\",\"S0012\",\"S0013\",\"S0014\",\"S0015\",\"S0016\",\"S0017\",\"S0018\",\"S0019\",\"S0020\",\"S0021\",\"S0022\",\"S0023\",\"S0024\",\"S0025\",\"S0026\",\"S0027\",\"S0028\",\"S0029\",\"S0030\",\"S0031\",\"S0032\",\"S0033\",\"S0034\",\"S0035\",\"S0036\",\"S0037\",\"S0038\",\"S0039\",\"S0040\",\"S0041\",\"S0042\",\"S0043\",\"S0044\",\"S0045\",\"S0046\",\"S0047\",\"S0048\",\"S0049\",\"S0050\",\"S0051\",\"S0052\",\"S0053\",\"S0054\",\"S0055\",\"S0056\",\"S0057\",\"S0058\",\"S0059\",\"S0060\",\"S0061\",\"S0062\",\"S0063\",\"S0064\",\"S0065\",\"S0066\",\"S0067\",\"S0068\",\"S0069\",\"S0070\",\"S0071\",\"S0072\",\"S0073\",\"S0074\",\"S0075\",\"S0076\",\"S0077\",\"S0078\",\"S0079\",\"S0080\",\"S0081\",\"S0082\",\"S0083\",\"S0084\",\"S0085\"],\"lat\":[33.148780849999994,32.8560043,34.07966485714286,33.13230395,34.0504672,32.83720975,34.2248698,34.0517476,34.66169395,34.42256445,null,34.6379865,33.954690400000004,33.735006600000006,32.9370799633804,32.784119,33.5226931,33.9295808,34.420361150000005,34.39723895,34.02656275,32.957955350000006,33.728573749999995,33.9535757,33.8333449,34.2052742,34.02085755,34.3796543,34.6894799,33.746203,33.66065365,34.419764047848936,33.7978888,34.441281200000006,null,34.03545795,32.9202827,34.2731134,33.73293805,33.84099195,33.89664715,null,34.21117608062421,34.25919365,34.13871205,33.79033305,33.98391325,33.240759049999994,33.7435696,33.7721456,33.585968,34.20164235,32.79889045,34.287455,33.1433573,33.492757850000004,33.960253550000004,34.279079,32.8083574,33.10300545,null,null,34.0980795,34.2360551,34.11178395918368,34.0600162,34.27043375,34.1916735,null,33.84099195,34.89580715,34.649747250000004,34.44264826530612,34.0625586,32.621765350000004,34.13622115,34.43767505,null,34.6035204,33.50519025,33.7925395,34.25242675,34.1500872,33.856891000000005,34.15447699907387],\"legendgroup\":\"\",\"lon\":[-117.10638909533706,-116.92431909997272,-118.26209714285714,-117.2053210040022,-118.3662441022168,-116.98698539845384,-119.03708267202532,-118.2492268,-118.18239620544162,-119.65166187517394,null,-120.47179365456964,-117.38951854964792,-117.76068036436736,-117.09848835987133,-116.957733,-117.71438540530852,-118.1478412,-117.28329023636412,-119.51884214869266,-118.48984071021007,-117.0395528324118,-118.0249530908626,-118.027443,-117.8375215340671,-118.22384949779097,-118.8103520922804,-118.5439107,-118.173468,-117.0125896,-117.29350672357144,-118.43743090089112,-118.07074299641324,-119.2624249148299,null,-117.07009243469425,-117.21503617778124,-118.6776719,-118.29358869086752,-118.1827914335705,-118.06119866619554,null,-118.84197800791516,-118.3011841080052,-117.57407730825454,-118.1373464221328,-117.71236813615768,-117.29475358499884,-117.81757197591584,-118.37385834340516,-117.6575005,-118.19238774657696,-115.57174821175022,-118.7156188,-117.09400235313076,-117.66360729184146,-118.34916846810783,-118.76217334693878,-116.93683944726402,-117.07314322077266,null,null,-118.2879355,-118.5377552884141,-117.76091491836736,-117.1812087,-118.78466884281082,-118.326279,null,-118.1827914335705,-117.0086285852786,-120.45920415855836,-119.83045929591836,-117.93242175259294,-117.07313705195295,-118.1895121849739,-119.79055441697044,null,-118.18428710222636,-117.14790069845807,-118.3323748,-116.88518606652153,-118.00202148244276,-118.11543365095032,-118.24315841656528],\"marker\":{\"color\":[2,2,1,2,1,2,2,1,2,1,2,0,0,0,0,2,1,2,0,2,1,2,1,2,2,1,1,2,0,2,0,0,2,1,2,0,0,2,2,0,2,2,1,2,0,1,0,0,1,1,1,1,2,2,0,1,2,2,0,2,2,0,1,1,1,0,2,1,1,0,0,0,1,2,2,1,1,1,0,0,1,2,1,2,1],\"coloraxis\":\"coloraxis\",\"size\":[23508945.82,17334619.57,30240661.99,27913890.97,27825886.17,34625420.87,30863087.31,29181879.77,40678620.31,21703928.12,22395673.62,49186541.13,39169150.41,30987962.620000005,37353757.66,23352796.79,31540952.65,24278729.390000004,19682144.37,23970811.4,21742449.28,28489431.709999997,17688112.54,24523501.43,31318921.91,21220147.15,26550184.65,17311101.580000002,33606658.38,25497338.0,29269437.14,24165557.270000003,32960487.75,31050056.120000005,18365221.17,17827104.45,31286950.57,20632448.59,21361323.01,37025722.69,25267518.33000001,40361802.94,27158493.58,35532265.7,42304090.96,42308785.73,45096641.3,34784203.58,22498605.89,43939211.84,32361272.14,46987873.31,30897555.99,38270311.41,39002676.0,21812315.49,33446355.83,28866475.120000005,28986872.68,34886833.64,42022570.72000001,26064799.99,20844141.93,22854243.720000003,34670181.19,35306667.57000001,28697527.75,38824343.52,24609296.520000003,35369811.65,30947739.96,38059818.31000001,35879715.24,20508215.140000004,31159295.68,22609121.51,26951114.68,18405544.69,23735310.88,12618744.150000002,14701931.83,34926733.050000004,19002814.15,21553681.039999995,21552703.64],\"sizemode\":\"area\",\"sizeref\":218606.84946666667,\"symbol\":\"circle\"},\"mode\":\"markers\",\"name\":\"\",\"showlegend\":false,\"type\":\"scattergeo\"}],                        {\"coloraxis\":{\"colorbar\":{\"title\":{\"text\":\"Segment\"}},\"colorscale\":[[0.0,\"#0d0887\"],[0.1111111111111111,\"#46039f\"],[0.2222222222222222,\"#7201a8\"],[0.3333333333333333,\"#9c179e\"],[0.4444444444444444,\"#bd3786\"],[0.5555555555555556,\"#d8576b\"],[0.6666666666666666,\"#ed7953\"],[0.7777777777777778,\"#fb9f3a\"],[0.8888888888888888,\"#fdca26\"],[1.0,\"#f0f921\"]]},\"geo\":{\"center\":{},\"domain\":{\"x\":[0.0,1.0],\"y\":[0.0,1.0]},\"fitbounds\":\"locations\"},\"legend\":{\"itemsizing\":\"constant\",\"tracegroupgap\":0},\"margin\":{\"t\":60},\"template\":{\"data\":{\"bar\":[{\"error_x\":{\"color\":\"#2a3f5f\"},\"error_y\":{\"color\":\"#2a3f5f\"},\"marker\":{\"line\":{\"color\":\"#E5ECF6\",\"width\":0.5},\"pattern\":{\"fillmode\":\"overlay\",\"size\":10,\"solidity\":0.2}},\"type\":\"bar\"}],\"barpolar\":[{\"marker\":{\"line\":{\"color\":\"#E5ECF6\",\"width\":0.5},\"pattern\":{\"fillmode\":\"overlay\",\"size\":10,\"solidity\":0.2}},\"type\":\"barpolar\"}],\"carpet\":[{\"aaxis\":{\"endlinecolor\":\"#2a3f5f\",\"gridcolor\":\"white\",\"linecolor\":\"white\",\"minorgridcolor\":\"white\",\"startlinecolor\":\"#2a3f5f\"},\"baxis\":{\"endlinecolor\":\"#2a3f5f\",\"gridcolor\":\"white\",\"linecolor\":\"white\",\"minorgridcolor\":\"white\",\"startlinecolor\":\"#2a3f5f\"},\"type\":\"carpet\"}],\"choropleth\":[{\"colorbar\":{\"outlinewidth\":0,\"ticks\":\"\"},\"type\":\"choropleth\"}],\"contour\":[{\"colorbar\":{\"outlinewidth\":0,\"ticks\":\"\"},\"colorscale\":[[0.0,\"#0d0887\"],[0.1111111111111111,\"#46039f\"],[0.2222222222222222,\"#7201a8\"],[0.3333333333333333,\"#9c179e\"],[0.4444444444444444,\"#bd3786\"],[0.5555555555555556,\"#d8576b\"],[0.6666666666666666,\"#ed7953\"],[0.7777777777777778,\"#fb9f3a\"],[0.8888888888888888,\"#fdca26\"],[1.0,\"#f0f921\"]],\"type\":\"contour\"}],\"contourcarpet\":[{\"colorbar\":{\"outlinewidth\":0,\"ticks\":\"\"},\"type\":\"contourcarpet\"}],\"heatmap\":[{\"colorbar\":{\"outlinewidth\":0,\"ticks\":\"\"},\"colorscale\":[[0.0,\"#0d0887\"],[0.1111111111111111,\"#46039f\"],[0.2222222222222222,\"#7201a8\"],[0.3333333333333333,\"#9c179e\"],[0.4444444444444444,\"#bd3786\"],[0.5555555555555556,\"#d8576b\"],[0.6666666666666666,\"#ed7953\"],[0.7777777777777778,\"#fb9f3a\"],[0.8888888888888888,\"#fdca26\"],[1.0,\"#f0f921\"]],\"type\":\"heatmap\"}],\"heatmapgl\":[{\"colorbar\":{\"outlinewidth\":0,\"ticks\":\"\"},\"colorscale\":[[0.0,\"#0d0887\"],[0.1111111111111111,\"#46039f\"],[0.2222222222222222,\"#7201a8\"],[0.3333333333333333,\"#9c179e\"],[0.4444444444444444,\"#bd3786\"],[0.5555555555555556,\"#d8576b\"],[0.6666666666666666,\"#ed7953\"],[0.7777777777777778,\"#fb9f3a\"],[0.8888888888888888,\"#fdca26\"],[1.0,\"#f0f921\"]],\"type\":\"heatmapgl\"}],\"histogram\":[{\"marker\":{\"pattern\":{\"fillmode\":\"overlay\",\"size\":10,\"solidity\":0.2}},\"type\":\"histogram\"}],\"histogram2d\":[{\"colorbar\":{\"outlinewidth\":0,\"ticks\":\"\"},\"colorscale\":[[0.0,\"#0d0887\"],[0.1111111111111111,\"#46039f\"],[0.2222222222222222,\"#7201a8\"],[0.3333333333333333,\"#9c179e\"],[0.4444444444444444,\"#bd3786\"],[0.5555555555555556,\"#d8576b\"],[0.6666666666666666,\"#ed7953\"],[0.7777777777777778,\"#fb9f3a\"],[0.8888888888888888,\"#fdca26\"],[1.0,\"#f0f921\"]],\"type\":\"histogram2d\"}],\"histogram2dcontour\":[{\"colorbar\":{\"outlinewidth\":0,\"ticks\":\"\"},\"colorscale\":[[0.0,\"#0d0887\"],[0.1111111111111111,\"#46039f\"],[0.2222222222222222,\"#7201a8\"],[0.3333333333333333,\"#9c179e\"],[0.4444444444444444,\"#bd3786\"],[0.5555555555555556,\"#d8576b\"],[0.6666666666666666,\"#ed7953\"],[0.7777777777777778,\"#fb9f3a\"],[0.8888888888888888,\"#fdca26\"],[1.0,\"#f0f921\"]],\"type\":\"histogram2dcontour\"}],\"mesh3d\":[{\"colorbar\":{\"outlinewidth\":0,\"ticks\":\"\"},\"type\":\"mesh3d\"}],\"parcoords\":[{\"line\":{\"colorbar\":{\"outlinewidth\":0,\"ticks\":\"\"}},\"type\":\"parcoords\"}],\"pie\":[{\"automargin\":true,\"type\":\"pie\"}],\"scatter\":[{\"marker\":{\"colorbar\":{\"outlinewidth\":0,\"ticks\":\"\"}},\"type\":\"scatter\"}],\"scatter3d\":[{\"line\":{\"colorbar\":{\"outlinewidth\":0,\"ticks\":\"\"}},\"marker\":{\"colorbar\":{\"outlinewidth\":0,\"ticks\":\"\"}},\"type\":\"scatter3d\"}],\"scattercarpet\":[{\"marker\":{\"colorbar\":{\"outlinewidth\":0,\"ticks\":\"\"}},\"type\":\"scattercarpet\"}],\"scattergeo\":[{\"marker\":{\"colorbar\":{\"outlinewidth\":0,\"ticks\":\"\"}},\"type\":\"scattergeo\"}],\"scattergl\":[{\"marker\":{\"colorbar\":{\"outlinewidth\":0,\"ticks\":\"\"}},\"type\":\"scattergl\"}],\"scattermapbox\":[{\"marker\":{\"colorbar\":{\"outlinewidth\":0,\"ticks\":\"\"}},\"type\":\"scattermapbox\"}],\"scatterpolar\":[{\"marker\":{\"colorbar\":{\"outlinewidth\":0,\"ticks\":\"\"}},\"type\":\"scatterpolar\"}],\"scatterpolargl\":[{\"marker\":{\"colorbar\":{\"outlinewidth\":0,\"ticks\":\"\"}},\"type\":\"scatterpolargl\"}],\"scatterternary\":[{\"marker\":{\"colorbar\":{\"outlinewidth\":0,\"ticks\":\"\"}},\"type\":\"scatterternary\"}],\"surface\":[{\"colorbar\":{\"outlinewidth\":0,\"ticks\":\"\"},\"colorscale\":[[0.0,\"#0d0887\"],[0.1111111111111111,\"#46039f\"],[0.2222222222222222,\"#7201a8\"],[0.3333333333333333,\"#9c179e\"],[0.4444444444444444,\"#bd3786\"],[0.5555555555555556,\"#d8576b\"],[0.6666666666666666,\"#ed7953\"],[0.7777777777777778,\"#fb9f3a\"],[0.8888888888888888,\"#fdca26\"],[1.0,\"#f0f921\"]],\"type\":\"surface\"}],\"table\":[{\"cells\":{\"fill\":{\"color\":\"#EBF0F8\"},\"line\":{\"color\":\"white\"}},\"header\":{\"fill\":{\"color\":\"#C8D4E3\"},\"line\":{\"color\":\"white\"}},\"type\":\"table\"}]},\"layout\":{\"annotationdefaults\":{\"arrowcolor\":\"#2a3f5f\",\"arrowhead\":0,\"arrowwidth\":1},\"autotypenumbers\":\"strict\",\"coloraxis\":{\"colorbar\":{\"outlinewidth\":0,\"ticks\":\"\"}},\"colorscale\":{\"diverging\":[[0,\"#8e0152\"],[0.1,\"#c51b7d\"],[0.2,\"#de77ae\"],[0.3,\"#f1b6da\"],[0.4,\"#fde0ef\"],[0.5,\"#f7f7f7\"],[0.6,\"#e6f5d0\"],[0.7,\"#b8e186\"],[0.8,\"#7fbc41\"],[0.9,\"#4d9221\"],[1,\"#276419\"]],\"sequential\":[[0.0,\"#0d0887\"],[0.1111111111111111,\"#46039f\"],[0.2222222222222222,\"#7201a8\"],[0.3333333333333333,\"#9c179e\"],[0.4444444444444444,\"#bd3786\"],[0.5555555555555556,\"#d8576b\"],[0.6666666666666666,\"#ed7953\"],[0.7777777777777778,\"#fb9f3a\"],[0.8888888888888888,\"#fdca26\"],[1.0,\"#f0f921\"]],\"sequentialminus\":[[0.0,\"#0d0887\"],[0.1111111111111111,\"#46039f\"],[0.2222222222222222,\"#7201a8\"],[0.3333333333333333,\"#9c179e\"],[0.4444444444444444,\"#bd3786\"],[0.5555555555555556,\"#d8576b\"],[0.6666666666666666,\"#ed7953\"],[0.7777777777777778,\"#fb9f3a\"],[0.8888888888888888,\"#fdca26\"],[1.0,\"#f0f921\"]]},\"colorway\":[\"#636efa\",\"#EF553B\",\"#00cc96\",\"#ab63fa\",\"#FFA15A\",\"#19d3f3\",\"#FF6692\",\"#B6E880\",\"#FF97FF\",\"#FECB52\"],\"font\":{\"color\":\"#2a3f5f\"},\"geo\":{\"bgcolor\":\"white\",\"lakecolor\":\"white\",\"landcolor\":\"#E5ECF6\",\"showlakes\":true,\"showland\":true,\"subunitcolor\":\"white\"},\"hoverlabel\":{\"align\":\"left\"},\"hovermode\":\"closest\",\"mapbox\":{\"style\":\"light\"},\"paper_bgcolor\":\"white\",\"plot_bgcolor\":\"#E5ECF6\",\"polar\":{\"angularaxis\":{\"gridcolor\":\"white\",\"linecolor\":\"white\",\"ticks\":\"\"},\"bgcolor\":\"#E5ECF6\",\"radialaxis\":{\"gridcolor\":\"white\",\"linecolor\":\"white\",\"ticks\":\"\"}},\"scene\":{\"xaxis\":{\"backgroundcolor\":\"#E5ECF6\",\"gridcolor\":\"white\",\"gridwidth\":2,\"linecolor\":\"white\",\"showbackground\":true,\"ticks\":\"\",\"zerolinecolor\":\"white\"},\"yaxis\":{\"backgroundcolor\":\"#E5ECF6\",\"gridcolor\":\"white\",\"gridwidth\":2,\"linecolor\":\"white\",\"showbackground\":true,\"ticks\":\"\",\"zerolinecolor\":\"white\"},\"zaxis\":{\"backgroundcolor\":\"#E5ECF6\",\"gridcolor\":\"white\",\"gridwidth\":2,\"linecolor\":\"white\",\"showbackground\":true,\"ticks\":\"\",\"zerolinecolor\":\"white\"}},\"shapedefaults\":{\"line\":{\"color\":\"#2a3f5f\"}},\"ternary\":{\"aaxis\":{\"gridcolor\":\"white\",\"linecolor\":\"white\",\"ticks\":\"\"},\"baxis\":{\"gridcolor\":\"white\",\"linecolor\":\"white\",\"ticks\":\"\"},\"bgcolor\":\"#E5ECF6\",\"caxis\":{\"gridcolor\":\"white\",\"linecolor\":\"white\",\"ticks\":\"\"}},\"title\":{\"x\":0.05},\"xaxis\":{\"automargin\":true,\"gridcolor\":\"white\",\"linecolor\":\"white\",\"ticks\":\"\",\"title\":{\"standoff\":15},\"zerolinecolor\":\"white\",\"zerolinewidth\":2},\"yaxis\":{\"automargin\":true,\"gridcolor\":\"white\",\"linecolor\":\"white\",\"ticks\":\"\",\"title\":{\"standoff\":15},\"zerolinecolor\":\"white\",\"zerolinewidth\":2}}}},                        {\"responsive\": true}                    ).then(function(){\n",
       "                            \n",
       "var gd = document.getElementById('67c8700d-88b5-44e4-92f1-afd8fb640e59');\n",
       "var x = new MutationObserver(function (mutations, observer) {{\n",
       "        var display = window.getComputedStyle(gd).display;\n",
       "        if (!display || display === 'none') {{\n",
       "            console.log([gd, 'removed!']);\n",
       "            Plotly.purge(gd);\n",
       "            observer.disconnect();\n",
       "        }}\n",
       "}});\n",
       "\n",
       "// Listen for the removal of the full notebook cells\n",
       "var notebookContainer = gd.closest('#notebook-container');\n",
       "if (notebookContainer) {{\n",
       "    x.observe(notebookContainer, {childList: true});\n",
       "}}\n",
       "\n",
       "// Listen for the clearing of the current output cell\n",
       "var outputEl = gd.closest('.output');\n",
       "if (outputEl) {{\n",
       "    x.observe(outputEl, {childList: true});\n",
       "}}\n",
       "\n",
       "                        })                };                });            </script>        </div>"
      ]
     },
     "metadata": {}
    }
   ],
   "metadata": {}
  },
  {
   "cell_type": "markdown",
   "source": [
    "## Task 2: Store Format for New Stores\r\n",
    "\r\n",
    "The grocery store chain has 10 new stores opening up at the beginning of the year. The company wants to determine which store format each of the new stores should have. However, we don’t have sales data for these new stores yet, so we’ll have to determine the format using each of the new store’s demographic data.\r\n",
    "\r\n",
    "You’ve been asked to:\r\n",
    "\r\n",
    "* Develop a model that predicts which segment a store falls into based on the demographic and socioeconomic characteristics of the population that resides in the area around each new store.\r\n",
    "* Use a 20% validation sample with Random Seed = 3 when creating samples with which to compare the accuracy of the models. Make sure to compare a decision tree, forest, and boosted model.\r\n",
    "* Use the model to predict the best store format for each of the 10 new stores.\r\n",
    "* Use the StoreDemographicData.csv file, which contains the information for the area around each store.\r\n",
    "\r\n",
    "Note: In a real world scenario, you could use PCA to reduce the number of predictor variables. However, there is no need to do so in this project. You can leave all predictor variables in the model.\r\n",
    "\r\n",
    "\r\n",
    "## Task 2 Submission\r\n",
    "* What methodology did you use to predict the best store format for the new stores? Why did you choose that methodology?\r\n",
    "* What are the three most important variables that help explain the relationship between demographic indicators and store formats? Please include a visualization.\r\n",
    "* What format do each of the 10 new stores fall into? Please provide a data table.\r\n"
   ],
   "metadata": {}
  },
  {
   "cell_type": "code",
   "execution_count": 34,
   "source": [
    "# 44 variables in demographic store data\r\n",
    "store_demographic_columns = ['Age0to9', 'Age10to17', 'Age18to24', 'Age25to29', 'Age30to39', 'Age40to49', 'Age50to64', 'Age65Plus', 'EdLTHS', 'EdHSGrad', 'EdSomeCol', 'EdAssociate', 'EdBachelor', 'EdMaster', 'EdProfSchl', 'EdDoctorate', 'HHSz1Per', 'HHSz2Per', 'HHSz3Per', 'HHSz4Per', 'HHSz5PlusPer', 'HHIncU25K', 'HHInc25Kto50K', 'HHInc50Kto75K',\r\n",
    "       'HHInc75Kto100K', 'HHInc100Kto150K', 'HHInc150Kto250K', 'HHInc250KPlus', 'PopAsian', 'PopBlack', 'PopHispanic', 'PopMulti', 'PopNativeAmer', 'PopOther', 'PopPacIsl', 'PopWhite', 'HVal0to100K', 'HVal100Kto200K', 'HVal200Kto300K', 'HVal300Kto400K', 'HVal400Kto500K', 'HVal500Kto750K', 'HVal750KPlus', 'PopDens']\r\n",
    "\r\n",
    "# join demographic data with store information\r\n",
    "store_info_columns = ['Store', 'Type']\r\n",
    "store_demographic_with_info_data = store_demographic_data.merge(store_information_data[store_info_columns], on='Store')\r\n",
    "\r\n",
    "#  filter existing store\r\n",
    "store_demographic_with_info_data_existing = store_demographic_with_info_data.query('Type == \"Existing\"')\r\n",
    "#  filter new store\r\n",
    "store_demographic_with_info_data_new = store_demographic_with_info_data.query('Type == \"New\"')\r\n",
    "\r\n",
    "# merge segment to existing store\r\n",
    "store_filtered_columns = ['Store', 'Segment']\r\n",
    "_temp_df = filtered_stores_sales_2015_merged_information_data[store_filtered_columns]\r\n",
    "store_demographic_with_info_data_existing = store_demographic_with_info_data_existing.merge(_temp_df, on='Store')\r\n",
    "\r\n",
    "# Prepair X and y for training\r\n",
    "y = store_demographic_with_info_data_existing['Segment']\r\n",
    "X = store_demographic_with_info_data_existing.drop(columns='Segment')\r\n",
    "# Split train and test data\r\n",
    "X_train, X_test, y_train, y_test = train_test_split(X, y, test_size=.2, random_state=3)\r\n",
    "# Column Transformer\r\n",
    "column_transformer = ColumnTransformer([('numerical', StandardScaler(), store_demographic_columns)])\r\n",
    "column_transformer.fit(X_train)"
   ],
   "outputs": [
    {
     "output_type": "execute_result",
     "data": {
      "text/plain": [
       "ColumnTransformer(transformers=[('numerical', StandardScaler(),\n",
       "                                 ['Age0to9', 'Age10to17', 'Age18to24',\n",
       "                                  'Age25to29', 'Age30to39', 'Age40to49',\n",
       "                                  'Age50to64', 'Age65Plus', 'EdLTHS',\n",
       "                                  'EdHSGrad', 'EdSomeCol', 'EdAssociate',\n",
       "                                  'EdBachelor', 'EdMaster', 'EdProfSchl',\n",
       "                                  'EdDoctorate', 'HHSz1Per', 'HHSz2Per',\n",
       "                                  'HHSz3Per', 'HHSz4Per', 'HHSz5PlusPer',\n",
       "                                  'HHIncU25K', 'HHInc25Kto50K', 'HHInc50Kto75K',\n",
       "                                  'HHInc75Kto100K', 'HHInc100Kto150K',\n",
       "                                  'HHInc150Kto250K', 'HHInc250KPlus',\n",
       "                                  'PopAsian', 'PopBlack', ...])])"
      ]
     },
     "metadata": {},
     "execution_count": 34
    }
   ],
   "metadata": {}
  },
  {
   "cell_type": "code",
   "execution_count": 35,
   "source": [
    "# Classifier Score on N run test\r\n",
    "# Transform Train Data\r\n",
    "X_train_transformed = column_transformer.transform(X_train)\r\n",
    "# Transform Test Data\r\n",
    "X_test_transformed = column_transformer.transform(X_test)\r\n",
    "\r\n",
    "def classifier_test_score(estimator, X_train=X_train_transformed, y_train=y_train, X_test=X_test_transformed, y_test=y_test, cv=100):\r\n",
    "    _score_list = []\r\n",
    "    for _ in range(cv):\r\n",
    "        _cls = estimator().fit(X_train, y_train)\r\n",
    "        _score = _cls.score(X_test, y_test)\r\n",
    "        _score_list.append(_score)\r\n",
    "    return np.array(_score_list)"
   ],
   "outputs": [],
   "metadata": {}
  },
  {
   "cell_type": "code",
   "execution_count": 36,
   "source": [
    "# Decision Tree Classifier \r\n",
    "decision_tree_result = classifier_test_score(DecisionTreeClassifier)\r\n",
    "# Random Forest Classifier\r\n",
    "random_forest_result = classifier_test_score(RandomForestClassifier)\r\n",
    "# Gradient Boosting Classifier\r\n",
    "gradient_boosting = classifier_test_score(GradientBoostingClassifier)"
   ],
   "outputs": [],
   "metadata": {}
  },
  {
   "cell_type": "code",
   "execution_count": 37,
   "source": [
    "# Model Score\r\n",
    "print('Model Accuracy Score in Validation Data')\r\n",
    "print(f'Decision Tree Average Accuracy Score in Validation Data: {decision_tree_result.mean().round(2)}')\r\n",
    "print(f'Random Forest Average Accuracy Score in Validation Data: {random_forest_result.mean().round(2)}')\r\n",
    "print(f'Gradient Boosting Accuracy Average Score in Validation Data: {gradient_boosting.mean().round(2)}')"
   ],
   "outputs": [
    {
     "output_type": "stream",
     "name": "stdout",
     "text": [
      "Model Accuracy Score in Validation Data\n",
      "Decision Tree Average Accuracy Score in Validation Data: 0.7\n",
      "Random Forest Average Accuracy Score in Validation Data: 0.82\n",
      "Gradient Boosting Accuracy Average Score in Validation Data: 0.76\n"
     ]
    }
   ],
   "metadata": {}
  },
  {
   "cell_type": "code",
   "execution_count": 38,
   "source": [
    "# Plot Feature Importance: Decision Tree\r\n",
    "# Score\r\n",
    "decision_tree_model = DecisionTreeClassifier().fit(X_train_transformed, y_train)\r\n",
    "print(f'Decision Tree Score in Validation Data: {decision_tree_model.score(X_test_transformed, y_test).round(2)}')\r\n",
    "# Feature Importances\r\n",
    "feature_imp_dt = pd.Series(decision_tree_model.feature_importances_, index=store_demographic_columns).sort_values()\r\n",
    "print('Top 3 features:', list(feature_imp_dt[-3:].index)[::-1])\r\n",
    "# Plot\r\n",
    "feature_imp_dt.plot(kind='barh', title='Decision Tree: Feature Importances')"
   ],
   "outputs": [
    {
     "output_type": "stream",
     "name": "stdout",
     "text": [
      "Decision Tree Score in Validation Data: 0.71\n",
      "Top 3 features: ['HVal750KPlus', 'PopBlack', 'Age0to9']\n"
     ]
    },
    {
     "output_type": "execute_result",
     "data": {
      "text/plain": [
       "<AxesSubplot:title={'center':'Decision Tree: Feature Importances'}>"
      ]
     },
     "metadata": {},
     "execution_count": 38
    },
    {
     "output_type": "display_data",
     "data": {
      "image/png": "[encoded data removed]",
      "text/plain": [
       "<Figure size 792x504 with 1 Axes>"
      ]
     },
     "metadata": {
      "needs_background": "light"
     }
    }
   ],
   "metadata": {}
  },
  {
   "cell_type": "code",
   "execution_count": 39,
   "source": [
    "# Plot Feature Importance: Random Forest\r\n",
    "# Score\r\n",
    "random_forest_model = RandomForestClassifier().fit(X_train_transformed, y_train)\r\n",
    "print(f'Random Forest Score in Validation Data: {random_forest_model.score(X_test_transformed, y_test).round(2)}')\r\n",
    "# Feature Importances\r\n",
    "feature_imp_rf = pd.Series(random_forest_model.feature_importances_, index=store_demographic_columns).sort_values()\r\n",
    "print('Top 3 features:', list(feature_imp_rf[-3:].index)[::-1])\r\n",
    "# Plot\r\n",
    "feature_imp_rf.plot(kind='barh', title='Random Forest: Feature Importances')"
   ],
   "outputs": [
    {
     "output_type": "stream",
     "name": "stdout",
     "text": [
      "Random Forest Score in Validation Data: 0.82\n",
      "Top 3 features: ['Age0to9', 'EdProfSchl', 'HVal750KPlus']\n"
     ]
    },
    {
     "output_type": "execute_result",
     "data": {
      "text/plain": [
       "<AxesSubplot:title={'center':'Random Forest: Feature Importances'}>"
      ]
     },
     "metadata": {},
     "execution_count": 39
    },
    {
     "output_type": "display_data",
     "data": {
      "image/png": "[encoded data removed]",
      "text/plain": [
       "<Figure size 792x504 with 1 Axes>"
      ]
     },
     "metadata": {
      "needs_background": "light"
     }
    }
   ],
   "metadata": {}
  },
  {
   "cell_type": "code",
   "execution_count": 40,
   "source": [
    "# Plot Feature Importance: Gradient Boosting\r\n",
    "gradient_boosting_model = GradientBoostingClassifier().fit(X_train_transformed, y_train)\r\n",
    "print(f'Gradient Boosting Score in Validation Data: {gradient_boosting_model.score(X_test_transformed, y_test).round(2)}')\r\n",
    "# Feature Importances\r\n",
    "feature_imp_gb = pd.Series(gradient_boosting_model.feature_importances_, index=store_demographic_columns).sort_values()\r\n",
    "print('Top 3 features:', list(feature_imp_gb[-3:].index)[::-1])\r\n",
    "# Plot\r\n",
    "feature_imp_gb.plot(kind='barh', title='Gradient Boosting: Feature Importances')"
   ],
   "outputs": [
    {
     "output_type": "stream",
     "name": "stdout",
     "text": [
      "Gradient Boosting Score in Validation Data: 0.76\n",
      "Top 3 features: ['Age0to9', 'HVal750KPlus', 'PopOther']\n"
     ]
    },
    {
     "output_type": "execute_result",
     "data": {
      "text/plain": [
       "<AxesSubplot:title={'center':'Gradient Boosting: Feature Importances'}>"
      ]
     },
     "metadata": {},
     "execution_count": 40
    },
    {
     "output_type": "display_data",
     "data": {
      "image/png": "[encoded data removed]",
      "text/plain": [
       "<Figure size 792x504 with 1 Axes>"
      ]
     },
     "metadata": {
      "needs_background": "light"
     }
    }
   ],
   "metadata": {}
  },
  {
   "cell_type": "code",
   "execution_count": 41,
   "source": [
    "# Function: To predict New Store Segment\r\n",
    "# Input Data\r\n",
    "new_data = store_demographic_with_info_data_new\r\n",
    "transformed_data = column_transformer.transform(new_data)\r\n",
    "\r\n",
    "def predict_new_store_segment(model, new_store_data=new_data, transformered_data=transformed_data):\r\n",
    "    pred = model.predict(transformed_data)\r\n",
    "    temp_df = new_store_data.assign(Segment = pred)\r\n",
    "    \r\n",
    "    return temp_df"
   ],
   "outputs": [],
   "metadata": {}
  },
  {
   "cell_type": "code",
   "execution_count": 42,
   "source": [
    "# Predict Segment for New Store\r\n",
    "segment_result_dt = predict_new_store_segment(decision_tree_model)\r\n",
    "segment_result_rf = predict_new_store_segment(random_forest_model)\r\n",
    "segment_result_gb = predict_new_store_segment(gradient_boosting_model)"
   ],
   "outputs": [],
   "metadata": {}
  },
  {
   "cell_type": "code",
   "execution_count": 43,
   "source": [
    "# merge the result for visualazation\r\n",
    "columns_merge = ['Store', 'Segment']\r\n",
    "temp_merge_df = segment_result_dt[['Store', 'Type', 'Segment']].merge(segment_result_rf[columns_merge], on='Store', suffixes=('_Tree', '_Forest'))\r\n",
    "temp_merge_df.merge(segment_result_gb[columns_merge], on='Store').rename(columns={'Segment': 'Segment_Boost'})\r\n"
   ],
   "outputs": [
    {
     "output_type": "execute_result",
     "data": {
      "text/html": [
       "<div>\n",
       "<style scoped>\n",
       "    .dataframe tbody tr th:only-of-type {\n",
       "        vertical-align: middle;\n",
       "    }\n",
       "\n",
       "    .dataframe tbody tr th {\n",
       "        vertical-align: top;\n",
       "    }\n",
       "\n",
       "    .dataframe thead th {\n",
       "        text-align: right;\n",
       "    }\n",
       "</style>\n",
       "<table border=\"1\" class=\"dataframe\">\n",
       "  <thead>\n",
       "    <tr style=\"text-align: right;\">\n",
       "      <th></th>\n",
       "      <th>Store</th>\n",
       "      <th>Type</th>\n",
       "      <th>Segment_Tree</th>\n",
       "      <th>Segment_Forest</th>\n",
       "      <th>Segment_Boost</th>\n",
       "    </tr>\n",
       "  </thead>\n",
       "  <tbody>\n",
       "    <tr>\n",
       "      <th>0</th>\n",
       "      <td>S0086</td>\n",
       "      <td>New</td>\n",
       "      <td>0</td>\n",
       "      <td>2</td>\n",
       "      <td>2</td>\n",
       "    </tr>\n",
       "    <tr>\n",
       "      <th>1</th>\n",
       "      <td>S0087</td>\n",
       "      <td>New</td>\n",
       "      <td>1</td>\n",
       "      <td>1</td>\n",
       "      <td>1</td>\n",
       "    </tr>\n",
       "    <tr>\n",
       "      <th>2</th>\n",
       "      <td>S0088</td>\n",
       "      <td>New</td>\n",
       "      <td>2</td>\n",
       "      <td>2</td>\n",
       "      <td>2</td>\n",
       "    </tr>\n",
       "    <tr>\n",
       "      <th>3</th>\n",
       "      <td>S0089</td>\n",
       "      <td>New</td>\n",
       "      <td>1</td>\n",
       "      <td>1</td>\n",
       "      <td>1</td>\n",
       "    </tr>\n",
       "    <tr>\n",
       "      <th>4</th>\n",
       "      <td>S0090</td>\n",
       "      <td>New</td>\n",
       "      <td>1</td>\n",
       "      <td>1</td>\n",
       "      <td>1</td>\n",
       "    </tr>\n",
       "    <tr>\n",
       "      <th>5</th>\n",
       "      <td>S0091</td>\n",
       "      <td>New</td>\n",
       "      <td>0</td>\n",
       "      <td>0</td>\n",
       "      <td>0</td>\n",
       "    </tr>\n",
       "    <tr>\n",
       "      <th>6</th>\n",
       "      <td>S0092</td>\n",
       "      <td>New</td>\n",
       "      <td>1</td>\n",
       "      <td>1</td>\n",
       "      <td>1</td>\n",
       "    </tr>\n",
       "    <tr>\n",
       "      <th>7</th>\n",
       "      <td>S0093</td>\n",
       "      <td>New</td>\n",
       "      <td>0</td>\n",
       "      <td>0</td>\n",
       "      <td>0</td>\n",
       "    </tr>\n",
       "    <tr>\n",
       "      <th>8</th>\n",
       "      <td>S0094</td>\n",
       "      <td>New</td>\n",
       "      <td>1</td>\n",
       "      <td>1</td>\n",
       "      <td>1</td>\n",
       "    </tr>\n",
       "    <tr>\n",
       "      <th>9</th>\n",
       "      <td>S0095</td>\n",
       "      <td>New</td>\n",
       "      <td>2</td>\n",
       "      <td>1</td>\n",
       "      <td>0</td>\n",
       "    </tr>\n",
       "  </tbody>\n",
       "</table>\n",
       "</div>"
      ],
      "text/plain": [
       "   Store Type  Segment_Tree  Segment_Forest  Segment_Boost\n",
       "0  S0086  New             0               2              2\n",
       "1  S0087  New             1               1              1\n",
       "2  S0088  New             2               2              2\n",
       "3  S0089  New             1               1              1\n",
       "4  S0090  New             1               1              1\n",
       "5  S0091  New             0               0              0\n",
       "6  S0092  New             1               1              1\n",
       "7  S0093  New             0               0              0\n",
       "8  S0094  New             1               1              1\n",
       "9  S0095  New             2               1              0"
      ]
     },
     "metadata": {},
     "execution_count": 43
    }
   ],
   "metadata": {}
  },
  {
   "cell_type": "code",
   "execution_count": 52,
   "source": [
    "# Best Segment Model\r\n",
    "best_segment_model = segment_result_rf\r\n",
    "columns_store_form_report = ['Store', 'Segment']\r\n",
    "print('\\nThe Best Segment for New Stores')\r\n",
    "best_segment_model[columns_store_form_report]"
   ],
   "outputs": [
    {
     "output_type": "stream",
     "name": "stdout",
     "text": [
      "\n",
      "The Best Segment for New Stores\n"
     ]
    },
    {
     "output_type": "execute_result",
     "data": {
      "text/html": [
       "<div>\n",
       "<style scoped>\n",
       "    .dataframe tbody tr th:only-of-type {\n",
       "        vertical-align: middle;\n",
       "    }\n",
       "\n",
       "    .dataframe tbody tr th {\n",
       "        vertical-align: top;\n",
       "    }\n",
       "\n",
       "    .dataframe thead th {\n",
       "        text-align: right;\n",
       "    }\n",
       "</style>\n",
       "<table border=\"1\" class=\"dataframe\">\n",
       "  <thead>\n",
       "    <tr style=\"text-align: right;\">\n",
       "      <th></th>\n",
       "      <th>Store</th>\n",
       "      <th>Segment</th>\n",
       "    </tr>\n",
       "  </thead>\n",
       "  <tbody>\n",
       "    <tr>\n",
       "      <th>85</th>\n",
       "      <td>S0086</td>\n",
       "      <td>2</td>\n",
       "    </tr>\n",
       "    <tr>\n",
       "      <th>86</th>\n",
       "      <td>S0087</td>\n",
       "      <td>1</td>\n",
       "    </tr>\n",
       "    <tr>\n",
       "      <th>87</th>\n",
       "      <td>S0088</td>\n",
       "      <td>2</td>\n",
       "    </tr>\n",
       "    <tr>\n",
       "      <th>88</th>\n",
       "      <td>S0089</td>\n",
       "      <td>1</td>\n",
       "    </tr>\n",
       "    <tr>\n",
       "      <th>89</th>\n",
       "      <td>S0090</td>\n",
       "      <td>1</td>\n",
       "    </tr>\n",
       "    <tr>\n",
       "      <th>90</th>\n",
       "      <td>S0091</td>\n",
       "      <td>0</td>\n",
       "    </tr>\n",
       "    <tr>\n",
       "      <th>91</th>\n",
       "      <td>S0092</td>\n",
       "      <td>1</td>\n",
       "    </tr>\n",
       "    <tr>\n",
       "      <th>92</th>\n",
       "      <td>S0093</td>\n",
       "      <td>0</td>\n",
       "    </tr>\n",
       "    <tr>\n",
       "      <th>93</th>\n",
       "      <td>S0094</td>\n",
       "      <td>1</td>\n",
       "    </tr>\n",
       "    <tr>\n",
       "      <th>94</th>\n",
       "      <td>S0095</td>\n",
       "      <td>1</td>\n",
       "    </tr>\n",
       "  </tbody>\n",
       "</table>\n",
       "</div>"
      ],
      "text/plain": [
       "    Store  Segment\n",
       "85  S0086        2\n",
       "86  S0087        1\n",
       "87  S0088        2\n",
       "88  S0089        1\n",
       "89  S0090        1\n",
       "90  S0091        0\n",
       "91  S0092        1\n",
       "92  S0093        0\n",
       "93  S0094        1\n",
       "94  S0095        1"
      ]
     },
     "metadata": {},
     "execution_count": 52
    }
   ],
   "metadata": {}
  },
  {
   "cell_type": "markdown",
   "source": [
    "## Task 3: Forecasting\r\n",
    "Fresh produce has a short life span, and due to increasing costs, the company wants to have an accurate monthly sales forecast.\r\n",
    "\r\n",
    "You’ve been asked to prepare a monthly forecast for produce sales for the full year of 2016 for both existing and new stores.\r\n",
    "\r\n",
    "Note: Use a 6 month holdout sample for the TS Compare tool (this is because we do not have that much data so using a 12 month holdout would remove too much of the data)\r\n",
    "\r\n",
    "## Task 3 Submission\r\n",
    "1. What type of ETS or ARIMA model did you use for each forecast? Use ETS(a,m,n) or ARIMA(ar, i, ma) notation. How did you come to that decision?\r\n",
    "\r\n",
    "\r\n",
    "2. Please provide a table of your forecasts for existing and new stores. Also, provide visualization of your forecasts that includes historical data, existing stores forecasts, and new stores forecasts.\r\n"
   ],
   "metadata": {}
  },
  {
   "cell_type": "code",
   "execution_count": 53,
   "source": [
    "# Store ans segement pairs\r\n",
    "# Variables to work with\r\n",
    "columns_store_segment = ['Store', 'Segment']\r\n",
    "# existing stores\r\n",
    "existing_store_segment = filtered_stores_sales_2015_data[columns_store_segment]\r\n",
    "# new stores\r\n",
    "new_store_segement = best_segment_model[columns_store_segment]\r\n",
    "# Join Store Sales with Segment\r\n",
    "stores_sales_with_segment_data = stores_sales_data.merge(existing_store_segment, on='Store')\r\n",
    "stores_sales_with_segment_data.head(3)"
   ],
   "outputs": [
    {
     "output_type": "execute_result",
     "data": {
      "text/html": [
       "<div>\n",
       "<style scoped>\n",
       "    .dataframe tbody tr th:only-of-type {\n",
       "        vertical-align: middle;\n",
       "    }\n",
       "\n",
       "    .dataframe tbody tr th {\n",
       "        vertical-align: top;\n",
       "    }\n",
       "\n",
       "    .dataframe thead th {\n",
       "        text-align: right;\n",
       "    }\n",
       "</style>\n",
       "<table border=\"1\" class=\"dataframe\">\n",
       "  <thead>\n",
       "    <tr style=\"text-align: right;\">\n",
       "      <th></th>\n",
       "      <th>Store</th>\n",
       "      <th>Day</th>\n",
       "      <th>Month</th>\n",
       "      <th>Year</th>\n",
       "      <th>Dry_Grocery</th>\n",
       "      <th>Dairy</th>\n",
       "      <th>Frozen_Food</th>\n",
       "      <th>Meat</th>\n",
       "      <th>Produce</th>\n",
       "      <th>Floral</th>\n",
       "      <th>Deli</th>\n",
       "      <th>Bakery</th>\n",
       "      <th>General_Merchandise</th>\n",
       "      <th>Segment</th>\n",
       "    </tr>\n",
       "  </thead>\n",
       "  <tbody>\n",
       "    <tr>\n",
       "      <th>0</th>\n",
       "      <td>S0001</td>\n",
       "      <td>1</td>\n",
       "      <td>3</td>\n",
       "      <td>2012</td>\n",
       "      <td>23401.06</td>\n",
       "      <td>5567.90</td>\n",
       "      <td>3930.28</td>\n",
       "      <td>5223.61</td>\n",
       "      <td>4542.28</td>\n",
       "      <td>238.58</td>\n",
       "      <td>2608.78</td>\n",
       "      <td>1651.77</td>\n",
       "      <td>4304.79</td>\n",
       "      <td>2</td>\n",
       "    </tr>\n",
       "    <tr>\n",
       "      <th>1</th>\n",
       "      <td>S0001</td>\n",
       "      <td>2</td>\n",
       "      <td>3</td>\n",
       "      <td>2012</td>\n",
       "      <td>32442.93</td>\n",
       "      <td>8009.52</td>\n",
       "      <td>4712.31</td>\n",
       "      <td>6174.72</td>\n",
       "      <td>9503.45</td>\n",
       "      <td>245.29</td>\n",
       "      <td>2692.72</td>\n",
       "      <td>2688.89</td>\n",
       "      <td>4467.51</td>\n",
       "      <td>2</td>\n",
       "    </tr>\n",
       "    <tr>\n",
       "      <th>2</th>\n",
       "      <td>S0001</td>\n",
       "      <td>3</td>\n",
       "      <td>3</td>\n",
       "      <td>2012</td>\n",
       "      <td>40433.61</td>\n",
       "      <td>9759.20</td>\n",
       "      <td>5969.03</td>\n",
       "      <td>8010.67</td>\n",
       "      <td>12793.92</td>\n",
       "      <td>282.12</td>\n",
       "      <td>3493.85</td>\n",
       "      <td>2929.85</td>\n",
       "      <td>5721.60</td>\n",
       "      <td>2</td>\n",
       "    </tr>\n",
       "  </tbody>\n",
       "</table>\n",
       "</div>"
      ],
      "text/plain": [
       "   Store  Day  Month  Year  Dry_Grocery    Dairy  Frozen_Food     Meat  \\\n",
       "0  S0001    1      3  2012     23401.06  5567.90      3930.28  5223.61   \n",
       "1  S0001    2      3  2012     32442.93  8009.52      4712.31  6174.72   \n",
       "2  S0001    3      3  2012     40433.61  9759.20      5969.03  8010.67   \n",
       "\n",
       "    Produce  Floral     Deli   Bakery  General_Merchandise  Segment  \n",
       "0   4542.28  238.58  2608.78  1651.77              4304.79        2  \n",
       "1   9503.45  245.29  2692.72  2688.89              4467.51        2  \n",
       "2  12793.92  282.12  3493.85  2929.85              5721.60        2  "
      ]
     },
     "metadata": {},
     "execution_count": 53
    }
   ],
   "metadata": {}
  },
  {
   "cell_type": "code",
   "execution_count": 54,
   "source": [
    "# Aggregate Monthly Produce sales for existing store forecast\r\n",
    "# existing_store_monthly_sales_data \r\n",
    "tmp_df= stores_sales_with_segment_data.groupby(['Year', 'Month'], as_index=False)['Produce'].agg({'Monthly_Sales': 'sum'})\r\n",
    "# convert Year and Month columns to datetimeindex\r\n",
    "tmp_date = tmp_df['Year'].astype(str) + '-' + tmp_df['Month'].astype(str)\r\n",
    "tmp_df = tmp_df.assign(Date = pd.to_datetime(tmp_date))\r\n",
    "existing_store_monthly_sales_data = tmp_df.set_index('Date', drop=True)['Monthly_Sales']\r\n",
    "existing_store_monthly_sales_data.index.freq ='MS'\r\n",
    "print('\\nMonthly Produce Sales Data for Existing Stores')\r\n",
    "existing_store_monthly_sales_data.head(3)"
   ],
   "outputs": [
    {
     "output_type": "stream",
     "name": "stdout",
     "text": [
      "\n",
      "Monthly Produce Sales Data for Existing Stores\n"
     ]
    },
    {
     "output_type": "execute_result",
     "data": {
      "text/plain": [
       "Date\n",
       "2012-03-01    25151525.84\n",
       "2012-04-01    24406048.39\n",
       "2012-05-01    28249539.01\n",
       "Freq: MS, Name: Monthly_Sales, dtype: float64"
      ]
     },
     "metadata": {},
     "execution_count": 54
    }
   ],
   "metadata": {}
  },
  {
   "cell_type": "code",
   "execution_count": 55,
   "source": [
    "# Aggregate Monthly Produce sales for new store forecast \r\n",
    "tmp_df = stores_sales_with_segment_data.groupby(['Store','Year', 'Month', 'Segment'], as_index=False)['Produce'].agg({'Monthly_Sales': 'sum'})\r\n",
    "tmp_df = tmp_df.groupby(['Year', 'Month', 'Segment'], as_index=False)['Monthly_Sales'].agg({'Avg_Monthly_Sales': 'mean'})\r\n",
    "# convert Year and Month columns to datetimeindex\r\n",
    "tmp_date = tmp_df['Year'].astype(str) + '-' + tmp_df['Month'].astype(str)\r\n",
    "segment_store_monthly_sales_data = tmp_df.assign(Date = pd.to_datetime(tmp_date))\r\n",
    "# Sales per Segment\r\n",
    "# Segment 0\r\n",
    "segment_0_store_monthly_sales_data = segment_store_monthly_sales_data.query('Segment == 0').set_index('Date', drop=True)['Avg_Monthly_Sales']\r\n",
    "segment_0_store_monthly_sales_data.index.freq ='MS'\r\n",
    "print('\\nMonthly Produce Sales Data for segment 0 Stores')\r\n",
    "print(segment_0_store_monthly_sales_data.head(2))\r\n",
    "# Segment 1\r\n",
    "segment_1_store_monthly_sales_data = segment_store_monthly_sales_data.query('Segment == 1').set_index('Date', drop=True)['Avg_Monthly_Sales']\r\n",
    "segment_1_store_monthly_sales_data.index.freq ='MS'\r\n",
    "print('\\nMonthly Produce Sales Data for segment 1 Stores')\r\n",
    "print(segment_1_store_monthly_sales_data.head(2))\r\n",
    "# Segment 2\r\n",
    "segment_2_store_monthly_sales_data = segment_store_monthly_sales_data.query('Segment == 2').set_index('Date', drop=True)['Avg_Monthly_Sales']\r\n",
    "segment_2_store_monthly_sales_data.index.freq ='MS'\r\n",
    "print('\\nMonthly Produce Sales Data for segment 2 Stores')\r\n",
    "print(segment_2_store_monthly_sales_data.head(2))"
   ],
   "outputs": [
    {
     "output_type": "stream",
     "name": "stdout",
     "text": [
      "\n",
      "Monthly Produce Sales Data for segment 0 Stores\n",
      "Date\n",
      "2012-03-01    354869.6795\n",
      "2012-04-01    345094.1585\n",
      "Freq: MS, Name: Avg_Monthly_Sales, dtype: float64\n",
      "\n",
      "Monthly Produce Sales Data for segment 1 Stores\n",
      "Date\n",
      "2012-03-01    311297.845357\n",
      "2012-04-01    308526.535000\n",
      "Freq: MS, Name: Avg_Monthly_Sales, dtype: float64\n",
      "\n",
      "Monthly Produce Sales Data for segment 2 Stores\n",
      "Date\n",
      "2012-03-01    301219.115484\n",
      "2012-04-01    285981.362581\n",
      "Freq: MS, Name: Avg_Monthly_Sales, dtype: float64\n"
     ]
    }
   ],
   "metadata": {}
  },
  {
   "cell_type": "code",
   "execution_count": 56,
   "source": [
    "# Plot Aggregated Monthly Produce Sales\r\n",
    "fig, axs = plt.subplots(2, 1, figsize=(12, 9))\r\n",
    "axs[0].plot(existing_store_monthly_sales_data, label='Existing Stores')\r\n",
    "axs[0].set_title('Monthly Produce Sales for Existing Stores')\r\n",
    "axs[0].legend()\r\n",
    "\r\n",
    "axs[1].plot(segment_0_store_monthly_sales_data, label='Segment 0 Stores')\r\n",
    "axs[1].plot(segment_1_store_monthly_sales_data, label='Segment 1 Stores')\r\n",
    "axs[1].plot(segment_2_store_monthly_sales_data, label='Segment 2 Stores')\r\n",
    "axs[1].set_title('Monthly Produce Sales for Segment')\r\n",
    "axs[1].legend()"
   ],
   "outputs": [
    {
     "output_type": "execute_result",
     "data": {
      "text/plain": [
       "<matplotlib.legend.Legend at 0x21d7309ebe0>"
      ]
     },
     "metadata": {},
     "execution_count": 56
    },
    {
     "output_type": "display_data",
     "data": {
      "image/png": "[encoded data removed]",
      "text/plain": [
       "<Figure size 864x648 with 2 Axes>"
      ]
     },
     "metadata": {
      "needs_background": "light"
     }
    }
   ],
   "metadata": {}
  },
  {
   "cell_type": "markdown",
   "source": [
    "### Monthly Produce Sales and Segment Sales follow similar patten  \r\n",
    "Let find best model for Mothly sales then use it to train for segment sales"
   ],
   "metadata": {}
  },
  {
   "cell_type": "code",
   "execution_count": 57,
   "source": [
    "# Time Series Train Test Data\r\n",
    "def time_series_train_test_split(df_with_date_index_data, holdout_size=6):\r\n",
    "    train = df_with_date_index_data.iloc[:-holdout_size]\r\n",
    "    test = df_with_date_index_data.iloc[-holdout_size:]\r\n",
    "    return train, test"
   ],
   "outputs": [],
   "metadata": {}
  },
  {
   "cell_type": "code",
   "execution_count": 58,
   "source": [
    "# Grid Search ETS Model\r\n",
    "# Search Parameters: error, trend, damped_trend, seasonal, seasonal_periods\r\n",
    "\r\n",
    "# helper: Format ETS to return single capital letter\r\n",
    "def helper_ets_format(value):\r\n",
    "    if not value:\r\n",
    "        return 'N'\r\n",
    "    return value[0].upper()\r\n",
    "\r\n",
    "# intial values for Error, Trend and Seasonal\r\n",
    "e = ['add', 'mul']\r\n",
    "t = ['add', 'mul']\r\n",
    "s = ['add', 'mul', None]\r\n",
    "\r\n",
    "def ets_grid_search(train, test, errors=e, trends=t, is_damped=[True, False], seasonals=s):\r\n",
    "    tmp_result = []\r\n",
    "    for error in errors:\r\n",
    "        for damped in is_damped:\r\n",
    "            if not damped:\r\n",
    "                trends = ['add', 'mul', None]\r\n",
    "            for trend in trends:\r\n",
    "                for seasonal in seasonals:\r\n",
    "                    ets_model = ETSModel(train, error=error, trend=trend, damped_trend=damped, seasonal=seasonal, seasonal_periods=12)\r\n",
    "                    ets_model_fit = ets_model.fit(disp=0)\r\n",
    "                    rmse_result = rmse(test, ets_model_fit.forecast(6)).round()\r\n",
    "                    ets_value = f'ETS{helper_ets_format(error), helper_ets_format(trend), helper_ets_format(seasonal)}'\r\n",
    "                    tmp_parameters = [ets_value, damped, rmse_result]\r\n",
    "                    tmp_result.append(tmp_parameters)\r\n",
    "            trends = ['add', 'mul']\r\n",
    "    tmp_df = pd.DataFrame(tmp_result, columns=['Model', 'Damped_Trend', 'RMSE'])\r\n",
    "    tmp_df = tmp_df.sort_values(by='RMSE')\r\n",
    "    return tmp_df.assign(RMSE = lambda x: x.RMSE.map('{:,}'.format))"
   ],
   "outputs": [],
   "metadata": {}
  },
  {
   "cell_type": "code",
   "execution_count": 59,
   "source": [
    "# Run ETS Grid Search\r\n",
    "train, test = time_series_train_test_split(existing_store_monthly_sales_data)\r\n",
    "est_gridsearch_result = ets_grid_search(train, test)"
   ],
   "outputs": [],
   "metadata": {}
  },
  {
   "cell_type": "code",
   "execution_count": 60,
   "source": [
    "# Best ETS Model\r\n",
    "print('ETS Top 5 Best Model')\r\n",
    "est_gridsearch_result.head()"
   ],
   "outputs": [
    {
     "output_type": "stream",
     "name": "stdout",
     "text": [
      "ETS Top 5 Best Model\n"
     ]
    },
    {
     "output_type": "execute_result",
     "data": {
      "text/html": [
       "<div>\n",
       "<style scoped>\n",
       "    .dataframe tbody tr th:only-of-type {\n",
       "        vertical-align: middle;\n",
       "    }\n",
       "\n",
       "    .dataframe tbody tr th {\n",
       "        vertical-align: top;\n",
       "    }\n",
       "\n",
       "    .dataframe thead th {\n",
       "        text-align: right;\n",
       "    }\n",
       "</style>\n",
       "<table border=\"1\" class=\"dataframe\">\n",
       "  <thead>\n",
       "    <tr style=\"text-align: right;\">\n",
       "      <th></th>\n",
       "      <th>Model</th>\n",
       "      <th>Damped_Trend</th>\n",
       "      <th>RMSE</th>\n",
       "    </tr>\n",
       "  </thead>\n",
       "  <tbody>\n",
       "    <tr>\n",
       "      <th>4</th>\n",
       "      <td>ETS('A', 'M', 'M')</td>\n",
       "      <td>True</td>\n",
       "      <td>796,130.0</td>\n",
       "    </tr>\n",
       "    <tr>\n",
       "      <th>7</th>\n",
       "      <td>ETS('A', 'A', 'M')</td>\n",
       "      <td>False</td>\n",
       "      <td>799,903.0</td>\n",
       "    </tr>\n",
       "    <tr>\n",
       "      <th>10</th>\n",
       "      <td>ETS('A', 'M', 'M')</td>\n",
       "      <td>False</td>\n",
       "      <td>806,582.0</td>\n",
       "    </tr>\n",
       "    <tr>\n",
       "      <th>28</th>\n",
       "      <td>ETS('M', 'N', 'M')</td>\n",
       "      <td>False</td>\n",
       "      <td>814,876.0</td>\n",
       "    </tr>\n",
       "    <tr>\n",
       "      <th>16</th>\n",
       "      <td>ETS('M', 'A', 'M')</td>\n",
       "      <td>True</td>\n",
       "      <td>823,874.0</td>\n",
       "    </tr>\n",
       "  </tbody>\n",
       "</table>\n",
       "</div>"
      ],
      "text/plain": [
       "                 Model  Damped_Trend       RMSE\n",
       "4   ETS('A', 'M', 'M')          True  796,130.0\n",
       "7   ETS('A', 'A', 'M')         False  799,903.0\n",
       "10  ETS('A', 'M', 'M')         False  806,582.0\n",
       "28  ETS('M', 'N', 'M')         False  814,876.0\n",
       "16  ETS('M', 'A', 'M')          True  823,874.0"
      ]
     },
     "metadata": {},
     "execution_count": 60
    }
   ],
   "metadata": {}
  },
  {
   "cell_type": "code",
   "execution_count": 61,
   "source": [
    "# Grid Search ARIMA Model\r\n",
    "# Search Parameters: order, trend\r\n",
    "possible_p = range(1,13)\r\n",
    "possible_q = range(13)\r\n",
    "possible_d = range(3) #use pmdarima ndiff function to finds max d value for adf, kpss and pp test we get 2\r\n",
    "possible_trend = ['n', 'c', 't', 'ct']\r\n",
    "\r\n",
    "def arima_grid_search(train, test, ps=possible_p, ds=possible_d, qs=possible_q, trends=possible_trend):\r\n",
    "    tmp_result = []\r\n",
    "    for d in ds:\r\n",
    "        for p in ps:\r\n",
    "            for q in qs:\r\n",
    "                for trend in trends:\r\n",
    "                    try:\r\n",
    "                        model = ARIMA(train, order=(p,d,q), trend=trend)\r\n",
    "                        model_fit = model.fit()\r\n",
    "                        rmse_result = rmse(test, model_fit.forecast(6)).round()\r\n",
    "                    except:\r\n",
    "                        rmse_result = float('inf')\r\n",
    "\r\n",
    "                    arima_value = f'ARIMA{p,d,q}'\r\n",
    "                    tmp_parameters = [arima_value, trend, rmse_result]\r\n",
    "                    tmp_result.append(tmp_parameters)\r\n",
    "\r\n",
    "    tmp_df = pd.DataFrame(tmp_result, columns=['Model', 'Trend', 'RMSE'])\r\n",
    "    tmp_df = tmp_df.sort_values(by='RMSE')\r\n",
    "    return tmp_df.assign(RMSE = lambda x: x.RMSE.map('{:,}'.format))"
   ],
   "outputs": [],
   "metadata": {}
  },
  {
   "cell_type": "code",
   "execution_count": null,
   "source": [
    "# Run ARIMA Grid Search\r\n",
    "train, test = time_series_train_test_split(existing_store_monthly_sales_data)\r\n",
    "arima_gridsearch_result = arima_grid_search(train, test)"
   ],
   "outputs": [],
   "metadata": {}
  },
  {
   "cell_type": "code",
   "execution_count": 63,
   "source": [
    "# Best ARIMA Model\r\n",
    "print('ARIMA Top 5 Best Model')\r\n",
    "arima_gridsearch_result.head()"
   ],
   "outputs": [
    {
     "output_type": "stream",
     "name": "stdout",
     "text": [
      "ARIMA Top 5 Best Model\n"
     ]
    },
    {
     "output_type": "execute_result",
     "data": {
      "text/html": [
       "<div>\n",
       "<style scoped>\n",
       "    .dataframe tbody tr th:only-of-type {\n",
       "        vertical-align: middle;\n",
       "    }\n",
       "\n",
       "    .dataframe tbody tr th {\n",
       "        vertical-align: top;\n",
       "    }\n",
       "\n",
       "    .dataframe thead th {\n",
       "        text-align: right;\n",
       "    }\n",
       "</style>\n",
       "<table border=\"1\" class=\"dataframe\">\n",
       "  <thead>\n",
       "    <tr style=\"text-align: right;\">\n",
       "      <th></th>\n",
       "      <th>Model</th>\n",
       "      <th>Trend</th>\n",
       "      <th>RMSE</th>\n",
       "    </tr>\n",
       "  </thead>\n",
       "  <tbody>\n",
       "    <tr>\n",
       "      <th>549</th>\n",
       "      <td>ARIMA(11, 0, 7)</td>\n",
       "      <td>c</td>\n",
       "      <td>678,416.0</td>\n",
       "    </tr>\n",
       "    <tr>\n",
       "      <th>71</th>\n",
       "      <td>ARIMA(2, 0, 4)</td>\n",
       "      <td>ct</td>\n",
       "      <td>689,636.0</td>\n",
       "    </tr>\n",
       "    <tr>\n",
       "      <th>19</th>\n",
       "      <td>ARIMA(1, 0, 4)</td>\n",
       "      <td>ct</td>\n",
       "      <td>708,207.0</td>\n",
       "    </tr>\n",
       "    <tr>\n",
       "      <th>341</th>\n",
       "      <td>ARIMA(7, 0, 7)</td>\n",
       "      <td>c</td>\n",
       "      <td>757,074.0</td>\n",
       "    </tr>\n",
       "    <tr>\n",
       "      <th>541</th>\n",
       "      <td>ARIMA(11, 0, 5)</td>\n",
       "      <td>c</td>\n",
       "      <td>797,838.0</td>\n",
       "    </tr>\n",
       "  </tbody>\n",
       "</table>\n",
       "</div>"
      ],
      "text/plain": [
       "               Model Trend       RMSE\n",
       "549  ARIMA(11, 0, 7)     c  678,416.0\n",
       "71    ARIMA(2, 0, 4)    ct  689,636.0\n",
       "19    ARIMA(1, 0, 4)    ct  708,207.0\n",
       "341   ARIMA(7, 0, 7)     c  757,074.0\n",
       "541  ARIMA(11, 0, 5)     c  797,838.0"
      ]
     },
     "metadata": {},
     "execution_count": 63
    }
   ],
   "metadata": {}
  },
  {
   "cell_type": "code",
   "execution_count": 64,
   "source": [
    "# Model Selection:\r\n",
    "# ETS Model: ETS(A,M,M) with damped trend\r\n",
    "ets_model = ETSModel(train, error='add', trend='mul', damped_trend=True, seasonal='mul', seasonal_periods=12)\r\n",
    "ets_model_fit = ets_model.fit(disp=0)\r\n",
    "ets_forecast = ets_model_fit.forecast(6).round(2)\r\n",
    "\r\n",
    "# ARIMA Model: ARIMA(0,0,2) with constant trend 'ct'\r\n",
    "arima_model = ARIMA(train, order=(11,0,7), trend='c')\r\n",
    "arima_model_fit = arima_model.fit()\r\n",
    "arima_forecast = arima_model_fit.forecast(6).round(2)\r\n",
    "\r\n",
    "# Plot Models Holdout Forecast\r\n",
    "fig, axs = plt.subplots(1, 1, figsize=(12, 6))\r\n",
    "# Plot Actual Sales\r\n",
    "axs.plot(existing_store_monthly_sales_data, label='Actual Sales')\r\n",
    "# Plot ETS forecast Sales\r\n",
    "axs.plot(ets_forecast, label='ETS(A,M,M) Forecast')\r\n",
    "# Plot ARIMA forecast Sales\r\n",
    "axs.plot(arima_forecast, label='ARIMA(11,0,7) Forecast')\r\n",
    "# add title and legend\r\n",
    "axs.set_title('Monthly Produce Sales for Existing Stores')\r\n",
    "axs.legend()"
   ],
   "outputs": [
    {
     "output_type": "stream",
     "name": "stderr",
     "text": [
      "d:\\Cevor\\code\\udacity_predictive_analytics\\.venv\\lib\\site-packages\\statsmodels\\tsa\\statespace\\sarimax.py:966: UserWarning:\n",
      "\n",
      "Non-stationary starting autoregressive parameters found. Using zeros as starting parameters.\n",
      "\n",
      "d:\\Cevor\\code\\udacity_predictive_analytics\\.venv\\lib\\site-packages\\statsmodels\\tsa\\statespace\\sarimax.py:978: UserWarning:\n",
      "\n",
      "Non-invertible starting MA parameters found. Using zeros as starting parameters.\n",
      "\n",
      "d:\\Cevor\\code\\udacity_predictive_analytics\\.venv\\lib\\site-packages\\statsmodels\\base\\model.py:566: ConvergenceWarning:\n",
      "\n",
      "Maximum Likelihood optimization failed to converge. Check mle_retvals\n",
      "\n"
     ]
    },
    {
     "output_type": "execute_result",
     "data": {
      "text/plain": [
       "<matplotlib.legend.Legend at 0x21d73ddab20>"
      ]
     },
     "metadata": {},
     "execution_count": 64
    },
    {
     "output_type": "display_data",
     "data": {
      "image/png": "[encoded data removed]",
      "text/plain": [
       "<Figure size 864x432 with 1 Axes>"
      ]
     },
     "metadata": {
      "needs_background": "light"
     }
    }
   ],
   "metadata": {}
  },
  {
   "cell_type": "code",
   "execution_count": 65,
   "source": [
    "# Forecast 2016 Sales for Existing Stores\r\n",
    "# Train the model with all data\r\n",
    "existing_stores_forecast = ARIMA(existing_store_monthly_sales_data, order=(11,0,7), trend='c').fit().forecast(12).round()\r\n",
    "existing_stores_forecast"
   ],
   "outputs": [
    {
     "output_type": "stream",
     "name": "stderr",
     "text": [
      "d:\\Cevor\\code\\udacity_predictive_analytics\\.venv\\lib\\site-packages\\statsmodels\\base\\model.py:566: ConvergenceWarning:\n",
      "\n",
      "Maximum Likelihood optimization failed to converge. Check mle_retvals\n",
      "\n"
     ]
    },
    {
     "output_type": "execute_result",
     "data": {
      "text/plain": [
       "2016-01-01    22354041.0\n",
       "2016-02-01    21195344.0\n",
       "2016-03-01    22933966.0\n",
       "2016-04-01    24188241.0\n",
       "2016-05-01    25788388.0\n",
       "2016-06-01    26645988.0\n",
       "2016-07-01    25763526.0\n",
       "2016-08-01    22506503.0\n",
       "2016-09-01    21831587.0\n",
       "2016-10-01    19557667.0\n",
       "2016-11-01    21271228.0\n",
       "2016-12-01    20884793.0\n",
       "Freq: MS, Name: predicted_mean, dtype: float64"
      ]
     },
     "metadata": {},
     "execution_count": 65
    }
   ],
   "metadata": {}
  },
  {
   "cell_type": "code",
   "execution_count": 66,
   "source": [
    "# Forecast 2016 Sales for New Stores\r\n",
    "# Train the model with all data in segment\r\n",
    "segment_0_stores_forecast = ARIMA(segment_0_store_monthly_sales_data, order=(11,0,7), trend='c').fit().forecast(12).round()\r\n",
    "segment_1_stores_forecast = ARIMA(segment_1_store_monthly_sales_data, order=(11,0,7), trend='c').fit().forecast(12).round()\r\n",
    "segment_2_stores_forecast = ARIMA(segment_2_store_monthly_sales_data, order=(11,0,7), trend='c').fit().forecast(12).round()\r\n",
    "# commbine segments\r\n",
    "segment_stores_forecast = pd.concat([segment_0_stores_forecast, segment_1_stores_forecast, segment_2_stores_forecast], axis=1)\r\n",
    "segment_stores_forecast.columns = ['Segment_0', 'Segment_1', 'Segment_2']\r\n",
    "# Count the segment in best cluster selected\r\n",
    "best_cluster = segment_result_gb\r\n",
    "segment_counts = best_cluster['Segment'].value_counts()\r\n",
    "# add total sales per month\r\n",
    "segment_stores_forecast = segment_stores_forecast.assign(Monthly_Sales = lambda x: x.Segment_0*segment_counts[0]+x.Segment_1*segment_counts[1]+x.Segment_2*segment_counts[2])\r\n",
    "segment_stores_forecast['Monthly_Sales']"
   ],
   "outputs": [
    {
     "output_type": "stream",
     "name": "stderr",
     "text": [
      "d:\\Cevor\\code\\udacity_predictive_analytics\\.venv\\lib\\site-packages\\statsmodels\\base\\model.py:566: ConvergenceWarning:\n",
      "\n",
      "Maximum Likelihood optimization failed to converge. Check mle_retvals\n",
      "\n",
      "d:\\Cevor\\code\\udacity_predictive_analytics\\.venv\\lib\\site-packages\\statsmodels\\base\\model.py:566: ConvergenceWarning:\n",
      "\n",
      "Maximum Likelihood optimization failed to converge. Check mle_retvals\n",
      "\n",
      "d:\\Cevor\\code\\udacity_predictive_analytics\\.venv\\lib\\site-packages\\statsmodels\\base\\model.py:566: ConvergenceWarning:\n",
      "\n",
      "Maximum Likelihood optimization failed to converge. Check mle_retvals\n",
      "\n"
     ]
    },
    {
     "output_type": "execute_result",
     "data": {
      "text/plain": [
       "2016-01-01    2670425.0\n",
       "2016-02-01    2509216.0\n",
       "2016-03-01    2795170.0\n",
       "2016-04-01    2871558.0\n",
       "2016-05-01    3131577.0\n",
       "2016-06-01    3215821.0\n",
       "2016-07-01    3102997.0\n",
       "2016-08-01    2809527.0\n",
       "2016-09-01    2668005.0\n",
       "2016-10-01    2481425.0\n",
       "2016-11-01    2646508.0\n",
       "2016-12-01    2530299.0\n",
       "Freq: MS, Name: Monthly_Sales, dtype: float64"
      ]
     },
     "metadata": {},
     "execution_count": 66
    }
   ],
   "metadata": {}
  },
  {
   "cell_type": "code",
   "execution_count": 67,
   "source": [
    "# combine forecasted data\r\n",
    "forecasted_result = pd.concat([existing_stores_forecast, segment_stores_forecast['Monthly_Sales']], axis=1)\r\n",
    "forecasted_result.columns = ['Existing_Stores_Forecast', 'New_Stores_Forecast']\r\n",
    "forecasted_result.index = forecasted_result.index.to_period('M')\r\n",
    "# total mothly forecast sales\r\n",
    "forecasted_result = forecasted_result.assign(Total_Stores_Forecast = lambda x: x.Existing_Stores_Forecast + x.New_Stores_Forecast)\r\n",
    "forecasted_result"
   ],
   "outputs": [
    {
     "output_type": "execute_result",
     "data": {
      "text/html": [
       "<div>\n",
       "<style scoped>\n",
       "    .dataframe tbody tr th:only-of-type {\n",
       "        vertical-align: middle;\n",
       "    }\n",
       "\n",
       "    .dataframe tbody tr th {\n",
       "        vertical-align: top;\n",
       "    }\n",
       "\n",
       "    .dataframe thead th {\n",
       "        text-align: right;\n",
       "    }\n",
       "</style>\n",
       "<table border=\"1\" class=\"dataframe\">\n",
       "  <thead>\n",
       "    <tr style=\"text-align: right;\">\n",
       "      <th></th>\n",
       "      <th>Existing_Stores_Forecast</th>\n",
       "      <th>New_Stores_Forecast</th>\n",
       "      <th>Total_Stores_Forecast</th>\n",
       "    </tr>\n",
       "  </thead>\n",
       "  <tbody>\n",
       "    <tr>\n",
       "      <th>2016-01</th>\n",
       "      <td>22354041.0</td>\n",
       "      <td>2670425.0</td>\n",
       "      <td>25024466.0</td>\n",
       "    </tr>\n",
       "    <tr>\n",
       "      <th>2016-02</th>\n",
       "      <td>21195344.0</td>\n",
       "      <td>2509216.0</td>\n",
       "      <td>23704560.0</td>\n",
       "    </tr>\n",
       "    <tr>\n",
       "      <th>2016-03</th>\n",
       "      <td>22933966.0</td>\n",
       "      <td>2795170.0</td>\n",
       "      <td>25729136.0</td>\n",
       "    </tr>\n",
       "    <tr>\n",
       "      <th>2016-04</th>\n",
       "      <td>24188241.0</td>\n",
       "      <td>2871558.0</td>\n",
       "      <td>27059799.0</td>\n",
       "    </tr>\n",
       "    <tr>\n",
       "      <th>2016-05</th>\n",
       "      <td>25788388.0</td>\n",
       "      <td>3131577.0</td>\n",
       "      <td>28919965.0</td>\n",
       "    </tr>\n",
       "    <tr>\n",
       "      <th>2016-06</th>\n",
       "      <td>26645988.0</td>\n",
       "      <td>3215821.0</td>\n",
       "      <td>29861809.0</td>\n",
       "    </tr>\n",
       "    <tr>\n",
       "      <th>2016-07</th>\n",
       "      <td>25763526.0</td>\n",
       "      <td>3102997.0</td>\n",
       "      <td>28866523.0</td>\n",
       "    </tr>\n",
       "    <tr>\n",
       "      <th>2016-08</th>\n",
       "      <td>22506503.0</td>\n",
       "      <td>2809527.0</td>\n",
       "      <td>25316030.0</td>\n",
       "    </tr>\n",
       "    <tr>\n",
       "      <th>2016-09</th>\n",
       "      <td>21831587.0</td>\n",
       "      <td>2668005.0</td>\n",
       "      <td>24499592.0</td>\n",
       "    </tr>\n",
       "    <tr>\n",
       "      <th>2016-10</th>\n",
       "      <td>19557667.0</td>\n",
       "      <td>2481425.0</td>\n",
       "      <td>22039092.0</td>\n",
       "    </tr>\n",
       "    <tr>\n",
       "      <th>2016-11</th>\n",
       "      <td>21271228.0</td>\n",
       "      <td>2646508.0</td>\n",
       "      <td>23917736.0</td>\n",
       "    </tr>\n",
       "    <tr>\n",
       "      <th>2016-12</th>\n",
       "      <td>20884793.0</td>\n",
       "      <td>2530299.0</td>\n",
       "      <td>23415092.0</td>\n",
       "    </tr>\n",
       "  </tbody>\n",
       "</table>\n",
       "</div>"
      ],
      "text/plain": [
       "         Existing_Stores_Forecast  New_Stores_Forecast  Total_Stores_Forecast\n",
       "2016-01                22354041.0            2670425.0             25024466.0\n",
       "2016-02                21195344.0            2509216.0             23704560.0\n",
       "2016-03                22933966.0            2795170.0             25729136.0\n",
       "2016-04                24188241.0            2871558.0             27059799.0\n",
       "2016-05                25788388.0            3131577.0             28919965.0\n",
       "2016-06                26645988.0            3215821.0             29861809.0\n",
       "2016-07                25763526.0            3102997.0             28866523.0\n",
       "2016-08                22506503.0            2809527.0             25316030.0\n",
       "2016-09                21831587.0            2668005.0             24499592.0\n",
       "2016-10                19557667.0            2481425.0             22039092.0\n",
       "2016-11                21271228.0            2646508.0             23917736.0\n",
       "2016-12                20884793.0            2530299.0             23415092.0"
      ]
     },
     "metadata": {},
     "execution_count": 67
    }
   ],
   "metadata": {}
  },
  {
   "cell_type": "code",
   "execution_count": 68,
   "source": [
    "# Plot Models 2016 Forecast\r\n",
    "fig, axs = plt.subplots(1, 1, figsize=(12, 7))\r\n",
    "axs.plot(existing_store_monthly_sales_data, label='Historical data')\r\n",
    "axs.plot(forecasted_result['Existing_Stores_Forecast'], label='Forecast Existing Stores')\r\n",
    "axs.plot(forecasted_result['Total_Stores_Forecast'], label='Forecast with New Stores')\r\n",
    "axs.set_title('Forecast 2016 Monthly Produce Sales')\r\n",
    "axs.legend()"
   ],
   "outputs": [
    {
     "output_type": "execute_result",
     "data": {
      "text/plain": [
       "<matplotlib.legend.Legend at 0x21d75b98400>"
      ]
     },
     "metadata": {},
     "execution_count": 68
    },
    {
     "output_type": "display_data",
     "data": {
      "image/png": "[encoded data removed]",
      "text/plain": [
       "<Figure size 864x504 with 1 Axes>"
      ]
     },
     "metadata": {
      "needs_background": "light"
     }
    }
   ],
   "metadata": {}
  }
 ],
 "metadata": {
  "orig_nbformat": 4,
  "language_info": {
   "name": "python",
   "version": "3.9.5",
   "mimetype": "text/x-python",
   "codemirror_mode": {
    "name": "ipython",
    "version": 3
   },
   "pygments_lexer": "ipython3",
   "nbconvert_exporter": "python",
   "file_extension": ".py"
  },
  "kernelspec": {
   "name": "python3",
   "display_name": "Python 3.9.5 64-bit ('.venv': venv)"
  },
  "interpreter": {
   "hash": "5cba3963c37d400916a9e80ad5acd0c56daed180f4961ad2a064f19bb9bbda97"
  }
 },
 "nbformat": 4,
 "nbformat_minor": 2
}