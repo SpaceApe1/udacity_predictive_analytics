{
 "metadata": {
  "language_info": {
   "codemirror_mode": {
    "name": "ipython",
    "version": 3
   },
   "file_extension": ".py",
   "mimetype": "text/x-python",
   "name": "python",
   "nbconvert_exporter": "python",
   "pygments_lexer": "ipython3",
   "version": "3.9.2"
  },
  "orig_nbformat": 2,
  "kernelspec": {
   "name": "pythonjvsc74a57bd05cba3963c37d400916a9e80ad5acd0c56daed180f4961ad2a064f19bb9bbda97",
   "display_name": "Python 3.9.2  ('.venv': venv)"
  },
  "metadata": {
   "interpreter": {
    "hash": "5cba3963c37d400916a9e80ad5acd0c56daed180f4961ad2a064f19bb9bbda97"
   }
  }
 },
 "nbformat": 4,
 "nbformat_minor": 2,
 "cells": [
  {
   "source": [
    "# Classification Models\n",
    "\n",
    "## Package: Scikit-Learn\n",
    "\n",
    "Classification is a large domain in the field of statistics and machine learning. Generally, classification can be broken down into two areas:\n",
    "\n",
    "- Binary classification, where we wish to group an outcome into one of two groups.\n",
    "\n",
    "- Multi-class classification, where we wish to group an outcome into one of multiple (more than two) groups.\n",
    "\n",
    "\n",
    "\n",
    "## Logistic Regression\n",
    "\n",
    "Logistic Regression is a type of Generalized Linear Model (GLM) that uses a logistic function to model a binary variable based on any kind of independent variables.\n",
    "\n",
    "To fit a binary logistic regression with sklearn, we use the LogisticRegression module with multi_class set to \"ovr\" and fit X and y.\n",
    "\n",
    "`from sklearn.linear_model import LogisticRegression`\n",
    "\n",
    "\n",
    "We can then use the predict method to predict probabilities of new data, as well as the score method to get the mean prediction accuracy:\n",
    "\n",
    "\n",
    "## Support Vector Machines\n",
    "\n",
    "Support Vector Machines (SVMs) are a type of classification algorithm that are more flexible - they can do linear classification, but can use other non-linear basis functions.\n",
    "\n",
    "\n",
    "`from sklearn import svm`\n",
    "\n",
    "## Random Forests\n",
    "\n",
    "Random Forests are an ensemble learning method that fit multiple Decision Trees on subsets of the data and average the results. We can again fit them using sklearn, and use them to predict outcomes, as well as get mean prediction accuracy:\n",
    "\n",
    "`from sklearn.ensemble import RandomForestClassifier`\n",
    "\n",
    "## Neural Networks\n",
    "\n",
    "Neural Networks are a machine learning algorithm that involves fitting many hidden layers used to represent neurons that are connected with synaptic activation functions. These essentially use a very simplified model of the brain to model and predict data.\n",
    "\n",
    "`from sklearn.neural_network import MLPClassifier`"
   ],
   "cell_type": "markdown",
   "metadata": {}
  },
  {
   "cell_type": "code",
   "execution_count": null,
   "metadata": {},
   "outputs": [],
   "source": [
    "# import packages\n",
    "import pandas as pd\n",
    "from statsmodels.api import Logit\n",
    "\n",
    "from sklearn.model_selection import train_test_split\n",
    "from sklearn import metrics\n",
    "from sklearn import tree\n",
    "from sklearn.linear_model import LogisticRegression\n",
    "from sklearn import svm\n",
    "from sklearn.ensemble import RandomForestClassifier\n",
    "from sklearn.neural_network import MLPClassifier\n",
    "import matplotlib.pyplot as plt\n",
    "\n",
    "# plt.style.use('seaborn-whitegrid')\n",
    "plt.rcParams['figure.figsize'] = [11, 7]"
   ]
  },
  {
   "cell_type": "code",
   "execution_count": null,
   "metadata": {},
   "outputs": [],
   "source": [
    "hotel_data = pd.read_csv('hotelloyaltydata.csv')\n",
    "\n",
    "# convert target variable to float\n",
    "label = hotel_data['Reedemer'].unique()\n",
    "hotel_data['Reedemer'] = hotel_data['Reedemer'].astype('category').cat.codes.astype('float')\n",
    "\n",
    "# Convert str to categorical\n",
    "hotel_data['Customer Segment'] = hotel_data['Customer Segment'].astype('category')\n",
    "hotel_data['Income'] = hotel_data['Income'].astype('category')\n",
    "hotel_data['Status'] = hotel_data['Status'].astype('category')\n",
    "hotel_data['Region'] = hotel_data['Region'].astype('category')\n",
    "\n",
    "# Dummy Variables for all categorical\n",
    "hotel_data = pd.concat([hotel_data, pd.get_dummies(hotel_data['Customer Segment'], prefix='CustomerSeg', drop_first=True)], axis=1) #Not relevant\n",
    "hotel_data = pd.concat([hotel_data, pd.get_dummies(hotel_data['Income'], prefix='Income', drop_first=True)], axis=1) #Not relevant\n",
    "hotel_data = pd.concat([hotel_data, pd.get_dummies(hotel_data['Status'], prefix='Status', drop_first=True)], axis=1)\n",
    "hotel_data = pd.concat([hotel_data, pd.get_dummies(hotel_data['Region'], prefix='Region', drop_first=True)], axis=1)\n",
    "\n",
    "# Non Numerical Colums\n",
    "non_numerical_columns = ['Customer Key', 'First Name', 'Last Name', 'Customer Segment', 'Income', 'Status', 'Region']\n",
    "\n",
    "# drop all non numerical\n",
    "numerical_data = hotel_data.drop(columns=non_numerical_columns)\n",
    "\n",
    "# Split data fro train[70%] and test[30%]\n",
    "train, test = train_test_split(numerical_data, train_size=0.7, shuffle=False)\n",
    "\n",
    "# Predictors Variables\n",
    "X_train = train.drop(columns='Reedemer')\n",
    "X_test = test.drop(columns='Reedemer')\n",
    "\n",
    "# Target Variable\n",
    "Y_train = train['Reedemer']\n",
    "Y_test = test['Reedemer']\n",
    "\n",
    "# LogisticRegression Model\n",
    "LR = LogisticRegression().fit(X_train, Y_train)\n",
    "\n",
    "# predict score\n",
    "LR.score(X_test, Y_test)"
   ]
  },
  {
   "source": [
    "## Package: Statsmodels\n",
    "\n",
    "`from statsmodels.api import Logit`"
   ],
   "cell_type": "markdown",
   "metadata": {}
  },
  {
   "cell_type": "code",
   "execution_count": null,
   "metadata": {},
   "outputs": [],
   "source": [
    "# Fit Model\n",
    "sm_lr = Logit(Y_train, X_train).fit()\n",
    "\n",
    "# Check Summary\n",
    "sm_lr.summary()"
   ]
  },
  {
   "source": [
    "## Decision Tree"
   ],
   "cell_type": "markdown",
   "metadata": {}
  },
  {
   "cell_type": "code",
   "execution_count": null,
   "metadata": {},
   "outputs": [],
   "source": [
    "random_forest = RandomForestClassifier()\n",
    "random_forest.fit(X_train, Y_train)\n",
    "\n",
    "y_hat = random_forest.predict(X_test)\n",
    "\n",
    "print(metrics.classification_report(Y_test.values, y_hat, target_names=label))\n",
    "\n",
    "feature_importances = pd.Series(random_forest.feature_importances_, index=X_test.columns)\n",
    "print(feature_importances.head())\n",
    "tree.plot_tree(random_forest.estimators_[0], max_depth=3,feature_names=X_test.columns, class_names=label, filled=True)\n",
    "plt.show()"
   ]
  },
  {
   "cell_type": "code",
   "execution_count": null,
   "metadata": {},
   "outputs": [],
   "source": []
  }
 ]
}