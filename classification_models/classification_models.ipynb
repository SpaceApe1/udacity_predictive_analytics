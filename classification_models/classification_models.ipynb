{
 "metadata": {
  "language_info": {
   "codemirror_mode": {
    "name": "ipython",
    "version": 3
   },
   "file_extension": ".py",
   "mimetype": "text/x-python",
   "name": "python",
   "nbconvert_exporter": "python",
   "pygments_lexer": "ipython3",
   "version": 3
  },
  "orig_nbformat": 2
 },
 "nbformat": 4,
 "nbformat_minor": 2,
 "cells": [
  {
   "source": [
    "# Classification Models\n",
    "\n",
    "## Package: Scikit-Learn\n",
    "\n",
    "Classification is a large domain in the field of statistics and machine learning. Generally, classification can be broken down into two areas:\n",
    "\n",
    "- Binary classification, where we wish to group an outcome into one of two groups.\n",
    "\n",
    "- Multi-class classification, where we wish to group an outcome into one of multiple (more than two) groups.\n",
    "\n",
    "\n",
    "\n",
    "## Logistic Regression\n",
    "\n",
    "Logistic Regression is a type of Generalized Linear Model (GLM) that uses a logistic function to model a binary variable based on any kind of independent variables.\n",
    "\n",
    "To fit a binary logistic regression with sklearn, we use the LogisticRegression module with multi_class set to \"ovr\" and fit X and y.\n",
    "\n",
    "`from sklearn.linear_model import LogisticRegression`\n",
    "\n",
    "\n",
    "We can then use the predict method to predict probabilities of new data, as well as the score method to get the mean prediction accuracy:\n",
    "\n",
    "\n",
    "## Support Vector Machines\n",
    "\n",
    "Support Vector Machines (SVMs) are a type of classification algorithm that are more flexible - they can do linear classification, but can use other non-linear basis functions.\n",
    "\n",
    "\n",
    "`from sklearn import svm`\n",
    "\n",
    "## Random Forests\n",
    "\n",
    "Random Forests are an ensemble learning method that fit multiple Decision Trees on subsets of the data and average the results. We can again fit them using sklearn, and use them to predict outcomes, as well as get mean prediction accuracy:\n",
    "\n",
    "`from sklearn.ensemble import RandomForestClassifier`\n",
    "\n",
    "## Neural Networks\n",
    "\n",
    "Neural Networks are a machine learning algorithm that involves fitting many hidden layers used to represent neurons that are connected with synaptic activation functions. These essentially use a very simplified model of the brain to model and predict data.\n",
    "\n",
    "`from sklearn.neural_network import MLPClassifier`"
   ],
   "cell_type": "markdown",
   "metadata": {}
  },
  {
   "cell_type": "code",
   "execution_count": null,
   "metadata": {},
   "outputs": [],
   "source": [
    "# import packages\n",
    "import pandas as pd\n",
    "from sklearn.linear_model import LogisticRegression\n",
    "from sklearn import svm\n",
    "from sklearn.ensemble import RandomForestClassifier\n",
    "sklearn.neural_network import MLPClassifier\n"
   ]
  }
 ]
}