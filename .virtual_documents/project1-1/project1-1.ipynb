# import module
import pandas as pd
import matplotlib.pyplot as plt

# plt.style.use('seaborn-whitegrid')
plt.rcParams['figure.figsize'] = [11, 7]


diamonds_data = pd.read_csv('diamonds.csv', index_col=0)
new_diamonds_data = pd.read_csv('new-diamonds.csv', index_col=0)


new_diamonds_data['predicted_price'] = -5269 + 8413*new_diamonds_data['carat'] + 158.1*new_diamonds_data['cut_ord'] + 454*new_diamonds_data['clarity_ord']


total_predicted_price = new_diamonds_data['predicted_price'].sum()


print('Total Price', total_predicted_price)
print('Recommended Price', total_predicted_price*.7)


plt.scatter(x='carat', y='price', data=diamonds_data, c='g', label='old data')
plt.scatter(x='carat', y='predicted_price', data=new_diamonds_data, c='r', label='new data')
plt.title('Carat vs Price')
plt.xlabel('carat')
plt.ylabel('price')
plt.legend(numpoints=1)
# plt.savefig('caret_price.png')



