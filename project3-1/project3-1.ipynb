{
 "metadata": {
  "language_info": {
   "codemirror_mode": {
    "name": "ipython",
    "version": 3
   },
   "file_extension": ".py",
   "mimetype": "text/x-python",
   "name": "python",
   "nbconvert_exporter": "python",
   "pygments_lexer": "ipython3",
   "version": "3.9.2"
  },
  "orig_nbformat": 2,
  "kernelspec": {
   "name": "python392jvsc74a57bd098b0a9b7b4eaaa670588a142fd0a9b87eaafe866f1db4228be72b4211d12040f",
   "display_name": "Python 3.9.2 64-bit ('base': conda)"
  },
  "metadata": {
   "interpreter": {
    "hash": "5cba3963c37d400916a9e80ad5acd0c56daed180f4961ad2a064f19bb9bbda97"
   }
  }
 },
 "nbformat": 4,
 "nbformat_minor": 2,
 "cells": [
  {
   "source": [
    "# Project: Creditworthiness"
   ],
   "cell_type": "markdown",
   "metadata": {}
  },
  {
   "cell_type": "code",
   "execution_count": null,
   "metadata": {},
   "outputs": [],
   "source": [
    "# Load Packages\n",
    "import pandas as pd\n",
    "import numpy as np\n",
    "import matplotlib.pyplot as plt\n",
    "\n",
    "from sklearn.model_selection import train_test_split\n",
    "from sklearn import metrics\n",
    "\n",
    "import statsmodels.api as sm\n",
    "from sklearn.linear_model import LogisticRegression\n",
    "from sklearn.tree import DecisionTreeClassifier\n",
    "from sklearn.ensemble import RandomForestClassifier, AdaBoostClassifier\n",
    "\n",
    "# plt.style.use('seaborn-whitegrid')\n",
    "plt.rcParams['figure.figsize'] = [13, 13]"
   ]
  },
  {
   "source": [
    "## Step 1: Business and Data Understanding"
   ],
   "cell_type": "markdown",
   "metadata": {}
  },
  {
   "cell_type": "code",
   "execution_count": null,
   "metadata": {},
   "outputs": [],
   "source": [
    "# load past applications\n",
    "past_applications = pd.read_excel('credit-data-training.xlsx')\n",
    "new_customers = pd.read_excel('customers-to-score.xlsx')\n"
   ]
  },
  {
   "cell_type": "code",
   "execution_count": null,
   "metadata": {},
   "outputs": [],
   "source": [
    "past_applications.head()"
   ]
  },
  {
   "source": [
    "### Key Decisions:\n",
    "\n",
    "* What decisions needs to be made?\n",
    "  * I need to evaluate the creditworthiness of the new 500 loan applicants.\n",
    "\n",
    "* What data is needed to inform those decisions?\n",
    "  * I need past loan applicant's information on credit application results and the data used to rate those results like Duration of credit, credit amount, installment, age of the applicant, etc.\n",
    "\n",
    "* What kind of model (Continuous, Binary, Non-Binary, Time-Series) do we need to use to help make these decisions?\n",
    "  * The model type will be Binary as I will be predicting an applicant to be either creditworthy or non-creditworthy.\n"
   ],
   "cell_type": "markdown",
   "metadata": {}
  },
  {
   "source": [
    "## Step 2: Building the Training Set\n",
    "\n",
    "### Guidelines:\n",
    "* For numerical data fields, are there any fields that highly-correlate with each other? The correlation should be at least .70 to be considered “high”.\n",
    "* Are there any missing data for each of the data fields? Fields with a lot of missing data should be removed\n",
    "* Are there only a few values in a subset of your data field? Does the data field look very uniform (there is only one value for the entire field?). This is called “low variability” and you should remove fields that have low variability. Refer to the \"Tips\" section to find examples of data fields with low-variability.\n",
    "*Your clean data set should have 13 columns where the Average of Age Years should be 36 (rounded up)\n"
   ],
   "cell_type": "markdown",
   "metadata": {}
  },
  {
   "cell_type": "code",
   "execution_count": null,
   "metadata": {},
   "outputs": [],
   "source": []
  },
  {
   "cell_type": "code",
   "execution_count": null,
   "metadata": {},
   "outputs": [],
   "source": [
    "# Variables Non Null Count\n",
    "past_applications.info()\n",
    "\n",
    "columns_to_drop = []"
   ]
  },
  {
   "cell_type": "code",
   "execution_count": null,
   "metadata": {},
   "outputs": [],
   "source": [
    "# Data Vizualization\n",
    "fig, axes = plt.subplots(4,5, figsize=(23, 23))\n",
    "x = list(past_applications.columns)\n",
    "\n",
    "for i, column in enumerate(past_applications.columns):\n",
    "    if past_applications[column].dtype == np.dtype('O'):\n",
    "        past_applications[column].value_counts().plot(kind='bar', rot=0, ax=axes[int(i/5)][i%5]).set_title(column)\n",
    "    else:\n",
    "        past_applications[column].hist(ax=axes[int(i/5)][i%5]).set_title(column)\n"
   ]
  },
  {
   "cell_type": "code",
   "execution_count": null,
   "metadata": {},
   "outputs": [],
   "source": [
    "# drop Duration-in-Current-address due to many missing data\n",
    "columns_to_drop.append('Duration-in-Current-address')\n",
    "# drop Concurrent-Credits due to low variability\n",
    "columns_to_drop.append('Concurrent-Credits')\n",
    "# drop Occupation due to low variability\n",
    "columns_to_drop.append('Occupation')\n",
    "\n",
    "# drop due to low variability\n",
    "columns_to_drop.append('Guarantors')\n",
    "columns_to_drop.append('Type-of-apartment')\n",
    "columns_to_drop.append('No-of-dependents')\n",
    "columns_to_drop.append('Foreign-Worker')\n",
    "\n",
    "clean_data = past_applications.drop(columns=columns_to_drop)\n",
    "\n",
    "past_applications[columns_to_drop].info()"
   ]
  },
  {
   "cell_type": "code",
   "execution_count": null,
   "metadata": {},
   "outputs": [],
   "source": [
    "# Data Removed Vizualization\n",
    "fig, axes = plt.subplots(2,4, figsize=(15, 9))\n",
    "\n",
    "for i, column in enumerate(columns_to_drop):\n",
    "    if past_applications[column].dtype == np.dtype('O'):\n",
    "        past_applications[column].value_counts().plot(kind='bar', rot=0, ax=axes[int(i/4)][i%4]).set_title(column)\n",
    "    else:\n",
    "        past_applications[column].hist(ax=axes[int(i/4)][i%4]).set_title(column)\n",
    "\n",
    "# fig.savefig('droped_variables_graph.png')"
   ]
  },
  {
   "cell_type": "code",
   "execution_count": null,
   "metadata": {},
   "outputs": [],
   "source": [
    "# Correlation\n",
    "clean_data.corr().round(2)"
   ]
  },
  {
   "cell_type": "code",
   "execution_count": null,
   "metadata": {},
   "outputs": [],
   "source": [
    "# Median\n",
    "clean_data = clean_data.fillna(clean_data.median())\n",
    "clean_data.describe().round(0)"
   ]
  },
  {
   "source": [
    "### Answer this question:\n",
    "\n",
    "* In your cleanup process, which fields did you remove or impute? Please justify why you removed or imputed these fields. Visualizations are encouraged.\n",
    "  * The imputed field is Age-years, There 12 applicants with empty age data. I can not remove these applicants as I will lose 2.4% of the data. I will fill all empty data with an age median of 33.\n",
    "  * I will remove all fields with low variability to remove bias in my model. The removed fields are:\n",
    "    - Duration in a current address\n",
    "    - Concurrent credits\n",
    "    - Occupation\n",
    "    - Guarantors\n",
    "    - Type of apartment\n",
    "    - No of dependents\n",
    "    - Foreign worker"
   ],
   "cell_type": "markdown",
   "metadata": {}
  },
  {
   "source": [
    "## Step 3: Train your Classification Models\n",
    "\n",
    "First, create your Estimation and Validation samples where 70% of your dataset should go to Estimation and 30% of your entire dataset should be reserved for Validation. Set the Random Seed to 1.\n",
    "\n",
    "Create all of the following models: Logistic Regression, Decision Tree, Forest Model, Boosted Model"
   ],
   "cell_type": "markdown",
   "metadata": {}
  },
  {
   "cell_type": "code",
   "execution_count": null,
   "metadata": {},
   "outputs": [],
   "source": [
    "# replace target to binary\n",
    "target_column = 'Credit-Application-Result'\n",
    "target_label = ['Creditworthy', 'Non-Creditworthy'] # list(clean_data[target_column].unique())\n",
    "clean_data[target_column].replace({'Creditworthy': 1, 'Non-Creditworthy': 0}, inplace=True)\n",
    "\n",
    "# Categorical Columns\n",
    "categorical_columns = ['Account-Balance', 'Payment-Status-of-Previous-Credit', 'Purpose', 'Value-Savings-Stocks', 'Length-of-current-employment', 'No-of-Credits-at-this-Bank']\n",
    "prefix = ['AccountB', 'PaymentSPC', 'Purpose', 'ValueSS', 'LengthCE', 'NumberCB']\n",
    "\n",
    "# convert categorical varibles into dummy [indicator variables]\n",
    "clean_data_with_dummies = pd.get_dummies(clean_data, prefix=prefix, columns=categorical_columns, drop_first=True)\n",
    "\n",
    "clean_data_with_dummies.info()"
   ]
  },
  {
   "cell_type": "code",
   "execution_count": null,
   "metadata": {},
   "outputs": [],
   "source": [
    "# Split data set to train and test subsets\n",
    "train, test = train_test_split(clean_data_with_dummies, test_size=0.3, random_state=1)\n",
    "\n",
    "# Training Data\n",
    "Y_train = train['Credit-Application-Result']\n",
    "X_train = train.drop(columns='Credit-Application-Result')\n",
    "\n",
    "# Test Data\n",
    "Y_test = test['Credit-Application-Result']\n",
    "X_test = test.drop(columns='Credit-Application-Result')"
   ]
  },
  {
   "cell_type": "code",
   "execution_count": null,
   "metadata": {},
   "outputs": [],
   "source": [
    "X_train.head()"
   ]
  },
  {
   "cell_type": "code",
   "execution_count": null,
   "metadata": {},
   "outputs": [],
   "source": [
    "# Logistic Regression Model - sklearn\n",
    "logReg = LogisticRegression(max_iter=1000, random_state=1)\n",
    "logReg.fit(X_train, Y_train)\n",
    "\n",
    "print('\\nAccuracy on Training Data: ', logReg.score(X_test, Y_test), '\\n')\n",
    "print('Confusion Matrix\\n' ,metrics.confusion_matrix(Y_test, logReg.predict(X_test)), '\\n')\n",
    "print('Report\\n' ,metrics.classification_report(Y_test, logReg.predict(X_test)))"
   ]
  },
  {
   "cell_type": "code",
   "execution_count": null,
   "metadata": {},
   "outputs": [],
   "source": [
    "# Logistic Regression Model - stasmodels\n",
    "sm_logReg = sm.Logit(Y_train, X_train).fit(maxiter=1000)\n",
    "\n",
    "print(sm_logReg.summary2())\n",
    "print('\\nAccuracy on Training Data: ', metrics.accuracy_score(Y_train, list(map(round, sm_logReg.predict(X_train)))), '\\n')\n",
    "print('Confusion Matrix\\n' ,metrics.confusion_matrix(Y_test, list(map(round, sm_logReg.predict(X_test)))), '\\n')\n",
    "print('Report\\n' ,metrics.classification_report(Y_test, list(map(round, sm_logReg.predict(X_test)))))"
   ]
  },
  {
   "cell_type": "code",
   "execution_count": null,
   "metadata": {},
   "outputs": [],
   "source": [
    "# Decision Tree Model\n",
    "decisionTree = DecisionTreeClassifier(max_depth=3, random_state=1)\n",
    "decisionTree.fit(X_train, Y_train)\n",
    "decisionTree.score(X_train, Y_train)\n",
    "\n",
    "print('\\nAccuracy on Training Data: ', decisionTree.score(X_test, Y_test), '\\n')\n",
    "print('Confusion Matrix\\n' ,metrics.confusion_matrix(Y_test, decisionTree.predict(X_test)), '\\n')\n",
    "print('Report\\n' ,metrics.classification_report(Y_test, decisionTree.predict(X_test)))"
   ]
  },
  {
   "cell_type": "code",
   "execution_count": null,
   "metadata": {},
   "outputs": [],
   "source": [
    "# Forest Model Model\n",
    "randomForest = RandomForestClassifier(max_depth=3, random_state=1)\n",
    "randomForest.fit(X_train, Y_train)\n",
    "randomForest.score(X_train, Y_train)\n",
    "\n",
    "print('\\nAccuracy on Training Data: ', randomForest.score(X_test, Y_test), '\\n')\n",
    "print('Confusion Matrix\\n' ,metrics.confusion_matrix(Y_test, randomForest.predict(X_test)), '\\n')\n",
    "print('Report\\n' ,metrics.classification_report(Y_test, randomForest.predict(X_test)))"
   ]
  },
  {
   "cell_type": "code",
   "execution_count": null,
   "metadata": {},
   "outputs": [],
   "source": [
    "# Boosted Tree Model\n",
    "boostedTree = AdaBoostClassifier(random_state=1)\n",
    "boostedTree.fit(X_train, Y_train)\n",
    "boostedTree.score(X_train, Y_train)\n",
    "\n",
    "print('\\nAccuracy on Training Data: ', boostedTree.score(X_test, Y_test), '\\n')\n",
    "print('Confusion Matrix\\n' ,metrics.confusion_matrix(Y_test, boostedTree.predict(X_test)), '\\n')\n",
    "print('Report\\n' ,metrics.classification_report(Y_test, boostedTree.predict(X_test)))"
   ]
  },
  {
   "cell_type": "code",
   "execution_count": null,
   "metadata": {},
   "outputs": [],
   "source": [
    "boostedTree.feature_importances_"
   ]
  },
  {
   "source": [
    "### Answer these questions for each model you created:\n",
    "\n",
    "* Which predictor variables are significant or the most important? Please show the p-values or variable importance charts for all of your predictor variables.\n",
    "\n",
    "* Validate your model against the Validation set. What was the overall percent accuracy? Show the confusion matrix. Are there any bias seen in the model’s predictions? \n"
   ],
   "cell_type": "markdown",
   "metadata": {}
  },
  {
   "source": [
    "## Step 4: Writeup\n",
    "\n",
    "Decide on the best model and score your new customers. For reviewing consistency, if Score_Creditworthy is greater than Score_NonCreditworthy, the person should be labeled as “Creditworthy"
   ],
   "cell_type": "markdown",
   "metadata": {}
  },
  {
   "cell_type": "code",
   "execution_count": null,
   "metadata": {},
   "outputs": [],
   "source": [
    "# prepair new customers data for prediction\n",
    "clean_new_customers = new_customers.drop(columns=columns_to_drop)\n",
    "clean_new_customers_with_dummies = pd.get_dummies(clean_new_customers, prefix=prefix, columns=categorical_columns, drop_first=True)\n",
    "\n",
    "Y = clean_data_with_dummies['Credit-Application-Result']\n",
    "X = clean_data_with_dummies.drop(columns='Credit-Application-Result')\n"
   ]
  },
  {
   "cell_type": "code",
   "execution_count": null,
   "metadata": {},
   "outputs": [],
   "source": [
    "# Logistic Regression Model - stasmodels\n",
    "print('\\nAccuracy on Validation Data: ', metrics.accuracy_score(Y, list(map(round, sm_logReg.predict(X)))), '\\n')\n",
    "print('Confusion Matrix\\n' ,metrics.confusion_matrix(Y, list(map(round, sm_logReg.predict(X)))), '\\n')\n",
    "print('Report\\n' ,metrics.classification_report(Y, list(map(round, sm_logReg.predict(X)))))"
   ]
  },
  {
   "cell_type": "code",
   "execution_count": null,
   "metadata": {},
   "outputs": [],
   "source": [
    "# Decision Tree Model\n",
    "print('\\nAccuracy on Training Data: ', decisionTree.score(X, Y), '\\n')\n",
    "print('Confusion Matrix\\n' ,metrics.confusion_matrix(Y, decisionTree.predict(X)), '\\n')\n",
    "print('Report\\n' ,metrics.classification_report(Y, decisionTree.predict(X)))"
   ]
  },
  {
   "cell_type": "code",
   "execution_count": null,
   "metadata": {},
   "outputs": [],
   "source": [
    "# Forest Model Model\n",
    "print('\\nAccuracy on Training Data: ', randomForest.score(X, Y), '\\n')\n",
    "print('Confusion Matrix\\n' ,metrics.confusion_matrix(Y, randomForest.predict(X)), '\\n')\n",
    "print('Report\\n' ,metrics.classification_report(Y, randomForest.predict(X)))"
   ]
  },
  {
   "cell_type": "code",
   "execution_count": null,
   "metadata": {},
   "outputs": [],
   "source": [
    "# Boosted Tree Model\n",
    "print('\\nAccuracy on Training Data: ', boostedTree.score(X, Y), '\\n')\n",
    "print('Confusion Matrix\\n' ,metrics.confusion_matrix(Y, boostedTree.predict(X)), '\\n')\n",
    "print('Report\\n' ,metrics.classification_report(Y, boostedTree.predict(X)))"
   ]
  },
  {
   "source": [
    "### Answer these questions\n",
    "* Which model did you choose to use? \n",
    "* How many individuals are creditworthy?"
   ],
   "cell_type": "markdown",
   "metadata": {}
  },
  {
   "source": [
    "## New Ideas\n",
    "transformer\n",
    "\n",
    "scaler\n",
    "\n",
    "pipeline\n",
    "\n",
    "model selection"
   ],
   "cell_type": "markdown",
   "metadata": {}
  },
  {
   "cell_type": "code",
   "execution_count": null,
   "metadata": {},
   "outputs": [],
   "source": [
    "# load package\n",
    "from sklearn.model_selection import GridSearchCV\n",
    "from sklearn.compose import ColumnTransformer\n",
    "from sklearn.preprocessing import StandardScaler, OneHotEncoder\n"
   ]
  },
  {
   "cell_type": "code",
   "execution_count": null,
   "metadata": {},
   "outputs": [],
   "source": [
    "numerical_columns = ['Duration-of-Credit-Month','Credit-Amount', 'Instalment-per-cent', 'Most-valuable-available-asset','Age-years', 'Telephone']\n",
    "\n",
    "# get target and predictors from cleaned dataframe\n",
    "def get_predictors_target(df):\n",
    "    target = None\n",
    "    if target_column in df.columns:\n",
    "        target = df[target_column]\n",
    "    predictors = df[numerical_columns+categorical_columns]\n",
    "    return predictors, target\n",
    "\n",
    "# Preprocessing Data for Models\n",
    "transformer = ColumnTransformer(\n",
    "    [\n",
    "        ('scaler' , StandardScaler(), numerical_columns),\n",
    "        ('encoder', OneHotEncoder(drop='first'), categorical_columns)\n",
    "    ], \n",
    "    remainder='drop'\n",
    ")\n",
    "\n",
    "# Training Data\n",
    "X, y = get_predictors_target(clean_data)\n",
    "\n",
    "# Predicting Data\n",
    "X_to_predict, _ = get_predictors_target(new_customers)\n",
    "\n",
    "# fit data to create features\n",
    "transformer.fit(X)\n",
    "\n",
    "# split trainging data\n",
    "X_train, X_test, y_train, y_test = train_test_split(X, y, test_size=.3, random_state=0)\n",
    "\n",
    "# Features after scaler and encoder\n",
    "feature_names = numerical_columns + list(transformer.transformers_[1][1].get_feature_names(categorical_columns))\n"
   ]
  },
  {
   "cell_type": "code",
   "execution_count": null,
   "metadata": {},
   "outputs": [],
   "source": [
    "# Decision Tree Model\n",
    "\n",
    "# # Find best parameters\n",
    "# parameters = {'criterion': ['gini', 'entropy'], 'splitter': ['best', 'random'], 'max_depth': range(1,20)}\n",
    "# decision_tree_grid = GridSearchCV(DecisionTreeClassifier(), param_grid=parameters, scoring='roc_auc', cv=10, n_jobs=-1)\n",
    "# decision_tree_grid.fit(transformer.transform(X_train), y_train)\n",
    "# decision_tree_grid.best_params_\n",
    "\n",
    "# Best params: {'criterion': 'gini', 'max_depth': 3, 'splitter': 'random'}"
   ]
  },
  {
   "cell_type": "code",
   "execution_count": null,
   "metadata": {},
   "outputs": [],
   "source": [
    "# # Decision Tree Model - Prediction\n",
    "decision_tree_model = DecisionTreeClassifier(criterion='gini', max_depth=3, splitter='random')\n",
    "decision_tree_model.fit(transformer.transform(X_train), y_train)\n",
    "# Features Impotances\n",
    "feature_importances = pd.DataFrame({'feature_names': feature_names, 'importances': decision_tree_model.feature_importances_}).sort_values('importances', ascending=False)\n",
    "feature_importances"
   ]
  },
  {
   "cell_type": "code",
   "execution_count": null,
   "metadata": {},
   "outputs": [],
   "source": [
    "# Forest Model Model\n",
    "\n",
    "# # Find best parameters\n",
    "# parameters = {'n_estimators': range(50, 1100, 100),'criterion': ['gini', 'entropy'], 'max_depth': range(1,20)}\n",
    "# random_forest_grid = GridSearchCV(RandomForestClassifier(), param_grid=parameters, scoring='roc_auc', cv=10, n_jobs=-1)\n",
    "# random_forest_grid.fit(transformer.transform(X_train), y_train)\n",
    "# random_forest_grid.best_params_\n",
    "\n",
    "# Best params: {'criterion': 'entropy', 'max_depth': 2, 'n_estimators': 150}"
   ]
  },
  {
   "cell_type": "code",
   "execution_count": null,
   "metadata": {},
   "outputs": [],
   "source": [
    "# Forest Model - Prediction\n",
    "random_forest_model = RandomForestClassifier(criterion='entropy', max_depth=2, n_estimators=150)\n",
    "random_forest_model.fit(transformer.transform(X_train), y_train)\n",
    "# Features Impotances\n",
    "feature_importances = pd.DataFrame({'feature_names': feature_names, 'importances': random_forest_model.feature_importances_}).sort_values('importances', ascending=False)\n",
    "feature_importances"
   ]
  },
  {
   "cell_type": "code",
   "execution_count": null,
   "metadata": {},
   "outputs": [],
   "source": [
    "# # AdaBoost Model\n",
    "\n",
    "# # Find best parameters\n",
    "# parameters = {'n_estimators': range(50, 1100, 100), 'algorithm': ['SAMME', 'SAMME.R'], 'learning_rate': np.arange(.1, 1.1, .1)}\n",
    "# ada_boost_grid = GridSearchCV(AdaBoostClassifier(), param_grid=parameters, scoring='roc_auc', cv=10, n_jobs=-1)\n",
    "# ada_boost_grid.fit(transformer.transform(X_train), y_train)\n",
    "# ada_boost_grid.best_params_\n",
    "\n",
    "# Best params: {'algorithm': 'SAMME', 'learning_rate': 0.6, 'n_estimators': 50}"
   ]
  },
  {
   "cell_type": "code",
   "execution_count": null,
   "metadata": {},
   "outputs": [],
   "source": [
    "# AdaBoost Model - Prediction\n",
    "ada_boost_model = AdaBoostClassifier(n_estimators=50, algorithm='SAMME', learning_rate=0.6)\n",
    "ada_boost_model.fit(transformer.transform(X_train), y_train)\n",
    "# Features Impotances\n",
    "feature_importances = pd.DataFrame({'feature_names': feature_names, 'importances': ada_boost_model.feature_importances_}).sort_values('importances', ascending=False)\n",
    "feature_importances"
   ]
  },
  {
   "cell_type": "code",
   "execution_count": null,
   "metadata": {},
   "outputs": [],
   "source": []
  }
 ]
}