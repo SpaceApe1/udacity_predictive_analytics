{
 "cells": [
  {
   "cell_type": "markdown",
   "id": "statistical-academy",
   "metadata": {},
   "source": [
    "# PROJECT 1-1\n",
    "\n",
    "## DIAMONDS PRICE\n"
   ]
  },
  {
   "cell_type": "code",
   "execution_count": null,
   "id": "liquid-program",
   "metadata": {},
   "outputs": [],
   "source": [
    "# import module\n",
    "import pandas as pd\n",
    "import matplotlib.pyplot as plt\n",
    "\n",
    "# plt.style.use('seaborn-whitegrid')\n",
    "plt.rcParams['figure.figsize'] = [11, 7]"
   ]
  },
  {
   "cell_type": "markdown",
   "id": "alternate-design",
   "metadata": {},
   "source": [
    "## Load Diamonds Data"
   ]
  },
  {
   "cell_type": "code",
   "execution_count": null,
   "id": "cultural-lover",
   "metadata": {},
   "outputs": [],
   "source": [
    "diamonds_data = pd.read_csv('diamonds.csv', index_col=0)\n",
    "new_diamonds_data = pd.read_csv('new-diamonds.csv', index_col=0)"
   ]
  },
  {
   "cell_type": "markdown",
   "id": "passing-protest",
   "metadata": {},
   "source": [
    "## Base Model\n",
    "### Price = -5,269 + 8,413 x Carat + 158.1 x Cut + 454 x Clarity"
   ]
  },
  {
   "cell_type": "code",
   "execution_count": null,
   "id": "tutorial-shaft",
   "metadata": {},
   "outputs": [],
   "source": [
    "new_diamonds_data['predicted_price'] = -5269 + 8413*new_diamonds_data['carat'] + 158.1*new_diamonds_data['cut_ord'] + 454*new_diamonds_data['clarity_ord']"
   ]
  },
  {
   "cell_type": "code",
   "execution_count": null,
   "id": "operational-argument",
   "metadata": {},
   "outputs": [],
   "source": [
    "total_predicted_price = new_diamonds_data['predicted_price'].sum()"
   ]
  },
  {
   "cell_type": "code",
   "execution_count": null,
   "id": "fiscal-pitch",
   "metadata": {},
   "outputs": [],
   "source": [
    "print('Total Price', total_predicted_price)\n",
    "print('Recommended Price', total_predicted_price*.7)"
   ]
  },
  {
   "cell_type": "code",
   "execution_count": null,
   "id": "widespread-package",
   "metadata": {},
   "outputs": [],
   "source": [
    "plt.scatter(x='carat', y='price', data=diamonds_data, c='g', label='old data')\n",
    "plt.scatter(x='carat', y='predicted_price', data=new_diamonds_data, c='r', label='new data')\n",
    "plt.title('Carat vs Price')\n",
    "plt.xlabel('carat')\n",
    "plt.ylabel('price')\n",
    "plt.legend(numpoints=1)\n",
    "# plt.savefig('caret_price.png')"
   ]
  },
  {
   "cell_type": "code",
   "execution_count": null,
   "id": "wicked-coffee",
   "metadata": {},
   "outputs": [],
   "source": []
  }
 ],
 "metadata": {
  "kernelspec": {
   "display_name": "Python 3",
   "language": "python",
   "name": "python3"
  },
  "language_info": {
   "codemirror_mode": {
    "name": "ipython",
    "version": 3
   },
   "file_extension": ".py",
   "mimetype": "text/x-python",
   "name": "python",
   "nbconvert_exporter": "python",
   "pygments_lexer": "ipython3",
   "version": "3.9.2"
  }
 },
 "nbformat": 4,
 "nbformat_minor": 5
}
