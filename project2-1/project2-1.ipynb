{
 "metadata": {
  "language_info": {
   "codemirror_mode": {
    "name": "ipython",
    "version": 3
   },
   "file_extension": ".py",
   "mimetype": "text/x-python",
   "name": "python",
   "nbconvert_exporter": "python",
   "pygments_lexer": "ipython3",
   "version": "3.9.2"
  },
  "orig_nbformat": 2,
  "kernelspec": {
   "name": "pythonjvsc74a57bd05cba3963c37d400916a9e80ad5acd0c56daed180f4961ad2a064f19bb9bbda97",
   "display_name": "Python 3.9.2  ('.venv': venv)"
  },
  "metadata": {
   "interpreter": {
    "hash": "5cba3963c37d400916a9e80ad5acd0c56daed180f4961ad2a064f19bb9bbda97"
   }
  }
 },
 "nbformat": 4,
 "nbformat_minor": 2,
 "cells": [
  {
   "source": [
    "# Practice Project 2.1 - Preparing School Data\n",
    "\n",
    "## Business Understanding\n",
    "A school district wants to predict the per pupil costs of a school based on some high level summary data about the school. This way they’ll have a good estimation of how well a school is managing its costs relative to what the model would predict. You’ve been asked to to prepare the data for modelling.\n",
    "\n",
    "## Data Understanding\n",
    "You’ve been given four CSV files that contain data for two different school districts. You can find these files at the bottom of the page.\n",
    "\n",
    "- DistrictA_Attendance - This file contains average daily attendance, percent attendance, and pupil-teacher ratio data for the 25 schools in district A.\n",
    "\n",
    "- DistrictA_Finance - This file contains average monthly teacher salary and per pupil cost data for the 25 schools in district A.\n",
    "\n",
    "- DistrictB_Attendance - This file contains average daily attendance, percent attendance, and pupil-teacher ratio data for the 21 schools in district B.\n",
    "\n",
    "- DistrictB_Finance - This file contains average monthly teacher salary and per pupil cost data for the 21 schools in district B."
   ],
   "cell_type": "markdown",
   "metadata": {}
  },
  {
   "cell_type": "code",
   "execution_count": 13,
   "metadata": {},
   "outputs": [],
   "source": [
    "# load module\n",
    "import pandas as pd"
   ]
  },
  {
   "cell_type": "code",
   "execution_count": 14,
   "metadata": {},
   "outputs": [],
   "source": [
    "# load attendance and finance data\n",
    "a_attendance = pd.read_csv('districta-attendance.csv')\n",
    "b_attendance = pd.read_csv('districtb-attendance.csv')\n",
    "a_finance = pd.read_csv('districta-finance.csv')\n",
    "b_finance = pd.read_csv('districtb-finance.csv')\n",
    "\n",
    "# clean up data\n",
    "attendance_columns = ['School', 'Average daily Attendance', 'Percent Attendance', 'Pupil/Teacher ratio']\n",
    "a_attendance = a_attendance[attendance_columns]\n",
    "\n",
    "# Join data\n",
    "a_b_attendance = pd.concat([a_attendance, b_attendance])\n",
    "a_b_finance = pd.concat([a_finance, b_finance])\n"
   ]
  },
  {
   "cell_type": "code",
   "execution_count": null,
   "metadata": {},
   "outputs": [],
   "source": []
  }
 ]
}