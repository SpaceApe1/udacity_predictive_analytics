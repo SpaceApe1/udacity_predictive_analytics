{
 "metadata": {
  "language_info": {
   "codemirror_mode": {
    "name": "ipython",
    "version": 3
   },
   "file_extension": ".py",
   "mimetype": "text/x-python",
   "name": "python",
   "nbconvert_exporter": "python",
   "pygments_lexer": "ipython3",
   "version": "3.9.2"
  },
  "orig_nbformat": 2,
  "kernelspec": {
   "name": "pythonjvsc74a57bd05cba3963c37d400916a9e80ad5acd0c56daed180f4961ad2a064f19bb9bbda97",
   "display_name": "Python 3.9.2  ('.venv': venv)"
  },
  "metadata": {
   "interpreter": {
    "hash": "5cba3963c37d400916a9e80ad5acd0c56daed180f4961ad2a064f19bb9bbda97"
   }
  }
 },
 "nbformat": 4,
 "nbformat_minor": 2,
 "cells": [
  {
   "source": [
    "# The Business Problem\n",
    "Pawdacity is a leading pet store chain in Wyoming with 13 stores throughout the state. This year, Pawdacity would like to expand and open a 14th store. Your manager has asked you to perform an analysis to recommend the city for Pawdacity’s newest store, based on predicted yearly sales.\n",
    "\n",
    "Your first step in predicting yearly sales is to first format and blend together data from different datasets and deal with outliers.\n",
    "\n",
    "Your manager has given you the following information to work with:\n",
    "\n",
    "- The monthly sales data for all of the Pawdacity stores for the year 2010.\n",
    "- NAICS data on the most current sales of all competitor stores where total sales is equal to 12 months of sales.\n",
    "- A partially parsed data file that can be used for population numbers.\n",
    "- Demographic data (Households with individuals under 18, Land Area, Population Density, and Total Families) for each city and county in the state of Wyoming. For people who are unfamiliar with the US city system, a state contains counties and counties contains one or more cities."
   ],
   "cell_type": "markdown",
   "metadata": {}
  },
  {
   "cell_type": "code",
   "execution_count": 1,
   "metadata": {},
   "outputs": [],
   "source": [
    "# load packages\n",
    "import pandas as pd\n",
    "import numpy as np\n",
    "from scipy import stats\n",
    "import matplotlib.pyplot as plt\n",
    "\n",
    "# plt.style.use('seaborn-whitegrid')\n",
    "plt.rcParams['figure.figsize'] = [11, 7]"
   ]
  },
  {
   "source": [
    "## Step 1: Business and Data Understanding\n",
    "Your project should include a description of the key business decisions that need to be made."
   ],
   "cell_type": "markdown",
   "metadata": {}
  },
  {
   "source": [
    "1. What decisions needs to be made?\n",
    "\n",
    "To recommend the city for Pawdacity’s newest store, based on predicted yearly sales."
   ],
   "cell_type": "markdown",
   "metadata": {}
  },
  {
   "source": [
    "2. What data is needed to inform those decisions?\n",
    "\n",
    "- Pawdacity Monthly Sales\n",
    "- Population Data\n",
    "- Demographic Data\n",
    "- Competitor Sales"
   ],
   "cell_type": "markdown",
   "metadata": {}
  },
  {
   "source": [
    "## Step 2: Building the Training Set\n",
    "To properly build the model, and select predictor variables, create a dataset with the following columns:"
   ],
   "cell_type": "markdown",
   "metadata": {}
  },
  {
   "cell_type": "code",
   "execution_count": null,
   "metadata": {},
   "outputs": [],
   "source": []
  },
  {
   "source": [
    "## Step 3: Dealing with Outliers\n",
    "Once you have created the dataset, look for outliers and figure out how deal with your outliers. Use the IQR method to determine if there are outlier cities for each of the variables and then justify which city that has at least one outlier value should be removed."
   ],
   "cell_type": "markdown",
   "metadata": {}
  },
  {
   "cell_type": "code",
   "execution_count": null,
   "metadata": {},
   "outputs": [],
   "source": []
  }
 ]
}