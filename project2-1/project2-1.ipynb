{
 "metadata": {
  "language_info": {
   "codemirror_mode": {
    "name": "ipython",
    "version": 3
   },
   "file_extension": ".py",
   "mimetype": "text/x-python",
   "name": "python",
   "nbconvert_exporter": "python",
   "pygments_lexer": "ipython3",
   "version": "3.9.2"
  },
  "orig_nbformat": 2,
  "kernelspec": {
   "name": "pythonjvsc74a57bd05cba3963c37d400916a9e80ad5acd0c56daed180f4961ad2a064f19bb9bbda97",
   "display_name": "Python 3.9.2  ('.venv': venv)"
  },
  "metadata": {
   "interpreter": {
    "hash": "5cba3963c37d400916a9e80ad5acd0c56daed180f4961ad2a064f19bb9bbda97"
   }
  }
 },
 "nbformat": 4,
 "nbformat_minor": 2,
 "cells": [
  {
   "source": [
    "# Practice Project 2.1 - Preparing School Data\n",
    "\n",
    "## Business Understanding\n",
    "A school district wants to predict the per pupil costs of a school based on some high level summary data about the school. This way they’ll have a good estimation of how well a school is managing its costs relative to what the model would predict. You’ve been asked to to prepare the data for modelling.\n",
    "\n",
    "## Data Understanding\n",
    "You’ve been given four CSV files that contain data for two different school districts. You can find these files at the bottom of the page.\n",
    "\n",
    "- DistrictA_Attendance - This file contains average daily attendance, percent attendance, and pupil-teacher ratio data for the 25 schools in district A.\n",
    "\n",
    "- DistrictA_Finance - This file contains average monthly teacher salary and per pupil cost data for the 25 schools in district A.\n",
    "\n",
    "- DistrictB_Attendance - This file contains average daily attendance, percent attendance, and pupil-teacher ratio data for the 21 schools in district B.\n",
    "\n",
    "- DistrictB_Finance - This file contains average monthly teacher salary and per pupil cost data for the 21 schools in district B."
   ],
   "cell_type": "markdown",
   "metadata": {}
  },
  {
   "cell_type": "code",
   "execution_count": null,
   "metadata": {},
   "outputs": [],
   "source": [
    "# load module\n",
    "import pandas as pd\n",
    "import numpy as np\n",
    "from scipy import stats\n",
    "import matplotlib.pyplot as plt\n",
    "\n",
    "# plt.style.use('seaborn-whitegrid')\n",
    "plt.rcParams['figure.figsize'] = [11, 7]"
   ]
  },
  {
   "cell_type": "code",
   "execution_count": null,
   "metadata": {},
   "outputs": [],
   "source": [
    "# load attendance and finance data\n",
    "a_attendance = pd.read_csv('districta-attendance.csv')\n",
    "b_attendance = pd.read_csv('districtb-attendance.csv')\n",
    "a_finance = pd.read_csv('districta-finance.csv')\n",
    "b_finance = pd.read_csv('districtb-finance.csv')\n",
    "\n",
    "# Remove empty columns\n",
    "attendance_columns = ['School', 'Average daily Attendance', 'Percent Attendance', 'Pupil/Teacher ratio']\n",
    "a_attendance = a_attendance[attendance_columns]\n"
   ]
  },
  {
   "source": [
    "## Data Preparation\n",
    "\n",
    "\n",
    "### Step 1: Combine the data\n",
    "First you’ll need to combine the data from the various files into one sheet, with one row per school. To do this, you’ll use the skills you learned in the Formatting Data and Blending Data lessons."
   ],
   "cell_type": "markdown",
   "metadata": {}
  },
  {
   "cell_type": "code",
   "execution_count": null,
   "metadata": {},
   "outputs": [],
   "source": [
    "# Pivot Finace Data\n",
    "a_finance_pivot = a_finance.pivot(index='School', columns='Metric', values='Value').reset_index()\n",
    "b_finance_pivot = b_finance.pivot(index='School', columns='Metric', values='Value').reset_index()\n",
    "\n",
    "# Merge district data\n",
    "district_a = pd.merge(a_attendance, a_finance_pivot, on='School')\n",
    "district_b = pd.merge(b_attendance, b_finance_pivot, on='School')\n",
    "\n",
    "# join districts data and remove duplicates\n",
    "districts_data = pd.concat([district_a, district_b], ignore_index=True).drop_duplicates(ignore_index=True)"
   ]
  },
  {
   "source": [
    "### Step 2: Clean the Data\n",
    "\n",
    "\n",
    "Next you’ll clean the data, which includes addressing duplicate data, missing data, and any other data issues. To do this, you’ll use the skills you learned in the Data Issues lesson."
   ],
   "cell_type": "markdown",
   "metadata": {}
  },
  {
   "cell_type": "code",
   "execution_count": null,
   "metadata": {},
   "outputs": [],
   "source": [
    "# check non null data\n",
    "print('Non Null Data in Raw School Data\\n')\n",
    "print(districts_data.info())\n",
    "\n",
    "# drop NA row\n",
    "districts_data_dropna = districts_data.dropna()\n",
    "print('\\nClean Data')\n",
    "print(districts_data_dropna.info())\n"
   ]
  },
  {
   "source": [
    "### Step 3: Identify and Deal with Outliers\n",
    "\n",
    "\n",
    "Lastly, you’ll look for outliers and determine the best way to address them. To do this, you’ll use the skills you learned in the Data Issues lesson."
   ],
   "cell_type": "markdown",
   "metadata": {}
  },
  {
   "cell_type": "code",
   "execution_count": null,
   "metadata": {},
   "outputs": [],
   "source": [
    "# Target Variable: 'Per-Pupil Cost'\n",
    "# Predictor Variables: \n",
    "# ['Average daily Attendance', 'Percent Attendance', 'Pupil/Teacher ratio', 'Average Monthly Teacher Salary']\n",
    "\n",
    "print('Boxplots All Variables\\n')\n",
    "\n",
    "column_names = list(districts_data_dropna.columns)[1:]\n",
    "\n",
    "districts_data_predict_variables = districts_data_dropna[column_names]\n",
    "\n",
    "for column_name in column_names:\n",
    "    districts_data_predict_variables.boxplot(column=column_name)\n",
    "    plt.figure()\n"
   ]
  },
  {
   "source": [
    "### Remove outliers by zcore\n",
    "\n",
    "threshold = 3\n",
    "\n",
    "np.where(z > threshold)\n",
    "\n",
    "`from scipy import stats`\n",
    "\n",
    "`import numpy as np`"
   ],
   "cell_type": "markdown",
   "metadata": {}
  },
  {
   "cell_type": "code",
   "execution_count": null,
   "metadata": {},
   "outputs": [],
   "source": [
    "z_score_abs = np.abs(stats.zscore(districts_data_predict_variables))\n",
    "idx = (z_score_abs < 3).all(axis=1)\n",
    "\n",
    "# outliers data\n",
    "outlier_school_data = districts_data_predict_variables[~idx]\n",
    "print('Outliers School Dara')\n",
    "print(outlier_school_data)\n",
    "\n",
    "# filter outliers data\n",
    "no_outlier_school_data = districts_data_predict_variables[idx]\n",
    "print('\\nFiltered Outliers School Dara')\n",
    "print(no_outlier_school_data.info())"
   ]
  },
  {
   "cell_type": "code",
   "execution_count": null,
   "metadata": {},
   "outputs": [],
   "source": [
    "districts_data_predict_variables.info()"
   ]
  },
  {
   "cell_type": "code",
   "execution_count": null,
   "metadata": {},
   "outputs": [],
   "source": []
  }
 ]
}